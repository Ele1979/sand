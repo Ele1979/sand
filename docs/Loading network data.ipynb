{
 "cells": [
  {
   "cell_type": "markdown",
   "metadata": {},
   "source": [
    "# Loading network data\n",
    "## CSV -> List of Dictionaries -> igraph\n",
    "\n",
    "`sand`'s underlying graph implementation is [`igraph`](http://igraph.org/python/). `igraph` offers several ways to load data, but `sand` provides a few convenience functions that simplify the workflow:"
   ]
  },
  {
   "cell_type": "code",
   "execution_count": 1,
   "metadata": {},
   "outputs": [],
   "source": [
    "import sand"
   ]
  },
  {
   "cell_type": "markdown",
   "metadata": {
    "collapsed": true
   },
   "source": [
    "### Read network data from csv with `csv_to_dicts`\n",
    "\n",
    "`csv_to_dicts` reads a CSV into a list of [Python dictionaries](https://docs.python.org/3/tutorial/datastructures.html#dictionaries). Each column in the CSV becomes a corresponding key in each dictionary.\n",
    "\n",
    "Let's load a CSV with function dependencies in a Clojure library from [`lein-topology`](https://github.com/testedminds/lein-topology) into a list of Dictionaries:"
   ]
  },
  {
   "cell_type": "code",
   "execution_count": 2,
   "metadata": {},
   "outputs": [
    {
     "data": {
      "text/plain": [
       "[OrderedDict([('source', 'topology.dependencies/dependencies'),\n",
       "              ('target', 'clojure.core/defn-'),\n",
       "              ('weight', '1')]),\n",
       " OrderedDict([('source',\n",
       "               'topology.edgelist-test/syntax-quotes-add-seq-concat-list'),\n",
       "              ('target', 'clojure.core/filter'),\n",
       "              ('weight', '1')]),\n",
       " OrderedDict([('source',\n",
       "               'topology.dependencies-test/should-compute-fn-calls-in-namespace'),\n",
       "              ('target', 'clojure.core/defn'),\n",
       "              ('weight', '1')]),\n",
       " OrderedDict([('source', 'example/test-when'),\n",
       "              ('target', 'clojure.core/cons'),\n",
       "              ('weight', '1')]),\n",
       " OrderedDict([('source', 'leiningen.topology/topology'),\n",
       "              ('target', 'org.clojure/clojure'),\n",
       "              ('weight', '1')])]"
      ]
     },
     "execution_count": 2,
     "metadata": {},
     "output_type": "execute_result"
    }
   ],
   "source": [
    "edgelist_file = './data/lein-topology-57af741.csv'\n",
    "edgelist_data = sand.csv_to_dicts(edgelist_file,header=['source', 'target', 'weight'])\n",
    "edgelist_data[:5]"
   ]
  },
  {
   "cell_type": "markdown",
   "metadata": {},
   "source": [
    "### Use `from_edges` with an adjacency list consisting of two vertex names and an edge weight"
   ]
  },
  {
   "cell_type": "code",
   "execution_count": 3,
   "metadata": {},
   "outputs": [
    {
     "data": {
      "text/plain": [
       "'IGRAPH DNW- 107 206 -- \\n+ attr: group (v), indegree (v), label (v), name (v), outdegree (v), weight (e)'"
      ]
     },
     "execution_count": 3,
     "metadata": {},
     "output_type": "execute_result"
    }
   ],
   "source": [
    "functions = sand.from_edges(edgelist_data)\n",
    "functions.summary()"
   ]
  },
  {
   "cell_type": "markdown",
   "metadata": {},
   "source": [
    "### ... or use `from_vertices_and_edges` with two lists of dictionaries\n",
    "\n",
    "A richer network model includes attributes on the vertex and edge collections, including unique identifiers for each vertex. \n",
    "\n",
    "We can use Jupyter's cell magic to generate some sample data. Here we'll represent a network of students reviewing one another's work. Students (vertices) will be in `people.csv` and reviews (edges) will be in `reviews.csv`:"
   ]
  },
  {
   "cell_type": "code",
   "execution_count": 4,
   "metadata": {},
   "outputs": [],
   "source": [
    "people_file = './data/people.csv'"
   ]
  },
  {
   "cell_type": "code",
   "execution_count": 5,
   "metadata": {},
   "outputs": [
    {
     "name": "stdout",
     "output_type": "stream",
     "text": [
      "Overwriting ./data/people.csv\n"
     ]
    }
   ],
   "source": [
    "%%writefile $people_file\n",
    "uuid,name,cohort\n",
    "6aacd73c-0be5-412d-95a3-ca54149c9952,Mark Taylor,Day 1 - Period 6\n",
    "5205741f-3ea9-4c30-9c50-4bab229a51ce,Aidin Aslani,Day 1 - Period 6\n",
    "14a36491-5a3d-42c9-b012-6a53654d9bac,Charlie Brown,Day 1 - Period 2\n",
    "9dc7633a-e493-4ec0-a252-8616f2148705,Armin Norton,Day 1 - Period 2"
   ]
  },
  {
   "cell_type": "code",
   "execution_count": 6,
   "metadata": {},
   "outputs": [],
   "source": [
    "review_file = './data/reviews.csv'"
   ]
  },
  {
   "cell_type": "code",
   "execution_count": 7,
   "metadata": {},
   "outputs": [
    {
     "name": "stdout",
     "output_type": "stream",
     "text": [
      "Overwriting ./data/reviews.csv\n"
     ]
    }
   ],
   "source": [
    "%%writefile $review_file\n",
    "reviewer_uuid,student_uuid,feedback,date,weight\n",
    "6aacd73c-0be5-412d-95a3-ca54149c9952,14a36491-5a3d-42c9-b012-6a53654d9bac,Awesome work!,2015-02-12,1\n",
    "5205741f-3ea9-4c30-9c50-4bab229a51ce,9dc7633a-e493-4ec0-a252-8616f2148705,WOW!,2014-02-12,1"
   ]
  },
  {
   "cell_type": "markdown",
   "metadata": {},
   "source": [
    "We again load this data into Lists of Dictionaries with `csv_to_dicts`:"
   ]
  },
  {
   "cell_type": "code",
   "execution_count": 8,
   "metadata": {},
   "outputs": [
    {
     "data": {
      "text/plain": [
       "[OrderedDict([('uuid', '6aacd73c-0be5-412d-95a3-ca54149c9952'),\n",
       "              ('name', 'Mark Taylor'),\n",
       "              ('cohort', 'Day 1 - Period 6')]),\n",
       " OrderedDict([('uuid', '5205741f-3ea9-4c30-9c50-4bab229a51ce'),\n",
       "              ('name', 'Aidin Aslani'),\n",
       "              ('cohort', 'Day 1 - Period 6')]),\n",
       " OrderedDict([('uuid', '14a36491-5a3d-42c9-b012-6a53654d9bac'),\n",
       "              ('name', 'Charlie Brown'),\n",
       "              ('cohort', 'Day 1 - Period 2')]),\n",
       " OrderedDict([('uuid', '9dc7633a-e493-4ec0-a252-8616f2148705'),\n",
       "              ('name', 'Armin Norton'),\n",
       "              ('cohort', 'Day 1 - Period 2')])]"
      ]
     },
     "execution_count": 8,
     "metadata": {},
     "output_type": "execute_result"
    }
   ],
   "source": [
    "people_data = sand.csv_to_dicts(people_file)\n",
    "people_data"
   ]
  },
  {
   "cell_type": "code",
   "execution_count": 9,
   "metadata": {},
   "outputs": [
    {
     "data": {
      "text/plain": [
       "[OrderedDict([('reviewer_uuid', '6aacd73c-0be5-412d-95a3-ca54149c9952'),\n",
       "              ('student_uuid', '14a36491-5a3d-42c9-b012-6a53654d9bac'),\n",
       "              ('feedback', 'Awesome work!'),\n",
       "              ('date', '2015-02-12'),\n",
       "              ('weight', '1')]),\n",
       " OrderedDict([('reviewer_uuid', '5205741f-3ea9-4c30-9c50-4bab229a51ce'),\n",
       "              ('student_uuid', '9dc7633a-e493-4ec0-a252-8616f2148705'),\n",
       "              ('feedback', 'WOW!'),\n",
       "              ('date', '2014-02-12'),\n",
       "              ('weight', '1')])]"
      ]
     },
     "execution_count": 9,
     "metadata": {},
     "output_type": "execute_result"
    }
   ],
   "source": [
    "review_data = sand.csv_to_dicts(review_file)\n",
    "review_data"
   ]
  },
  {
   "cell_type": "code",
   "execution_count": 10,
   "metadata": {},
   "outputs": [
    {
     "data": {
      "text/plain": [
       "'IGRAPH DNW- 4 2 -- \\n+ attr: cohort (v), group (v), indegree (v), label (v), name (v), outdegree (v), uuid (v), date (e), feedback (e), reviewer_uuid (e), student_uuid (e), weight (e)'"
      ]
     },
     "execution_count": 10,
     "metadata": {},
     "output_type": "execute_result"
    }
   ],
   "source": [
    "reviews = sand.from_vertices_and_edges(\n",
    "                    vertices=people_data, \n",
    "                    edges=review_data, \n",
    "                    vertex_name_key='name', \n",
    "                    vertex_id_key='uuid', \n",
    "                    edge_foreign_keys=('reviewer_uuid', 'student_uuid'))\n",
    "reviews.summary()"
   ]
  },
  {
   "cell_type": "markdown",
   "metadata": {},
   "source": [
    "### Several vertex attributes are automatically computed when the graph is loaded:"
   ]
  },
  {
   "cell_type": "code",
   "execution_count": 11,
   "metadata": {},
   "outputs": [
    {
     "data": {
      "text/plain": [
       "[0, 0, 1, 1]"
      ]
     },
     "execution_count": 11,
     "metadata": {},
     "output_type": "execute_result"
    }
   ],
   "source": [
    "reviews.vs['indegree']"
   ]
  },
  {
   "cell_type": "code",
   "execution_count": 12,
   "metadata": {},
   "outputs": [
    {
     "data": {
      "text/plain": [
       "[1, 1, 0, 0]"
      ]
     },
     "execution_count": 12,
     "metadata": {},
     "output_type": "execute_result"
    }
   ],
   "source": [
    "reviews.vs['outdegree']"
   ]
  },
  {
   "cell_type": "code",
   "execution_count": 13,
   "metadata": {},
   "outputs": [
    {
     "data": {
      "text/plain": [
       "['Mark Taylor', 'Aidin Aslani', 'Charlie Brown', 'Armin Norton']"
      ]
     },
     "execution_count": 13,
     "metadata": {},
     "output_type": "execute_result"
    }
   ],
   "source": [
    "reviews.vs['label']"
   ]
  },
  {
   "cell_type": "code",
   "execution_count": 14,
   "metadata": {},
   "outputs": [
    {
     "data": {
      "text/plain": [
       "['Mark Taylor', 'Aidin Aslani', 'Charlie Brown', 'Armin Norton']"
      ]
     },
     "execution_count": 14,
     "metadata": {},
     "output_type": "execute_result"
    }
   ],
   "source": [
    "reviews.vs['name']"
   ]
  },
  {
   "cell_type": "markdown",
   "metadata": {},
   "source": [
    "### Groups"
   ]
  },
  {
   "cell_type": "markdown",
   "metadata": {},
   "source": [
    "Groups represent modules or communities in the network. Groups are based on the labels by default."
   ]
  },
  {
   "cell_type": "code",
   "execution_count": 15,
   "metadata": {},
   "outputs": [
    {
     "data": {
      "text/plain": [
       "[2, 0, 3, 1]"
      ]
     },
     "execution_count": 15,
     "metadata": {},
     "output_type": "execute_result"
    }
   ],
   "source": [
    "reviews.vs['group']"
   ]
  },
  {
   "cell_type": "markdown",
   "metadata": {},
   "source": [
    "The vertices in the `lein topology` data set contain fully-qualified namespaces for functions. Grouping by name isn't particularly useful here:"
   ]
  },
  {
   "cell_type": "code",
   "execution_count": 16,
   "metadata": {},
   "outputs": [
    {
     "data": {
      "text/plain": [
       "107"
      ]
     },
     "execution_count": 16,
     "metadata": {},
     "output_type": "execute_result"
    }
   ],
   "source": [
    "len(set(functions.vs['group']))"
   ]
  },
  {
   "cell_type": "code",
   "execution_count": 17,
   "metadata": {},
   "outputs": [
    {
     "data": {
      "text/plain": [
       "107"
      ]
     },
     "execution_count": 17,
     "metadata": {},
     "output_type": "execute_result"
    }
   ],
   "source": [
    "len(functions.vs)"
   ]
  },
  {
   "cell_type": "markdown",
   "metadata": {},
   "source": [
    "Because `sand` was build specifically for analyzing software and system networks, a `fqn_to_groups` grouping function is built in:"
   ]
  },
  {
   "cell_type": "code",
   "execution_count": 18,
   "metadata": {},
   "outputs": [],
   "source": [
    "functions.vs['group'] = sand.fqn_to_groups(functions.vs['label'])"
   ]
  },
  {
   "cell_type": "code",
   "execution_count": 19,
   "metadata": {},
   "outputs": [
    {
     "data": {
      "text/plain": [
       "20"
      ]
     },
     "execution_count": 19,
     "metadata": {},
     "output_type": "execute_result"
    }
   ],
   "source": [
    "len(set(functions.vs['group']))"
   ]
  },
  {
   "cell_type": "markdown",
   "metadata": {},
   "source": [
    "This is a much more managable number of groups. We'll see one way that these groups are useful when we render a visualization of the network:\n",
    "\n",
    "* [matrix visualization with Bokeh](./Matrix%20visualization%20with%20Bokeh.ipynb)\n",
    "* [network visualization with Cytoscape](./Visualization%20with%20Cytoscape.ipynb)"
   ]
  }
 ],
 "metadata": {
  "kernelspec": {
   "display_name": "Python 3",
   "language": "python",
   "name": "python3"
  },
  "language_info": {
   "codemirror_mode": {
    "name": "ipython",
    "version": 3
   },
   "file_extension": ".py",
   "mimetype": "text/x-python",
   "name": "python",
   "nbconvert_exporter": "python",
   "pygments_lexer": "ipython3",
   "version": "3.7.1"
  }
 },
 "nbformat": 4,
 "nbformat_minor": 2
}
