{
 "cells": [
  {
   "cell_type": "markdown",
   "metadata": {},
   "source": [
    "# Exploratory Workflow\n",
    "\n",
    "If you are looking at network data for the first time, use this workflow.\n",
    "\n",
    "If you are updating a network diagram based on changes made from an earlier session, use the [Iteration Workflow](./iteration_workflow.ipynb)."
   ]
  },
  {
   "cell_type": "code",
   "execution_count": null,
   "metadata": {
    "collapsed": false
   },
   "outputs": [],
   "source": [
    "from py2cytoscape.data.cynetwork import CyNetwork\n",
    "from py2cytoscape.data.cyrest_client import CyRestClient\n",
    "from py2cytoscape.data.style import StyleUtil\n",
    "\n",
    "import py2cytoscape.util.cytoscapejs as cyjs\n",
    "import py2cytoscape.cytoscapejs as renderer\n",
    "\n",
    "import igraph as igraph\n",
    "import pandas as pd\n",
    "import json\n",
    "import numpy as np\n",
    "\n",
    "import sand.io as io\n",
    "import sand.graph as sg\n",
    "import sand.cytoscape.positions as scp"
   ]
  },
  {
   "cell_type": "code",
   "execution_count": 487,
   "metadata": {
    "collapsed": false
   },
   "outputs": [],
   "source": [
    "commit = \"exercise\"\n",
    "network_collection_name = \"process\"\n",
    "# You might also want to use %cd magic to change to a different working directory.\n",
    "data_path = \"./data/\" + network_collection_name + \"-\" + commit\n",
    "edge_file = data_path + \".csv\"\n",
    "positions_file = data_path + \"-positions.csv\""
   ]
  },
  {
   "cell_type": "code",
   "execution_count": 502,
   "metadata": {
    "collapsed": false
   },
   "outputs": [
    {
     "name": "stdout",
     "output_type": "stream",
     "text": [
      "Overwriting ./data/process-exercise.csv\n"
     ]
    }
   ],
   "source": [
    "%%writefile $edge_file\n",
    "LeadGen/Attend Meetups,LeadGen/Business with Software Problem,1\n",
    "LeadActivation/Gathering leads from website,LeadGen/Attend Meetups,1\n",
    "Discovery/Gather info during assessment,LeadActivation/Gathering leads from website,1"
   ]
  },
  {
   "cell_type": "code",
   "execution_count": 503,
   "metadata": {
    "collapsed": false
   },
   "outputs": [],
   "source": [
    "edgelist = io.csv_to_edgelist(edge_file)\n",
    "g = sg.edgelist_to_igraph(edgelist)"
   ]
  },
  {
   "cell_type": "code",
   "execution_count": 504,
   "metadata": {
    "collapsed": false
   },
   "outputs": [
    {
     "data": {
      "text/plain": [
       "'IGRAPH D-W- 4 3 -- \\n+ attr: label (v), weight (e)'"
      ]
     },
     "execution_count": 504,
     "metadata": {},
     "output_type": "execute_result"
    }
   ],
   "source": [
    "g.summary()"
   ]
  },
  {
   "cell_type": "code",
   "execution_count": 505,
   "metadata": {
    "collapsed": false
   },
   "outputs": [
    {
     "data": {
      "text/plain": [
       "'LeadGen/Attend Meetups'"
      ]
     },
     "execution_count": 505,
     "metadata": {},
     "output_type": "execute_result"
    }
   ],
   "source": [
    "# Access vertex attributes\n",
    "g.vs[0]['label']"
   ]
  },
  {
   "cell_type": "code",
   "execution_count": null,
   "metadata": {
    "collapsed": false
   },
   "outputs": [],
   "source": [
    "g.is_weighted()"
   ]
  },
  {
   "cell_type": "markdown",
   "metadata": {},
   "source": [
    "A loop is an edge for which both ends connect to a single vertex.\n",
    "A pair of vertices with more than one edge between them is a multi-edge.\n",
    "\n",
    "A multi-graph is a graph with loops or multi-edges.\n",
    "\n",
    "A graph that is not a multi-graph is called a simple graph, and its edges are referred to as proper edges.\n",
    "\n",
    "Checking whether or not a network is simple is an important preliminary step in doing a typical network analysis, as many models and methods assume the input graph to be simple or behave differently if it is not."
   ]
  },
  {
   "cell_type": "code",
   "execution_count": null,
   "metadata": {
    "collapsed": false
   },
   "outputs": [],
   "source": [
    "g.is_simple()"
   ]
  },
  {
   "cell_type": "code",
   "execution_count": null,
   "metadata": {
    "collapsed": false
   },
   "outputs": [],
   "source": [
    "g.is_directed()"
   ]
  },
  {
   "cell_type": "markdown",
   "metadata": {},
   "source": [
    "A DAG is a directed graph with no directed cycles."
   ]
  },
  {
   "cell_type": "code",
   "execution_count": null,
   "metadata": {
    "collapsed": false
   },
   "outputs": [],
   "source": [
    "g.is_dag()"
   ]
  },
  {
   "cell_type": "markdown",
   "metadata": {},
   "source": [
    "A vertex $v$ in a graph $G$ is said to be _reachable_ from another vertex $u$ if there exists a walk from $u$ to $v$. A graph is said to be _connected_ if every vertex is reachable from every other. [SANDR - p 23] A connected graph with no cycles is called a _tree_.\n",
    "\n",
    "A digraph $G$ is _weakly connected_ if its underlying graph (i.e., the result of stripping away the labels 'source' and 'target' from $G$) is connected.\n",
    "It is called _strongly connected_ if every vertex $v$ is reachable from every $u$ by a directed walk. "
   ]
  },
  {
   "cell_type": "code",
   "execution_count": null,
   "metadata": {
    "collapsed": false
   },
   "outputs": [],
   "source": [
    "g.is_connected(mode=\"weak\")"
   ]
  },
  {
   "cell_type": "code",
   "execution_count": null,
   "metadata": {
    "collapsed": false
   },
   "outputs": [],
   "source": [
    "g.is_connected(mode=\"strong\")"
   ]
  },
  {
   "cell_type": "markdown",
   "metadata": {},
   "source": [
    "A common notion of distance between vertices on a graph is defined as the length of the shortest path(s) between the vertices. The value of the longest distance in a graph is called the _diameter_ of the graph."
   ]
  },
  {
   "cell_type": "code",
   "execution_count": null,
   "metadata": {
    "collapsed": false
   },
   "outputs": [],
   "source": [
    "g.diameter()"
   ]
  },
  {
   "cell_type": "code",
   "execution_count": null,
   "metadata": {
    "collapsed": false
   },
   "outputs": [],
   "source": [
    "g.average_path_length()"
   ]
  },
  {
   "cell_type": "markdown",
   "metadata": {},
   "source": [
    "The following are vertex attributes computed from the network structure that we want to save and use in the visualization and analysis:"
   ]
  },
  {
   "cell_type": "code",
   "execution_count": null,
   "metadata": {
    "collapsed": false
   },
   "outputs": [],
   "source": [
    "indegree  = g.degree(mode=\"in\")\n",
    "g.vs['indegree'] = indegree\n",
    "outdegree = g.degree(mode=\"out\")\n",
    "g.vs['outdegree'] = outdegree"
   ]
  },
  {
   "cell_type": "code",
   "execution_count": null,
   "metadata": {
    "collapsed": false
   },
   "outputs": [],
   "source": [
    "degrees = {v['label']: {'indegree': v['indegree'], 'outdegree': v['outdegree']} for v in g.vs}"
   ]
  },
  {
   "cell_type": "markdown",
   "metadata": {},
   "source": [
    "## Properties of namespaces\n",
    "\n",
    "### What is the degree distribution among vertex namespaces?"
   ]
  },
  {
   "cell_type": "code",
   "execution_count": null,
   "metadata": {
    "collapsed": false
   },
   "outputs": [],
   "source": [
    "from itertools import groupby\n",
    "\n",
    "sorted_degrees = sorted(degrees.items(), key=lambda tup: tup[0])\n",
    "\n",
    "ns_degrees = {}\n",
    "for key, group in groupby(sorted_degrees, lambda x: x[0].split('/')[0]):\n",
    "    outdegrees = []\n",
    "    indegrees = []\n",
    "    for entry in group:\n",
    "        outdegrees.append(entry[1]['outdegree'])\n",
    "        indegrees.append(entry[1]['indegree'])\n",
    "    ns_degrees[key] = {'indegree': sum(indegrees), 'outdegree': sum(outdegrees)}"
   ]
  },
  {
   "cell_type": "code",
   "execution_count": null,
   "metadata": {
    "collapsed": false
   },
   "outputs": [],
   "source": [
    "[[key,value['outdegree']] for (key, value) in ns_degrees.items()]"
   ]
  },
  {
   "cell_type": "code",
   "execution_count": null,
   "metadata": {
    "collapsed": false
   },
   "outputs": [],
   "source": [
    "[[key,value['indegree']] for (key, value) in ns_degrees.items()]"
   ]
  },
  {
   "cell_type": "markdown",
   "metadata": {},
   "source": [
    "## Explore the network of namespaces"
   ]
  },
  {
   "cell_type": "code",
   "execution_count": null,
   "metadata": {
    "collapsed": false
   },
   "outputs": [],
   "source": [
    "ns_edges = {}\n",
    "\n",
    "from collections import namedtuple\n",
    "Edge = namedtuple('Edge', ['source', 'target'])\n",
    "\n",
    "def fqn_to_ns(fqn):\n",
    "    return fqn.split('/')[0]"
   ]
  },
  {
   "cell_type": "code",
   "execution_count": null,
   "metadata": {
    "collapsed": false
   },
   "outputs": [],
   "source": [
    "for e in edgelist:\n",
    "    k = Edge(source=fqn_to_ns(e['source']), target=fqn_to_ns(e['target']))\n",
    "    v = 1 if not ns_edges.has_key(k) else (ns_edges[k] + int(e['weight']))\n",
    "    ns_edges[k] = v"
   ]
  },
  {
   "cell_type": "code",
   "execution_count": null,
   "metadata": {
    "collapsed": false
   },
   "outputs": [],
   "source": [
    "ns_edges.items()[0:5]"
   ]
  },
  {
   "cell_type": "code",
   "execution_count": null,
   "metadata": {
    "collapsed": false
   },
   "outputs": [],
   "source": [
    "ns_vertices = set()\n",
    "for e in ns_edges.keys():\n",
    "    ns_vertices.add(e.source)\n",
    "    ns_vertices.add(e.target)"
   ]
  },
  {
   "cell_type": "code",
   "execution_count": null,
   "metadata": {
    "collapsed": false
   },
   "outputs": [],
   "source": [
    "ns_vertices"
   ]
  },
  {
   "cell_type": "code",
   "execution_count": null,
   "metadata": {
    "collapsed": false
   },
   "outputs": [],
   "source": [
    "ns_graph = igraph.Graph(directed=True)\n",
    "ns_graph.add_vertices(list(ns_vertices))\n",
    "\n",
    "for e in ns_edges.items():\n",
    "    ns_graph.add_edge(e[0].source, e[0].target, weight=e[1], directed=True)"
   ]
  },
  {
   "cell_type": "code",
   "execution_count": null,
   "metadata": {
    "collapsed": false
   },
   "outputs": [],
   "source": [
    "ns_graph.summary()"
   ]
  },
  {
   "cell_type": "code",
   "execution_count": null,
   "metadata": {
    "collapsed": false
   },
   "outputs": [],
   "source": [
    "# Create a list of patterns for all namespaces that we want to keep:\n",
    "ns_names_to_keep = ['topology', 'clojure.java.io', 'clojure.repl', 'clojure.tools.namespace.file', 'clojure.zip']\n",
    "\n",
    "ns_interest = ns_graph.vs(lambda v: any(match in v['name'] for match in ns_names_to_keep))\n",
    "\n",
    "ns_subgraph = ns_graph.subgraph(ns_interest)\n",
    "ns_subgraph.simplify() # Remove loops\n",
    "ns_subgraph.summary()"
   ]
  },
  {
   "cell_type": "markdown",
   "metadata": {},
   "source": [
    "## Load into Cytoscape with a default layout"
   ]
  },
  {
   "cell_type": "code",
   "execution_count": 506,
   "metadata": {
    "collapsed": false
   },
   "outputs": [],
   "source": [
    "# Create py2cytoscape client\n",
    "cy = CyRestClient()"
   ]
  },
  {
   "cell_type": "code",
   "execution_count": 493,
   "metadata": {
    "collapsed": true
   },
   "outputs": [],
   "source": [
    "cy.session.delete()"
   ]
  },
  {
   "cell_type": "code",
   "execution_count": 507,
   "metadata": {
    "collapsed": true
   },
   "outputs": [],
   "source": [
    "ns_network = cy.network.create_from_igraph(g, name=\"namespaces\", collection=network_collection_name)"
   ]
  },
  {
   "cell_type": "code",
   "execution_count": 508,
   "metadata": {
    "collapsed": false
   },
   "outputs": [
    {
     "data": {
      "text/plain": [
       "5642"
      ]
     },
     "execution_count": 508,
     "metadata": {},
     "output_type": "execute_result"
    }
   ],
   "source": [
    "ns_network_id = ns_network.get_id()\n",
    "ns_network_id"
   ]
  },
  {
   "cell_type": "code",
   "execution_count": 509,
   "metadata": {
    "collapsed": false
   },
   "outputs": [],
   "source": [
    "# Apply layout\n",
    "cy.layout.apply(name='force-directed', network=ns_network)"
   ]
  },
  {
   "cell_type": "markdown",
   "metadata": {},
   "source": [
    "## Apply Style"
   ]
  },
  {
   "cell_type": "code",
   "execution_count": 510,
   "metadata": {
    "collapsed": true
   },
   "outputs": [],
   "source": [
    "# Get a reference to the existing style\n",
    "curved = cy.style.create('Curved_1')"
   ]
  },
  {
   "cell_type": "code",
   "execution_count": 511,
   "metadata": {
    "collapsed": false
   },
   "outputs": [],
   "source": [
    "# Map the label property in the igraph data to Cytoscape's NODE_LABEL visual property\n",
    "curved.create_passthrough_mapping(column='label', vp='NODE_LABEL', col_type='String')\n",
    "\n",
    "cy.style.apply(curved, ns_network)"
   ]
  },
  {
   "cell_type": "markdown",
   "metadata": {},
   "source": [
    "## Explore in Cytoscape\n",
    "\n",
    "At this point, we have a list of interesting namespaces laid out in Cytoscape. We can now start visually exploring to look for interesting features to dig into more deeply.\n",
    "\n",
    "When this step is done, we can move on to looking at the function network beyond just the namespaces."
   ]
  },
  {
   "cell_type": "markdown",
   "metadata": {},
   "source": [
    "## Extract the subgraph of local namespaces from the full graph\n",
    "\n",
    "There are some analyses where it will be useful to see all the vertices. For the high-level architecture diagram, we can focus on the library's namespaces."
   ]
  },
  {
   "cell_type": "code",
   "execution_count": null,
   "metadata": {
    "collapsed": false
   },
   "outputs": [],
   "source": [
    "# List all patterns of vertex names that we want to keep:\n",
    "names_to_keep = ['topology', 'clojure.core/*err*', 'clojure.core/println']"
   ]
  },
  {
   "cell_type": "code",
   "execution_count": null,
   "metadata": {
    "collapsed": false
   },
   "outputs": [],
   "source": [
    "lv = g.vs(lambda v: any(match in v['label'] for match in names_to_keep))\n",
    "\n",
    "# lg...the local graph\n",
    "lg = g.subgraph(lv, implementation='copy_and_delete')"
   ]
  },
  {
   "cell_type": "code",
   "execution_count": null,
   "metadata": {
    "collapsed": false
   },
   "outputs": [],
   "source": [
    "# Copy the label attribute to name so that cytoscape will pick it up without extra mapping\n",
    "lg.vs['name'] = lg.vs['label']\n",
    "lg.summary()"
   ]
  },
  {
   "cell_type": "code",
   "execution_count": null,
   "metadata": {
    "collapsed": false
   },
   "outputs": [],
   "source": [
    "# Visualize in Cytoscape\n",
    "fn_network = cy.network.create_from_igraph(lg, name=commit, collection=network_collection_name)\n",
    "cy.layout.apply(name='force-directed', network=fn_network)\n",
    "cy.style.apply(curved, fn_network)"
   ]
  },
  {
   "cell_type": "markdown",
   "metadata": {},
   "source": [
    "### Map attributes to visual properties"
   ]
  },
  {
   "cell_type": "code",
   "execution_count": null,
   "metadata": {
    "collapsed": true
   },
   "outputs": [],
   "source": [
    "# degrees = fn_network.get_node_column('outdegree')\n",
    "\n",
    "# Scale color of nodes\n",
    "# color_gradient = StyleUtil.create_2_color_gradient(min=1, max=degrees.max(), colors=('white', '#FFCC00'))\n",
    "# curved.create_continuous_mapping(column='outdegree', vp='NODE_FILL_COLOR', col_type='Double', points=color_gradient)\n",
    "\n",
    "# Scale size of nodes\n",
    "# degree_to_size = StyleUtil.create_slope(min=0, max=degrees.max(), values=(30, 80))\n",
    "# curved.create_continuous_mapping(column='outdegree', vp='NODE_HEIGHT', col_type='Double', points=degree_to_size)\n",
    "# curved.create_continuous_mapping(column='outdegree', vp='NODE_WIDTH', col_type='Double', points=degree_to_size)\n",
    "# curved.create_continuous_mapping(column='outdegree', vp='NODE_LABEL_FONT_SIZE', col_type='Double', points=degree_to_size)"
   ]
  },
  {
   "cell_type": "code",
   "execution_count": null,
   "metadata": {
    "collapsed": true
   },
   "outputs": [],
   "source": [
    "# BUG: All weights are 1 because igraph's subgraph method loses the weight attribute.\n",
    "# weights = fn_network.get_edge_column('weight')\n",
    "\n",
    "# weight_to_size = StyleUtil.create_slope(min=weights.min(), max=weights.max(), values=(2,10))\n",
    "# curved.create_continuous_mapping(column='weight', vp=\"EDGE_WIDTH\", col_type='Double', points=weight_to_size)"
   ]
  },
  {
   "cell_type": "code",
   "execution_count": null,
   "metadata": {
    "collapsed": false
   },
   "outputs": [],
   "source": [
    "cy.style.apply(curved, fn_network)\n",
    "\n",
    "# Note that there are still a couple of manual steps using the default Curved.\n",
    "# Uncheck 'Lock node width and height'\n",
    "# Remove the default size mapping"
   ]
  },
  {
   "cell_type": "markdown",
   "metadata": {},
   "source": [
    "## Save the updated layout coordinates after making changes\n",
    "\n",
    "One benefit of this workflow over solutions that just render static diagrams is the ability to make changes manually to the network layout in Cytoscape.\n",
    "\n",
    "After making changes, save the coordinates for a later session using the [Iteration Workflow](./iteration_workflow.ipynb)."
   ]
  },
  {
   "cell_type": "code",
   "execution_count": null,
   "metadata": {
    "collapsed": false
   },
   "outputs": [],
   "source": [
    "positions_file = data_path + \"-positions.csv\"\n",
    "\n",
    "## scp.positions_to_csv(network=fn_network, path=positions_file)\n",
    "scp.positions_to_csv(network=ns_network, path=positions_file)"
   ]
  },
  {
   "cell_type": "markdown",
   "metadata": {},
   "source": [
    "You can now safely close Cytoscape."
   ]
  },
  {
   "cell_type": "markdown",
   "metadata": {},
   "source": [
    "## Future Work"
   ]
  },
  {
   "cell_type": "markdown",
   "metadata": {},
   "source": [
    "### Interpretation of articulation points\n",
    "\n",
    "A vertex is an articulation point if its removal increases the number of connected components in the graph:"
   ]
  },
  {
   "cell_type": "code",
   "execution_count": null,
   "metadata": {
    "collapsed": false
   },
   "outputs": [],
   "source": [
    "g.vs(g.articulation_points())['label']"
   ]
  },
  {
   "cell_type": "markdown",
   "metadata": {},
   "source": [
    "What are the implications of these articulation points in the domain of function dependency graphs? We'd need to look at several examples across multiple applications. In the context of a larger system architecture, these might indicate single points of failure that would partition the system."
   ]
  }
 ],
 "metadata": {
  "kernelspec": {
   "display_name": "Python 2",
   "language": "python",
   "name": "python2"
  },
  "language_info": {
   "codemirror_mode": {
    "name": "ipython",
    "version": 2
   },
   "file_extension": ".py",
   "mimetype": "text/x-python",
   "name": "python",
   "nbconvert_exporter": "python",
   "pygments_lexer": "ipython2",
   "version": "2.7.12"
  }
 },
 "nbformat": 4,
 "nbformat_minor": 0
}
