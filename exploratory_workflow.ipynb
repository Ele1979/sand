{
 "cells": [
  {
   "cell_type": "markdown",
   "metadata": {},
   "source": [
    "# Exploratory Workflow\n",
    "\n",
    "If you are looking at network data for the first time, use this workflow.\n",
    "\n",
    "If you are updating a network diagram based on changes made from an earlier session, use the [Iteration Workflow](./iteration_workflow.ipynb)."
   ]
  },
  {
   "cell_type": "code",
   "execution_count": 126,
   "metadata": {
    "collapsed": false
   },
   "outputs": [],
   "source": [
    "from py2cytoscape.data.cynetwork import CyNetwork\n",
    "from py2cytoscape.data.cyrest_client import CyRestClient\n",
    "from py2cytoscape.data.style import StyleUtil\n",
    "\n",
    "import py2cytoscape.util.cytoscapejs as cyjs\n",
    "import py2cytoscape.cytoscapejs as renderer\n",
    "\n",
    "import igraph as igraph\n",
    "import pandas as pd\n",
    "import json\n",
    "import numpy as np\n",
    "\n",
    "import sand.io as io\n",
    "import sand.graph as sg\n",
    "import sand.cytoscape.positions as scp"
   ]
  },
  {
   "cell_type": "code",
   "execution_count": 127,
   "metadata": {
    "collapsed": false
   },
   "outputs": [],
   "source": [
    "commit = \"28cf190\"\n",
    "network_collection_name = \"lein-topology\""
   ]
  },
  {
   "cell_type": "code",
   "execution_count": 128,
   "metadata": {
    "collapsed": false
   },
   "outputs": [],
   "source": [
    "# You might also want to use %cd magic to change to a different working directory.\n",
    "data_path = \"./data/\" + network_collection_name + \"-\" + commit\n",
    "edge_file = data_path + \".csv\"\n",
    "edgelist = io.csv_to_edgelist(edge_file)\n",
    "g = sg.edgelist_to_igraph(edgelist)"
   ]
  },
  {
   "cell_type": "code",
   "execution_count": 129,
   "metadata": {
    "collapsed": false
   },
   "outputs": [
    {
     "data": {
      "text/plain": [
       "'IGRAPH D-W- 107 206 -- \\n+ attr: label (v), weight (e)'"
      ]
     },
     "execution_count": 129,
     "metadata": {},
     "output_type": "execute_result"
    }
   ],
   "source": [
    "g.summary()"
   ]
  },
  {
   "cell_type": "code",
   "execution_count": 130,
   "metadata": {
    "collapsed": false
   },
   "outputs": [
    {
     "data": {
      "text/plain": [
       "'topology.dependencies/dependencies'"
      ]
     },
     "execution_count": 130,
     "metadata": {},
     "output_type": "execute_result"
    }
   ],
   "source": [
    "# Access vertex attributes\n",
    "g.vs[0]['label']"
   ]
  },
  {
   "cell_type": "code",
   "execution_count": 131,
   "metadata": {
    "collapsed": false
   },
   "outputs": [
    {
     "data": {
      "text/plain": [
       "True"
      ]
     },
     "execution_count": 131,
     "metadata": {},
     "output_type": "execute_result"
    }
   ],
   "source": [
    "g.is_weighted()"
   ]
  },
  {
   "cell_type": "markdown",
   "metadata": {},
   "source": [
    "A loop is an edge for which both ends connect to a single vertex.\n",
    "A pair of vertices with more than one edge between them is a multi-edge.\n",
    "\n",
    "A multi-graph is a graph with loops or multi-edges.\n",
    "\n",
    "A graph that is not a multi-graph is called a simple graph, and its edges are referred to as proper edges.\n",
    "\n",
    "Checking whether or not a network is simple is an important preliminary step in doing a typical network analysis, as many models and methods assume the input graph to be simple or behave differently if it is not."
   ]
  },
  {
   "cell_type": "code",
   "execution_count": 132,
   "metadata": {
    "collapsed": false
   },
   "outputs": [
    {
     "data": {
      "text/plain": [
       "True"
      ]
     },
     "execution_count": 132,
     "metadata": {},
     "output_type": "execute_result"
    }
   ],
   "source": [
    "g.is_simple()"
   ]
  },
  {
   "cell_type": "code",
   "execution_count": 133,
   "metadata": {
    "collapsed": false
   },
   "outputs": [
    {
     "data": {
      "text/plain": [
       "True"
      ]
     },
     "execution_count": 133,
     "metadata": {},
     "output_type": "execute_result"
    }
   ],
   "source": [
    "g.is_directed()"
   ]
  },
  {
   "cell_type": "markdown",
   "metadata": {},
   "source": [
    "A DAG is a directed graph with no directed cycles."
   ]
  },
  {
   "cell_type": "code",
   "execution_count": 134,
   "metadata": {
    "collapsed": false
   },
   "outputs": [
    {
     "data": {
      "text/plain": [
       "True"
      ]
     },
     "execution_count": 134,
     "metadata": {},
     "output_type": "execute_result"
    }
   ],
   "source": [
    "g.is_dag()"
   ]
  },
  {
   "cell_type": "markdown",
   "metadata": {},
   "source": [
    "A vertex $v$ in a graph $G$ is said to be _reachable_ from another vertex $u$ if there exists a walk from $u$ to $v$. A graph is said to be _connected_ if every vertex is reachable from every other. [SANDR - p 23] A connected graph with no cycles is called a _tree_.\n",
    "\n",
    "A digraph $G$ is _weakly connected_ if its underlying graph (i.e., the result of stripping away the labels 'source' and 'target' from $G$) is connected.\n",
    "It is called _strongly connected_ if every vertex $v$ is reachable from every $u$ by a directed walk. "
   ]
  },
  {
   "cell_type": "code",
   "execution_count": 135,
   "metadata": {
    "collapsed": false
   },
   "outputs": [
    {
     "data": {
      "text/plain": [
       "True"
      ]
     },
     "execution_count": 135,
     "metadata": {},
     "output_type": "execute_result"
    }
   ],
   "source": [
    "g.is_connected(mode=\"weak\")"
   ]
  },
  {
   "cell_type": "code",
   "execution_count": 136,
   "metadata": {
    "collapsed": false
   },
   "outputs": [
    {
     "data": {
      "text/plain": [
       "False"
      ]
     },
     "execution_count": 136,
     "metadata": {},
     "output_type": "execute_result"
    }
   ],
   "source": [
    "g.is_connected(mode=\"strong\")"
   ]
  },
  {
   "cell_type": "markdown",
   "metadata": {},
   "source": [
    "A common notion of distance between vertices on a graph is defined as the length of the shortest path(s) between the vertices. The value of the longest distance in a graph is called the _diameter_ of the graph."
   ]
  },
  {
   "cell_type": "code",
   "execution_count": 137,
   "metadata": {
    "collapsed": false
   },
   "outputs": [
    {
     "data": {
      "text/plain": [
       "9"
      ]
     },
     "execution_count": 137,
     "metadata": {},
     "output_type": "execute_result"
    }
   ],
   "source": [
    "g.diameter()"
   ]
  },
  {
   "cell_type": "code",
   "execution_count": 138,
   "metadata": {
    "collapsed": false
   },
   "outputs": [
    {
     "data": {
      "text/plain": [
       "3.6681974741676235"
      ]
     },
     "execution_count": 138,
     "metadata": {},
     "output_type": "execute_result"
    }
   ],
   "source": [
    "g.average_path_length()"
   ]
  },
  {
   "cell_type": "markdown",
   "metadata": {},
   "source": [
    "The following are vertex attributes computed from the network structure that we want to save and use in the visualization and analysis:"
   ]
  },
  {
   "cell_type": "code",
   "execution_count": 139,
   "metadata": {
    "collapsed": false
   },
   "outputs": [],
   "source": [
    "indegree  = g.degree(mode=\"in\")\n",
    "g.vs['indegree'] = indegree\n",
    "outdegree = g.degree(mode=\"out\")\n",
    "g.vs['outdegree'] = outdegree"
   ]
  },
  {
   "cell_type": "code",
   "execution_count": 140,
   "metadata": {
    "collapsed": false
   },
   "outputs": [],
   "source": [
    "degrees = {v['label']: {'indegree': v['indegree'], 'outdegree': v['outdegree']} for v in g.vs}"
   ]
  },
  {
   "cell_type": "markdown",
   "metadata": {},
   "source": [
    "## Properties of namespaces\n",
    "\n",
    "### What is the degree distribution among vertex namespaces?"
   ]
  },
  {
   "cell_type": "code",
   "execution_count": 141,
   "metadata": {
    "collapsed": false
   },
   "outputs": [],
   "source": [
    "from itertools import groupby\n",
    "\n",
    "sorted_degrees = sorted(degrees.items(), key=lambda tup: tup[0])\n",
    "\n",
    "ns_degrees = {}\n",
    "for key, group in groupby(sorted_degrees, lambda x: x[0].split('/')[0]):\n",
    "    outdegrees = []\n",
    "    indegrees = []\n",
    "    for entry in group:\n",
    "        outdegrees.append(entry[1]['outdegree'])\n",
    "        indegrees.append(entry[1]['indegree'])\n",
    "    ns_degrees[key] = {'indegree': sum(indegrees), 'outdegree': sum(outdegrees)}"
   ]
  },
  {
   "cell_type": "code",
   "execution_count": 142,
   "metadata": {
    "collapsed": false
   },
   "outputs": [
    {
     "data": {
      "text/plain": [
       "{'clojure.core': {'indegree': 152, 'outdegree': 0},\n",
       " 'clojure.java.io': {'indegree': 1, 'outdegree': 0},\n",
       " 'clojure.repl': {'indegree': 1, 'outdegree': 0},\n",
       " 'clojure.string': {'indegree': 3, 'outdegree': 0},\n",
       " 'clojure.test': {'indegree': 8, 'outdegree': 0},\n",
       " 'clojure.tools.namespace.file': {'indegree': 2, 'outdegree': 0},\n",
       " 'clojure.zip': {'indegree': 4, 'outdegree': 0},\n",
       " 'example': {'indegree': 8, 'outdegree': 21},\n",
       " 'java.util.Collections': {'indegree': 2, 'outdegree': 0},\n",
       " 'leiningen.core.eval': {'indegree': 1, 'outdegree': 0},\n",
       " 'leiningen.topology': {'indegree': 0, 'outdegree': 12},\n",
       " 'org.clojure': {'indegree': 1, 'outdegree': 0},\n",
       " 'topology.dependencies': {'indegree': 5, 'outdegree': 36},\n",
       " 'topology.dependencies-test': {'indegree': 0, 'outdegree': 13},\n",
       " 'topology.edgelist': {'indegree': 4, 'outdegree': 13},\n",
       " 'topology.edgelist-test': {'indegree': 3, 'outdegree': 30},\n",
       " 'topology.finder': {'indegree': 4, 'outdegree': 26},\n",
       " 'topology.printer': {'indegree': 1, 'outdegree': 4},\n",
       " 'topology.qualifier': {'indegree': 3, 'outdegree': 28},\n",
       " 'topology.symbols': {'indegree': 3, 'outdegree': 23}}"
      ]
     },
     "execution_count": 142,
     "metadata": {},
     "output_type": "execute_result"
    }
   ],
   "source": [
    "ns_degrees"
   ]
  },
  {
   "cell_type": "markdown",
   "metadata": {},
   "source": [
    "## Explore the network of namespaces"
   ]
  },
  {
   "cell_type": "code",
   "execution_count": 143,
   "metadata": {
    "collapsed": false
   },
   "outputs": [],
   "source": [
    "ns_edges = {}\n",
    "\n",
    "from collections import namedtuple\n",
    "Edge = namedtuple('Edge', ['source', 'target'])\n",
    "\n",
    "def fqn_to_ns(fqn):\n",
    "    return fqn.split('/')[0]"
   ]
  },
  {
   "cell_type": "code",
   "execution_count": 144,
   "metadata": {
    "collapsed": false
   },
   "outputs": [],
   "source": [
    "for e in edgelist:\n",
    "    k = Edge(source=fqn_to_ns(e['source']), target=fqn_to_ns(e['target']))\n",
    "    v = 1 if not ns_edges.has_key(k) else (ns_edges[k] + int(e['weight']))\n",
    "    ns_edges[k] = v"
   ]
  },
  {
   "cell_type": "code",
   "execution_count": 145,
   "metadata": {
    "collapsed": false
   },
   "outputs": [
    {
     "data": {
      "text/plain": [
       "[(Edge(source='leiningen.topology', target='leiningen.core.eval'), 1),\n",
       " (Edge(source='topology.dependencies', target='topology.qualifier'), 1),\n",
       " (Edge(source='topology.edgelist-test', target='java.util.Collections'), 1),\n",
       " (Edge(source='topology.edgelist-test', target='topology.edgelist'), 1),\n",
       " (Edge(source='topology.dependencies-test', target='clojure.string'), 1)]"
      ]
     },
     "execution_count": 145,
     "metadata": {},
     "output_type": "execute_result"
    }
   ],
   "source": [
    "ns_edges.items()[0:5]"
   ]
  },
  {
   "cell_type": "code",
   "execution_count": 146,
   "metadata": {
    "collapsed": false
   },
   "outputs": [],
   "source": [
    "ns_vertices = set()\n",
    "for e in ns_edges.keys():\n",
    "    ns_vertices.add(e.source)\n",
    "    ns_vertices.add(e.target)"
   ]
  },
  {
   "cell_type": "code",
   "execution_count": 147,
   "metadata": {
    "collapsed": false
   },
   "outputs": [
    {
     "data": {
      "text/plain": [
       "{'clojure.core',\n",
       " 'clojure.java.io',\n",
       " 'clojure.repl',\n",
       " 'clojure.string',\n",
       " 'clojure.test',\n",
       " 'clojure.tools.namespace.file',\n",
       " 'clojure.zip',\n",
       " 'example',\n",
       " 'java.util.Collections',\n",
       " 'leiningen.core.eval',\n",
       " 'leiningen.topology',\n",
       " 'org.clojure',\n",
       " 'topology.dependencies',\n",
       " 'topology.dependencies-test',\n",
       " 'topology.edgelist',\n",
       " 'topology.edgelist-test',\n",
       " 'topology.finder',\n",
       " 'topology.printer',\n",
       " 'topology.qualifier',\n",
       " 'topology.symbols'}"
      ]
     },
     "execution_count": 147,
     "metadata": {},
     "output_type": "execute_result"
    }
   ],
   "source": [
    "ns_vertices"
   ]
  },
  {
   "cell_type": "code",
   "execution_count": 148,
   "metadata": {
    "collapsed": false
   },
   "outputs": [],
   "source": [
    "ns_graph = igraph.Graph(directed=True)\n",
    "ns_graph.add_vertices(list(ns_vertices))\n",
    "\n",
    "for e in ns_edges.items():\n",
    "    ns_graph.add_edge(e[0].source, e[0].target, weight=e[1], directed=True)"
   ]
  },
  {
   "cell_type": "code",
   "execution_count": 149,
   "metadata": {
    "collapsed": false
   },
   "outputs": [
    {
     "data": {
      "text/plain": [
       "'IGRAPH DNW- 20 40 -- \\n+ attr: name (v), directed (e), weight (e)'"
      ]
     },
     "execution_count": 149,
     "metadata": {},
     "output_type": "execute_result"
    }
   ],
   "source": [
    "ns_graph.summary()"
   ]
  },
  {
   "cell_type": "code",
   "execution_count": 150,
   "metadata": {
    "collapsed": false
   },
   "outputs": [
    {
     "data": {
      "text/plain": [
       "'IGRAPH DN-- 13 12 -- \\n+ attr: name (v)'"
      ]
     },
     "execution_count": 150,
     "metadata": {},
     "output_type": "execute_result"
    }
   ],
   "source": [
    "# Create a list of patterns for all namespaces that we want to keep:\n",
    "ns_names_to_keep = ['topology', 'clojure.java.io', 'clojure.repl', 'clojure.tools.namespace.file', 'clojure.zip']\n",
    "\n",
    "ns_interest = ns_graph.vs(lambda v: any(match in v['name'] for match in ns_names_to_keep))\n",
    "\n",
    "ns_subgraph = ns_graph.subgraph(ns_interest)\n",
    "ns_subgraph.simplify() # Remove loops\n",
    "ns_subgraph.summary()"
   ]
  },
  {
   "cell_type": "markdown",
   "metadata": {},
   "source": [
    "## Load into Cytoscape with a default layout"
   ]
  },
  {
   "cell_type": "code",
   "execution_count": 151,
   "metadata": {
    "collapsed": false
   },
   "outputs": [],
   "source": [
    "# Create py2cytoscape client\n",
    "cy = CyRestClient()"
   ]
  },
  {
   "cell_type": "code",
   "execution_count": 152,
   "metadata": {
    "collapsed": true
   },
   "outputs": [],
   "source": [
    "cy.session.delete()"
   ]
  },
  {
   "cell_type": "code",
   "execution_count": 153,
   "metadata": {
    "collapsed": true
   },
   "outputs": [],
   "source": [
    "ns_network = cy.network.create_from_igraph(ns_subgraph, name=\"namespaces\", collection=network_collection_name)"
   ]
  },
  {
   "cell_type": "code",
   "execution_count": 154,
   "metadata": {
    "collapsed": false
   },
   "outputs": [
    {
     "data": {
      "text/plain": [
       "52"
      ]
     },
     "execution_count": 154,
     "metadata": {},
     "output_type": "execute_result"
    }
   ],
   "source": [
    "ns_network_id = ns_network.get_id()\n",
    "ns_network_id"
   ]
  },
  {
   "cell_type": "code",
   "execution_count": 155,
   "metadata": {
    "collapsed": false
   },
   "outputs": [],
   "source": [
    "# Apply layout\n",
    "cy.layout.apply(name='force-directed', network=ns_network)"
   ]
  },
  {
   "cell_type": "markdown",
   "metadata": {},
   "source": [
    "## Apply Style"
   ]
  },
  {
   "cell_type": "code",
   "execution_count": 156,
   "metadata": {
    "collapsed": true
   },
   "outputs": [],
   "source": [
    "# Get a reference to the existing style\n",
    "curved = cy.style.create('Curved')"
   ]
  },
  {
   "cell_type": "code",
   "execution_count": 157,
   "metadata": {
    "collapsed": false
   },
   "outputs": [],
   "source": [
    "cy.style.apply(curved, ns_network)"
   ]
  },
  {
   "cell_type": "markdown",
   "metadata": {},
   "source": [
    "## Explore in Cytoscape\n",
    "\n",
    "At this point, we have a list of interesting namespaces laid out in Cytoscape. We can now start visually exploring to look for interesting features to dig into more deeply.\n",
    "\n",
    "When this step is done, we can move on to looking at the function network beyond just the namespaces."
   ]
  },
  {
   "cell_type": "markdown",
   "metadata": {},
   "source": [
    "## Extract the subgraph of local namespaces from the full graph\n",
    "\n",
    "There are some analyses where it will be useful to see all the vertices. For the high-level architecture diagram, we can focus on the library's namespaces."
   ]
  },
  {
   "cell_type": "code",
   "execution_count": 158,
   "metadata": {
    "collapsed": false
   },
   "outputs": [],
   "source": [
    "# List all patterns of vertex names that we want to keep:\n",
    "names_to_keep = ['topology', 'clojure.core/*err*', 'clojure.core/println']"
   ]
  },
  {
   "cell_type": "code",
   "execution_count": 159,
   "metadata": {
    "collapsed": false
   },
   "outputs": [],
   "source": [
    "lv = g.vs(lambda v: any(match in v['label'] for match in names_to_keep))\n",
    "\n",
    "# lg...the local graph\n",
    "lg = g.subgraph(lv, implementation='copy_and_delete')"
   ]
  },
  {
   "cell_type": "code",
   "execution_count": 160,
   "metadata": {
    "collapsed": false
   },
   "outputs": [
    {
     "data": {
      "text/plain": [
       "'IGRAPH DNW- 26 27 -- \\n+ attr: indegree (v), label (v), name (v), outdegree (v), weight (e)'"
      ]
     },
     "execution_count": 160,
     "metadata": {},
     "output_type": "execute_result"
    }
   ],
   "source": [
    "# Copy the label attribute to name so that cytoscape will pick it up without extra mapping\n",
    "lg.vs['name'] = lg.vs['label']\n",
    "lg.summary()"
   ]
  },
  {
   "cell_type": "code",
   "execution_count": 161,
   "metadata": {
    "collapsed": false
   },
   "outputs": [],
   "source": [
    "# Visualize in Cytoscape\n",
    "fn_network = cy.network.create_from_igraph(lg, name=commit, collection=network_collection_name)\n",
    "cy.layout.apply(name='force-directed', network=fn_network)\n",
    "cy.style.apply(curved, fn_network)"
   ]
  },
  {
   "cell_type": "markdown",
   "metadata": {},
   "source": [
    "### Map attributes to visual properties"
   ]
  },
  {
   "cell_type": "code",
   "execution_count": 162,
   "metadata": {
    "collapsed": true
   },
   "outputs": [],
   "source": [
    "degrees = fn_network.get_node_column('outdegree')\n",
    "\n",
    "# Scale color of nodes\n",
    "color_gradient = StyleUtil.create_2_color_gradient(min=1, max=degrees.max(), colors=('white', '#FFCC00'))\n",
    "curved.create_continuous_mapping(column='outdegree', vp='NODE_FILL_COLOR', col_type='Double', points=color_gradient)\n",
    "\n",
    "# Scale size of nodes\n",
    "degree_to_size = StyleUtil.create_slope(min=0, max=degrees.max(), values=(30, 80))\n",
    "curved.create_continuous_mapping(column='outdegree', vp='NODE_HEIGHT', col_type='Double', points=degree_to_size)\n",
    "curved.create_continuous_mapping(column='outdegree', vp='NODE_WIDTH', col_type='Double', points=degree_to_size)\n",
    "# curved.create_continuous_mapping(column='outdegree', vp='NODE_LABEL_FONT_SIZE', col_type='Double', points=degree_to_size)"
   ]
  },
  {
   "cell_type": "code",
   "execution_count": 163,
   "metadata": {
    "collapsed": true
   },
   "outputs": [],
   "source": [
    "# BUG: All weights are 1 because igraph's subgraph method loses the weight attribute.\n",
    "weights = fn_network.get_edge_column('weight')\n",
    "\n",
    "weight_to_size = StyleUtil.create_slope(min=weights.min(), max=weights.max(), values=(2,10))\n",
    "curved.create_continuous_mapping(column='weight', vp=\"EDGE_WIDTH\", col_type='Double', points=weight_to_size)"
   ]
  },
  {
   "cell_type": "code",
   "execution_count": 165,
   "metadata": {
    "collapsed": false
   },
   "outputs": [],
   "source": [
    "cy.style.apply(curved, fn_network)\n",
    "\n",
    "# Note that there are still a couple of manual steps using the default Curved.\n",
    "# Uncheck 'Lock node width and height'\n",
    "# Remove the default size mapping"
   ]
  },
  {
   "cell_type": "markdown",
   "metadata": {},
   "source": [
    "## Save the updated layout coordinates after making changes\n",
    "\n",
    "One benefit of this workflow over solutions that just render static diagrams is the ability to make changes manually to the network layout in Cytoscape.\n",
    "\n",
    "After making changes, save the coordinates for a later session using the [Iteration Workflow](./iteration_workflow.ipynb)."
   ]
  },
  {
   "cell_type": "code",
   "execution_count": 166,
   "metadata": {
    "collapsed": true
   },
   "outputs": [],
   "source": [
    "positions_file = data_path + \"-positions.csv\"\n",
    "scp.positions_to_csv(network=fn_network, path=positions_file)"
   ]
  },
  {
   "cell_type": "markdown",
   "metadata": {},
   "source": [
    "You can now safely close Cytoscape."
   ]
  },
  {
   "cell_type": "markdown",
   "metadata": {},
   "source": [
    "## Future Work"
   ]
  },
  {
   "cell_type": "markdown",
   "metadata": {},
   "source": [
    "### Interpretation of articulation points\n",
    "\n",
    "A vertex is an articulation point if its removal increases the number of connected components in the graph:"
   ]
  },
  {
   "cell_type": "code",
   "execution_count": 167,
   "metadata": {
    "collapsed": false
   },
   "outputs": [
    {
     "data": {
      "text/plain": [
       "['topology.dependencies/dependencies',\n",
       " 'topology.finder/find-sources-in-dir',\n",
       " 'topology.dependencies/ns->fn-dep-map',\n",
       " 'topology.finder/source-paths->namespaces',\n",
       " 'topology.finder/dirs->sources',\n",
       " 'topology.symbols/symbols',\n",
       " 'topology.edgelist-test/edges',\n",
       " 'topology.edgelist/dirs->fn-edges',\n",
       " 'topology.symbols/zip-nodes',\n",
       " 'topology.edgelist/ns->edgelist']"
      ]
     },
     "execution_count": 167,
     "metadata": {},
     "output_type": "execute_result"
    }
   ],
   "source": [
    "lg.vs(lg.articulation_points())['label']"
   ]
  },
  {
   "cell_type": "markdown",
   "metadata": {},
   "source": [
    "What are the implications of these articulation points in the domain of function dependency graphs? We'd need to look at several examples across multiple applications. In the context of a larger system architecture, these might indicate single points of failure that would partition the system."
   ]
  }
 ],
 "metadata": {
  "kernelspec": {
   "display_name": "Python 2",
   "language": "python",
   "name": "python2"
  },
  "language_info": {
   "codemirror_mode": {
    "name": "ipython",
    "version": 2
   },
   "file_extension": ".py",
   "mimetype": "text/x-python",
   "name": "python",
   "nbconvert_exporter": "python",
   "pygments_lexer": "ipython2",
   "version": "2.7.12"
  }
 },
 "nbformat": 4,
 "nbformat_minor": 0
}
