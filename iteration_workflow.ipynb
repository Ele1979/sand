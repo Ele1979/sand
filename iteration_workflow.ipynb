{
 "cells": [
  {
   "cell_type": "markdown",
   "metadata": {},
   "source": [
    "# Iteration Workflow\n",
    "\n",
    "If you are updating a network diagram based on changes made from an earlier session, use this workflow.\n",
    "\n",
    "If you are looking at a network for the first time, you should try the [Exploratory Workflow](./exploratory_workflow.ipynb).\n",
    "\n",
    "## To create an updated structure after making new commits:\n",
    "\n",
    "* Run `lein-topology` to generate the updated edge list.\n",
    "* Copy the previous position file to use as a starting point for the next visualization.\n",
    "* Open Cytoscape or destroy existing collections if Cytoscape is already running.\n",
    "* Run all cells to load the visualization.\n",
    "* [Save the new layout if you make changes](http://localhost:8888/notebooks/lein-topology.ipynb#Save-the-updated-layout-coordinates-if-you-make-changes)."
   ]
  },
  {
   "cell_type": "code",
   "execution_count": 1,
   "metadata": {
    "collapsed": false
   },
   "outputs": [
    {
     "data": {
      "application/javascript": [
       "if (window['cytoscape'] === undefined) {\n",
       "    var paths = {\n",
       "        cytoscape: 'http://cytoscape.github.io/cytoscape.js/api/cytoscape.js-latest/cytoscape.min'\n",
       "    };\n",
       "\n",
       "    require.config({\n",
       "        paths: paths\n",
       "    });\n",
       "\n",
       "    require(['cytoscape'], function (cytoscape) {\n",
       "        console.log('Loading Cytoscape.js Module...');\n",
       "        window['cytoscape'] = cytoscape;\n",
       "\n",
       "        var event = document.createEvent(\"HTMLEvents\");\n",
       "        event.initEvent(\"load_cytoscape\", true, false);\n",
       "        window.dispatchEvent(event);\n",
       "    });\n",
       "}"
      ],
      "text/plain": [
       "<IPython.core.display.Javascript object>"
      ]
     },
     "metadata": {},
     "output_type": "display_data"
    }
   ],
   "source": [
    "from py2cytoscape.data.cynetwork import CyNetwork\n",
    "from py2cytoscape.data.cyrest_client import CyRestClient\n",
    "from py2cytoscape.data.style import StyleUtil\n",
    "\n",
    "import py2cytoscape.util.cytoscapejs as cyjs\n",
    "import py2cytoscape.cytoscapejs as renderer\n",
    "\n",
    "import igraph as igraph\n",
    "import pandas as pd\n",
    "import json\n",
    "import numpy as np\n",
    "\n",
    "import sand.io as io\n",
    "import sand.graph as sg\n",
    "import sand.cytoscape.positions as scp\n",
    "import sand.cytoscape.themes as themes"
   ]
  },
  {
   "cell_type": "markdown",
   "metadata": {},
   "source": [
    "## Verify that Cytoscape is running and get the current version of Cytoscape.\n",
    "\n",
    "_Sending http requests is always an option if a feature is missing from the py2cytoscape wrapper._"
   ]
  },
  {
   "cell_type": "code",
   "execution_count": 2,
   "metadata": {
    "collapsed": false
   },
   "outputs": [],
   "source": [
    "import requests\n",
    "\n",
    "# Basic Setup\n",
    "PORT_NUMBER = 1234\n",
    "BASE = 'http://localhost:' + str(PORT_NUMBER) + '/v1/'\n",
    "\n",
    "# Header for posting data to the server as JSON\n",
    "HEADERS = {'Content-Type': 'application/json'}\n",
    "\n",
    "version_url = BASE + 'version'\n",
    "response = requests.get(version_url)"
   ]
  },
  {
   "cell_type": "code",
   "execution_count": 3,
   "metadata": {
    "collapsed": false
   },
   "outputs": [
    {
     "name": "stdout",
     "output_type": "stream",
     "text": [
      "{\n",
      "  \"cytoscapeVersion\": \"3.4.0\", \n",
      "  \"apiVersion\": \"v1\"\n",
      "}\n"
     ]
    }
   ],
   "source": [
    "print(json.dumps(response.json(), indent=2))"
   ]
  },
  {
   "cell_type": "markdown",
   "metadata": {},
   "source": [
    "## Extract the subgraph of local namespaces \n",
    "\n",
    "There are some analyses where it will be useful to see all the vertices. For the high-level architecture diagram, we can focus on the functions local to the library's namespaces. We'll also keep functions used for output."
   ]
  },
  {
   "cell_type": "code",
   "execution_count": 4,
   "metadata": {
    "collapsed": false
   },
   "outputs": [],
   "source": [
    "commit = \"57af741\"\n",
    "network_collection_name = \"lein-topology\""
   ]
  },
  {
   "cell_type": "code",
   "execution_count": 5,
   "metadata": {
    "collapsed": false
   },
   "outputs": [
    {
     "name": "stdout",
     "output_type": "stream",
     "text": [
      "/Users/bnorton/dev/lein-topology\n"
     ]
    }
   ],
   "source": [
    "# NB: If you're playing along at home, change this to the directory containing your data:\n",
    "%cd \"~/dev/lein-topology\""
   ]
  },
  {
   "cell_type": "code",
   "execution_count": 6,
   "metadata": {
    "collapsed": true
   },
   "outputs": [],
   "source": [
    "data_path = \"./data/\" + network_collection_name + \"-\" + commit\n",
    "edge_file = data_path + \".csv\"\n",
    "positions_file = data_path + \"-positions.csv\""
   ]
  },
  {
   "cell_type": "code",
   "execution_count": 7,
   "metadata": {
    "collapsed": false
   },
   "outputs": [],
   "source": [
    "edgelist = io.csv_to_edgelist(edge_file)\n",
    "g = sg.edgelist_to_igraph(edgelist)"
   ]
  },
  {
   "cell_type": "code",
   "execution_count": 8,
   "metadata": {
    "collapsed": false
   },
   "outputs": [
    {
     "data": {
      "text/plain": [
       "'IGRAPH D-W- 107 206 -- \\n+ attr: label (v), weight (e)'"
      ]
     },
     "execution_count": 8,
     "metadata": {},
     "output_type": "execute_result"
    }
   ],
   "source": [
    "g.summary()"
   ]
  },
  {
   "cell_type": "code",
   "execution_count": 9,
   "metadata": {
    "collapsed": false
   },
   "outputs": [],
   "source": [
    "# List all patterns of vertex names that we want to keep:\n",
    "names_to_keep = ['topology', 'clojure.core/*err*', 'clojure.core/println']"
   ]
  },
  {
   "cell_type": "code",
   "execution_count": 10,
   "metadata": {
    "collapsed": false
   },
   "outputs": [],
   "source": [
    "lv = g.vs(lambda v: any(match in v['label'] for match in names_to_keep))\n",
    "lg = g.subgraph(lv)"
   ]
  },
  {
   "cell_type": "code",
   "execution_count": 11,
   "metadata": {
    "collapsed": false
   },
   "outputs": [
    {
     "data": {
      "text/plain": [
       "'IGRAPH D-W- 26 26 -- \\n+ attr: label (v), weight (e)'"
      ]
     },
     "execution_count": 11,
     "metadata": {},
     "output_type": "execute_result"
    }
   ],
   "source": [
    "lg.summary()"
   ]
  },
  {
   "cell_type": "markdown",
   "metadata": {},
   "source": [
    "## Load into Cytoscape with a default layout"
   ]
  },
  {
   "cell_type": "code",
   "execution_count": 12,
   "metadata": {
    "collapsed": false
   },
   "outputs": [],
   "source": [
    "# Create py2cytoscape client\n",
    "cy = CyRestClient()"
   ]
  },
  {
   "cell_type": "code",
   "execution_count": 13,
   "metadata": {
    "collapsed": false
   },
   "outputs": [],
   "source": [
    "# Start by loading the full network\n",
    "network = cy.network.create_from_igraph(lg, name=commit, collection=network_collection_name)"
   ]
  },
  {
   "cell_type": "code",
   "execution_count": 14,
   "metadata": {
    "collapsed": false
   },
   "outputs": [
    {
     "data": {
      "text/plain": [
       "300"
      ]
     },
     "execution_count": 14,
     "metadata": {},
     "output_type": "execute_result"
    }
   ],
   "source": [
    "network_id = network.get_id()\n",
    "network_id"
   ]
  },
  {
   "cell_type": "code",
   "execution_count": 15,
   "metadata": {
    "collapsed": false
   },
   "outputs": [],
   "source": [
    "# Apply layout\n",
    "cy.layout.apply(name='force-directed', network=network)"
   ]
  },
  {
   "cell_type": "markdown",
   "metadata": {},
   "source": [
    "## Customize the style\n",
    "\n",
    "Use one of the included themes, or build your own."
   ]
  },
  {
   "cell_type": "code",
   "execution_count": 16,
   "metadata": {
    "collapsed": false
   },
   "outputs": [],
   "source": [
    "style = cy.style.create('Ops')\n",
    "style.update_defaults(themes.ops.settings)\n",
    "\n",
    "# Map the label property in the igraph data to Cytoscape's NODE_LABEL visual property\n",
    "style.create_passthrough_mapping(column='label', vp='NODE_LABEL', col_type='String')\n",
    "\n",
    "cy.style.apply(style, network)"
   ]
  },
  {
   "cell_type": "markdown",
   "metadata": {},
   "source": [
    "## Load layout coordinates from a previous session"
   ]
  },
  {
   "cell_type": "code",
   "execution_count": 17,
   "metadata": {
    "collapsed": false
   },
   "outputs": [],
   "source": [
    "scp.layout_from_positions_csv(network, positions_file, cy)"
   ]
  },
  {
   "cell_type": "markdown",
   "metadata": {},
   "source": [
    "## Save the updated layout coordinates if you make changes\n",
    "\n",
    "One benefit of this workflow is the ability to make changes manually to the network layout in Cytoscape.\n",
    "After making changes, save the coordinates for a later session:"
   ]
  },
  {
   "cell_type": "code",
   "execution_count": 19,
   "metadata": {
    "collapsed": false
   },
   "outputs": [],
   "source": [
    "scp.positions_to_csv(network=network, path=positions_file)"
   ]
  },
  {
   "cell_type": "markdown",
   "metadata": {},
   "source": [
    "You can now safely close Cytoscape."
   ]
  },
  {
   "cell_type": "markdown",
   "metadata": {},
   "source": [
    "### Generate an SVG export\n",
    "\n",
    "To generate an SVG based on the current view, visit the following:"
   ]
  },
  {
   "cell_type": "code",
   "execution_count": 18,
   "metadata": {
    "collapsed": false
   },
   "outputs": [
    {
     "name": "stdout",
     "output_type": "stream",
     "text": [
      "http://localhost:1234/v1/networks/300/views/first.svg\n"
     ]
    }
   ],
   "source": [
    "print(\"http://localhost:1234/v1/networks/\" + str(network_id) + \"/views/first.svg\")"
   ]
  }
 ],
 "metadata": {
  "kernelspec": {
   "display_name": "Python 2",
   "language": "python",
   "name": "python2"
  },
  "language_info": {
   "codemirror_mode": {
    "name": "ipython",
    "version": 2
   },
   "file_extension": ".py",
   "mimetype": "text/x-python",
   "name": "python",
   "nbconvert_exporter": "python",
   "pygments_lexer": "ipython2",
   "version": "2.7.12"
  }
 },
 "nbformat": 4,
 "nbformat_minor": 0
}
