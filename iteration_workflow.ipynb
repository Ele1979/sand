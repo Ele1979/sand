{
 "cells": [
  {
   "cell_type": "markdown",
   "metadata": {
    "deletable": true,
    "editable": true
   },
   "source": [
    "# Iteration Workflow\n",
    "\n",
    "\n",
    "## To create an updated structure after making new commits:\n",
    "\n",
    "* Generate an updated edge list.\n",
    "* Copy the previous position file to use as a starting point for the next visualization.\n",
    "* Open Cytoscape or destroy existing collections if Cytoscape is already running.\n",
    "* Run all cells to load the visualization.\n",
    "* [Save the new layout if you make changes](http://localhost:8888/notebooks/lein-topology.ipynb#Save-the-updated-layout-coordinates-if-you-make-changes)."
   ]
  },
  {
   "cell_type": "markdown",
   "metadata": {
    "deletable": true,
    "editable": true
   },
   "source": [
    "## Import common modules"
   ]
  },
  {
   "cell_type": "code",
   "execution_count": 1,
   "metadata": {
    "collapsed": false,
    "deletable": true,
    "editable": true
   },
   "outputs": [
    {
     "data": {
      "application/javascript": [
       "if (window['cytoscape'] === undefined) {\n",
       "    var paths = {\n",
       "        cytoscape: 'http://cytoscape.github.io/cytoscape.js/api/cytoscape.js-latest/cytoscape.min'\n",
       "    };\n",
       "\n",
       "    require.config({\n",
       "        paths: paths\n",
       "    });\n",
       "\n",
       "    require(['cytoscape'], function (cytoscape) {\n",
       "        console.log('Loading Cytoscape.js Module...');\n",
       "        window['cytoscape'] = cytoscape;\n",
       "\n",
       "        var event = document.createEvent(\"HTMLEvents\");\n",
       "        event.initEvent(\"load_cytoscape\", true, false);\n",
       "        window.dispatchEvent(event);\n",
       "    });\n",
       "}"
      ],
      "text/plain": [
       "<IPython.core.display.Javascript object>"
      ]
     },
     "metadata": {},
     "output_type": "display_data"
    }
   ],
   "source": [
    "from py2cytoscape.data.cynetwork import CyNetwork\n",
    "from py2cytoscape.data.cyrest_client import CyRestClient\n",
    "from py2cytoscape.data.style import StyleUtil\n",
    "import py2cytoscape.util.cytoscapejs as cyjs\n",
    "import py2cytoscape.cytoscapejs as renderer\n",
    "\n",
    "from subprocess import call\n",
    "from IPython.display import Image\n",
    "\n",
    "import igraph as igraph\n",
    "import pandas as pd\n",
    "import numpy as np\n",
    "\n",
    "import sand.io as io\n",
    "import sand.graph as sg\n",
    "import sand.cytoscape.positions as scp\n",
    "import sand.cytoscape.app as app\n",
    "from sand.cytoscape.themes import ops, colors"
   ]
  },
  {
   "cell_type": "markdown",
   "metadata": {
    "deletable": true,
    "editable": true
   },
   "source": [
    "## Load the dataset as a weighted edge list"
   ]
  },
  {
   "cell_type": "code",
   "execution_count": 2,
   "metadata": {
    "collapsed": false,
    "deletable": true,
    "editable": true
   },
   "outputs": [
    {
     "name": "stdout",
     "output_type": "stream",
     "text": [
      "/Users/bnorton/dev/lein-topology\n"
     ]
    }
   ],
   "source": [
    "# Change this path to the directory containing your dataset: This example will use the output of a lein-topology run:\n",
    "%cd \"~/dev/lein-topology\""
   ]
  },
  {
   "cell_type": "code",
   "execution_count": 3,
   "metadata": {
    "collapsed": false,
    "deletable": true,
    "editable": true
   },
   "outputs": [],
   "source": [
    "network_collection = \"lein-topology\"\n",
    "network_name = \"57af741\"\n",
    "\n",
    "data_path = \"./data/\" + network_collection + \"-\" + network_name"
   ]
  },
  {
   "cell_type": "code",
   "execution_count": 4,
   "metadata": {
    "collapsed": false,
    "deletable": true,
    "editable": true
   },
   "outputs": [
    {
     "data": {
      "text/plain": [
       "'IGRAPH D-W- 107 206 -- \\n+ attr: label (v), weight (e)'"
      ]
     },
     "execution_count": 4,
     "metadata": {},
     "output_type": "execute_result"
    }
   ],
   "source": [
    "edge_file = data_path + \".csv\"\n",
    "edgelist = io.csv_to_edgelist(edge_file)\n",
    "g = sg.edgelist_to_igraph(edgelist)\n",
    "g.summary()"
   ]
  },
  {
   "cell_type": "markdown",
   "metadata": {
    "deletable": true,
    "editable": true
   },
   "source": [
    "## Create communities based on namespaces."
   ]
  },
  {
   "cell_type": "markdown",
   "metadata": {
    "deletable": true,
    "editable": true
   },
   "source": [
    "### Build a set of all namespaces. These are the modules of the system. \n",
    "\n",
    "They will serve as groups / communities in the visualization."
   ]
  },
  {
   "cell_type": "code",
   "execution_count": 5,
   "metadata": {
    "collapsed": false,
    "deletable": true,
    "editable": true
   },
   "outputs": [
    {
     "data": {
      "text/plain": [
       "'clojure.core'"
      ]
     },
     "execution_count": 5,
     "metadata": {},
     "output_type": "execute_result"
    }
   ],
   "source": [
    "# Convert fully-qualified names to namespaces:\n",
    "def fqn_to_ns(fqn):\n",
    "    return fqn.split('/')[0]\n",
    "\n",
    "\n",
    "fqn_to_ns('clojure.core/map')"
   ]
  },
  {
   "cell_type": "code",
   "execution_count": 6,
   "metadata": {
    "collapsed": false,
    "deletable": true,
    "editable": true
   },
   "outputs": [],
   "source": [
    "namespaces = list(map(lambda l: fqn_to_ns(l), g.vs['label']))"
   ]
  },
  {
   "cell_type": "code",
   "execution_count": 7,
   "metadata": {
    "collapsed": false,
    "deletable": true,
    "editable": true
   },
   "outputs": [
    {
     "data": {
      "text/plain": [
       "['topology.dependencies',\n",
       " 'clojure.core',\n",
       " 'topology.edgelist-test',\n",
       " 'clojure.core',\n",
       " 'topology.dependencies-test']"
      ]
     },
     "execution_count": 7,
     "metadata": {},
     "output_type": "execute_result"
    }
   ],
   "source": [
    "namespaces[0:5]"
   ]
  },
  {
   "cell_type": "markdown",
   "metadata": {
    "deletable": true,
    "editable": true
   },
   "source": [
    "### Assign each vertex to a group."
   ]
  },
  {
   "cell_type": "code",
   "execution_count": 8,
   "metadata": {
    "collapsed": true,
    "deletable": true,
    "editable": true
   },
   "outputs": [],
   "source": [
    "g.vs['group'] = namespaces"
   ]
  },
  {
   "cell_type": "markdown",
   "metadata": {
    "deletable": true,
    "editable": true
   },
   "source": [
    "## Extract the subgraph of local namespaces \n",
    "\n",
    "There are some analyses where it will be useful to see all the vertices. For the high-level architecture diagram, we can focus on the functions local to the library's namespaces. We'll also keep functions used for output."
   ]
  },
  {
   "cell_type": "code",
   "execution_count": 9,
   "metadata": {
    "collapsed": false,
    "deletable": true,
    "editable": true
   },
   "outputs": [],
   "source": [
    "# List all patterns of vertex names that we want to keep:\n",
    "names_to_keep = ['topology', 'clojure.core/*err*', 'clojure.core/println']"
   ]
  },
  {
   "cell_type": "code",
   "execution_count": 10,
   "metadata": {
    "collapsed": false,
    "deletable": true,
    "editable": true
   },
   "outputs": [],
   "source": [
    "lv = g.vs(lambda v: any(match in v['label'] for match in names_to_keep))\n",
    "lg = g.subgraph(lv)"
   ]
  },
  {
   "cell_type": "code",
   "execution_count": 11,
   "metadata": {
    "collapsed": false,
    "deletable": true,
    "editable": true
   },
   "outputs": [
    {
     "data": {
      "text/plain": [
       "'IGRAPH D-W- 26 26 -- \\n+ attr: group (v), label (v), weight (e)'"
      ]
     },
     "execution_count": 11,
     "metadata": {},
     "output_type": "execute_result"
    }
   ],
   "source": [
    "lg.summary()"
   ]
  },
  {
   "cell_type": "markdown",
   "metadata": {
    "deletable": true,
    "editable": true
   },
   "source": [
    "## Verify that Cytoscape is running and get the current version"
   ]
  },
  {
   "cell_type": "code",
   "execution_count": 12,
   "metadata": {
    "collapsed": false,
    "deletable": true,
    "editable": true
   },
   "outputs": [
    {
     "name": "stdout",
     "output_type": "stream",
     "text": [
      "{\n",
      "  \"apiVersion\": \"v1\",\n",
      "  \"cytoscapeVersion\": \"3.4.0\"\n",
      "}\n"
     ]
    }
   ],
   "source": [
    "app.print_version()"
   ]
  },
  {
   "cell_type": "markdown",
   "metadata": {
    "deletable": true,
    "editable": true
   },
   "source": [
    "## Load into Cytoscape with a default layout"
   ]
  },
  {
   "cell_type": "code",
   "execution_count": 13,
   "metadata": {
    "collapsed": false,
    "deletable": true,
    "editable": true
   },
   "outputs": [],
   "source": [
    "# Create py2cytoscape client\n",
    "cy = CyRestClient()"
   ]
  },
  {
   "cell_type": "code",
   "execution_count": 14,
   "metadata": {
    "collapsed": true,
    "deletable": true,
    "editable": true
   },
   "outputs": [],
   "source": [
    "# Optional: delete all existing networks\n",
    "cy.session.delete()"
   ]
  },
  {
   "cell_type": "code",
   "execution_count": 15,
   "metadata": {
    "collapsed": false,
    "deletable": true,
    "editable": true
   },
   "outputs": [],
   "source": [
    "# Load the network\n",
    "network = cy.network.create_from_igraph(lg, name=network_name, collection=network_collection)"
   ]
  },
  {
   "cell_type": "markdown",
   "metadata": {
    "deletable": true,
    "editable": true
   },
   "source": [
    "## Customize the style\n",
    "\n",
    "Use one of the included themes, or build your own."
   ]
  },
  {
   "cell_type": "code",
   "execution_count": 16,
   "metadata": {
    "collapsed": false,
    "deletable": true,
    "editable": true
   },
   "outputs": [],
   "source": [
    "style = cy.style.create('Ops')\n",
    "style.update_defaults(ops.settings)\n",
    "\n",
    "# Map the label property in the igraph data to Cytoscape's NODE_LABEL visual property\n",
    "style.create_passthrough_mapping(column='label', vp='NODE_LABEL', col_type='String')"
   ]
  },
  {
   "cell_type": "markdown",
   "metadata": {
    "deletable": true,
    "editable": true
   },
   "source": [
    "### Give each group a unique color."
   ]
  },
  {
   "cell_type": "code",
   "execution_count": 17,
   "metadata": {
    "collapsed": false,
    "deletable": true,
    "editable": true
   },
   "outputs": [],
   "source": [
    "border_colors = {\n",
    "  'topology.finder': colors.BRIGHT_YELLOW,\n",
    "  'topology.dependencies': colors.BRIGHT_ORANGE,\n",
    "  'topology.dependencies-test': colors.BRIGHT_ORANGE,\n",
    "  'topology.qualifier': colors.BRIGHT_PURPLE,\n",
    "  'topology.symbols': colors.BRIGHT_BLUE,\n",
    "  'clojure.core': colors.BRIGHT_RED,\n",
    "  'topology.printer': colors.BRIGHT_RED,\n",
    "  'leiningen.topology': colors.BRIGHT_WHITE,\n",
    "}\n",
    "\n",
    "fill_colors = {\n",
    "  'topology.finder': colors.DARK_YELLOW,\n",
    "  'topology.dependencies': colors.DARK_ORANGE,\n",
    "  'topology.dependencies-test': colors.DARK_ORANGE,\n",
    "  'topology.qualifier': colors.DARK_PURPLE,\n",
    "  'topology.symbols': colors.DARK_BLUE,\n",
    "  'clojure.core': colors.DARK_RED,\n",
    "  'topology.printer': colors.DARK_RED,\n",
    "  'leiningen.topology': colors.DARK_WHITE,\n",
    "}\n",
    "\n",
    "style.create_discrete_mapping(column='group', col_type='String', vp='NODE_FILL_COLOR', mappings=fill_colors)\n",
    "style.create_discrete_mapping(column='group', col_type='String', vp='NODE_BORDER_PAINT', mappings=border_colors)"
   ]
  },
  {
   "cell_type": "code",
   "execution_count": 18,
   "metadata": {
    "collapsed": true,
    "deletable": true,
    "editable": true
   },
   "outputs": [],
   "source": [
    "cy.style.apply(style, network)"
   ]
  },
  {
   "cell_type": "markdown",
   "metadata": {
    "deletable": true,
    "editable": true
   },
   "source": [
    "## Layout"
   ]
  },
  {
   "cell_type": "code",
   "execution_count": 19,
   "metadata": {
    "collapsed": true,
    "deletable": true,
    "editable": true
   },
   "outputs": [],
   "source": [
    "# Apply default layout\n",
    "cy.layout.apply(name='force-directed', network=network)"
   ]
  },
  {
   "cell_type": "code",
   "execution_count": 20,
   "metadata": {
    "collapsed": false,
    "deletable": true,
    "editable": true
   },
   "outputs": [],
   "source": [
    "# Load layout coordinates from a previous session\n",
    "positions_file = data_path + \"-positions.csv\"\n",
    "scp.layout_from_positions_csv(network, positions_file, cy)"
   ]
  },
  {
   "cell_type": "markdown",
   "metadata": {
    "deletable": true,
    "editable": true
   },
   "source": [
    "## Save the updated layout coordinates if you make changes\n",
    "\n",
    "One benefit of this workflow is the ability to manually tweak the algorithmic network layout in Cytoscape.\n",
    "\n",
    "After making changes, save the coordinates for a later session:"
   ]
  },
  {
   "cell_type": "code",
   "execution_count": 51,
   "metadata": {
    "collapsed": false,
    "deletable": true,
    "editable": true
   },
   "outputs": [],
   "source": [
    "scp.positions_to_csv(network=network, path=positions_file)"
   ]
  },
  {
   "cell_type": "markdown",
   "metadata": {
    "deletable": true,
    "editable": true
   },
   "source": [
    "## Generate an SVG export\n",
    "\n",
    "Position the network in Cytoscape the way you want it, then trigger this export.\n",
    "When iterating, run all cells above, then all cells below this point to avoid race conditions with cytoscape's renderer."
   ]
  },
  {
   "cell_type": "code",
   "execution_count": 21,
   "metadata": {
    "collapsed": false,
    "deletable": true,
    "editable": true
   },
   "outputs": [
    {
     "data": {
      "text/plain": [
       "True"
      ]
     },
     "execution_count": 21,
     "metadata": {},
     "output_type": "execute_result"
    }
   ],
   "source": [
    "# Hide all panels in the UI\n",
    "app.hide_panels()"
   ]
  },
  {
   "cell_type": "code",
   "execution_count": 22,
   "metadata": {
    "collapsed": true,
    "deletable": true,
    "editable": true
   },
   "outputs": [],
   "source": [
    "# Fit to the window:\n",
    "cy.layout.fit(network=network)"
   ]
  },
  {
   "cell_type": "code",
   "execution_count": 23,
   "metadata": {
    "collapsed": false,
    "deletable": true,
    "editable": true
   },
   "outputs": [],
   "source": [
    "view_id = network.get_views()[0]"
   ]
  },
  {
   "cell_type": "code",
   "execution_count": 24,
   "metadata": {
    "collapsed": false,
    "deletable": true,
    "editable": true
   },
   "outputs": [],
   "source": [
    "view = network.get_view(view_id=view_id, format='view')"
   ]
  },
  {
   "cell_type": "code",
   "execution_count": 28,
   "metadata": {
    "collapsed": false,
    "deletable": true,
    "editable": true
   },
   "outputs": [],
   "source": [
    "# Zoom out slightly:\n",
    "view.update_network_view('NETWORK_SCALE_FACTOR', 0.75)"
   ]
  },
  {
   "cell_type": "code",
   "execution_count": 29,
   "metadata": {
    "collapsed": true,
    "deletable": true,
    "editable": true
   },
   "outputs": [],
   "source": [
    "# Shift the network to the left:\n",
    "view.update_network_view('NETWORK_CENTER_X_LOCATION', 750.0)"
   ]
  },
  {
   "cell_type": "code",
   "execution_count": 30,
   "metadata": {
    "collapsed": false,
    "deletable": true,
    "editable": true
   },
   "outputs": [
    {
     "data": {
      "image/svg+xml": [
       "<svg baseProfile=\"full\" height=\"745px\" version=\"1.1\" viewBox=\"0 0 1435 745\" width=\"1435px\" x=\"0px\" xmlns=\"http://www.w3.org/2000/svg\" xmlns:ev=\"http://www.w3.org/2001/xml-events\" xmlns:xlink=\"http://www.w3.org/1999/xlink\" y=\"0px\">\n",
       "<title/>\n",
       "<desc>Creator: FreeHEP Graphics2D Driver Producer: org.freehep.graphicsio.svg.SVGGraphics2D Revision Source:  Date: Saturday, March 11, 2017 5:55:03 PM CST</desc>\n",
       "<g stroke-dasharray=\"none\" stroke-dashoffset=\"0\" stroke-linecap=\"square\" stroke-linejoin=\"miter\" stroke-miterlimit=\"10\" stroke-width=\"1\">\n",
       "<g fill=\"#3d3e3f\" fill-opacity=\"1\" fill-rule=\"nonzero\" stroke=\"none\">\n",
       "  <path d=\"M 0 0 L 1435 0 L 1435 745 L 0 745 L 0 0 z\"/>\n",
       "</g> <!-- drawing style -->\n",
       "<g transform=\"matrix(0.75, 0, 0, 0.75, 369.00000000000006, 140.27709458577613)\">\n",
       "<g fill=\"none\" stroke=\"#cccccc\" stroke-linecap=\"round\" stroke-linejoin=\"round\" stroke-opacity=\"1\" stroke-width=\"2.5\">\n",
       "  <path d=\"M 124.02873992919922 20.686742782592773 L 137.19869537659272 1.9008008482045486\"/>\n",
       "</g> <!-- drawing style -->\n",
       "</g> <!-- transform -->\n",
       "<g transform=\"matrix(-1.076327435773322, 1.535299401094661, -1.535299401094661, -1.076327435773322, 462.02155494689947, 155.7921516727207)\">\n",
       "<g fill=\"#cccccc\" fill-opacity=\"1\" fill-rule=\"nonzero\" stroke=\"none\">\n",
       "  <path d=\"M -0.00000000000000009185 0.5 C 0.27614237491539656 0.5 0.49999999999999994 0.2761423749153968 0.5 0.00000000000000012246 C 0.5000000000000001 -0.27614237491539656 0.27614237491539684 -0.4999999999999999 0.00000000000000015308 -0.5 z\"/>\n",
       "</g> <!-- drawing style -->\n",
       "</g> <!-- transform -->\n",
       "<g transform=\"matrix(3.6595132816292946, -5.220017963721848, 5.220017963721848, 3.6595132816292946, 479.2180480957032, 131.26265929448584)\">\n",
       "<g fill=\"#cccccc\" fill-opacity=\"1\" fill-rule=\"nonzero\" stroke=\"none\">\n",
       "  <path d=\"M -2 -0.5 L 0 0 L -2 0.5 z\"/>\n",
       "</g> <!-- drawing style -->\n",
       "</g> <!-- transform -->\n",
       "<g transform=\"matrix(0.75, 0, 0, 0.75, 369.00000000000006, 140.27709458577613)\">\n",
       "<g fill=\"none\" stroke=\"#cccccc\" stroke-linecap=\"round\" stroke-linejoin=\"round\" stroke-opacity=\"1\" stroke-width=\"2.5\">\n",
       "  <path d=\"M 86.79335021972656 74.35939025878906 L 100.06610104449534 55.17991563319818\"/>\n",
       "</g> <!-- drawing style -->\n",
       "</g> <!-- transform -->\n",
       "<g transform=\"matrix(-1.0669781212772254, 1.5418114958436786, -1.5418114958436786, -1.0669781212772254, 434.095012664795, 196.04663727986792)\">\n",
       "<g fill=\"#cccccc\" fill-opacity=\"1\" fill-rule=\"nonzero\" stroke=\"none\">\n",
       "  <path d=\"M -0.00000000000000009185 0.5 C 0.27614237491539656 0.5 0.49999999999999994 0.2761423749153968 0.5 0.00000000000000012246 C 0.5000000000000001 -0.27614237491539656 0.27614237491539684 -0.4999999999999999 0.00000000000000015308 -0.5 z\"/>\n",
       "</g> <!-- drawing style -->\n",
       "</g> <!-- transform -->\n",
       "<g transform=\"matrix(3.627725612342566, -5.242159085868507, 5.242159085868507, 3.627725612342566, 451.3050270080567, 171.17771313893775)\">\n",
       "<g fill=\"#cccccc\" fill-opacity=\"1\" fill-rule=\"nonzero\" stroke=\"none\">\n",
       "  <path d=\"M -2 -0.5 L 0 0 L -2 0.5 z\"/>\n",
       "</g> <!-- drawing style -->\n",
       "</g> <!-- transform -->\n",
       "<g transform=\"matrix(0.75, 0, 0, 0.75, 369.00000000000006, 140.27709458577613)\">\n",
       "<g fill=\"none\" stroke=\"#cccccc\" stroke-linecap=\"round\" stroke-linejoin=\"round\" stroke-opacity=\"1\" stroke-width=\"2.5\">\n",
       "  <path d=\"M 166.55911254882812 -23.610754013061523 L 339.39560695539535 -42.473837901156635\"/>\n",
       "</g> <!-- drawing style -->\n",
       "</g> <!-- transform -->\n",
       "<g transform=\"matrix(-1.8639320529004428, 0.20342640480119828, -0.20342640480119828, -1.8639320529004428, 493.91933441162115, 122.56902907597998)\">\n",
       "<g fill=\"#cccccc\" fill-opacity=\"1\" fill-rule=\"nonzero\" stroke=\"none\">\n",
       "  <path d=\"M -0.00000000000000009185 0.5 C 0.27614237491539656 0.5 0.49999999999999994 0.2761423749153968 0.5 0.00000000000000012246 C 0.5000000000000001 -0.27614237491539656 0.27614237491539684 -0.4999999999999999 0.00000000000000015308 -0.5 z\"/>\n",
       "</g> <!-- drawing style -->\n",
       "</g> <!-- transform -->\n",
       "<g transform=\"matrix(6.337368979861505, -0.6916497763240741, 0.6916497763240741, 6.337368979861505, 636.2214431762695, 107.0384166072605)\">\n",
       "<g fill=\"#cccccc\" fill-opacity=\"1\" fill-rule=\"nonzero\" stroke=\"none\">\n",
       "  <path d=\"M -2 -0.5 L 0 0 L -2 0.5 z\"/>\n",
       "</g> <!-- drawing style -->\n",
       "</g> <!-- transform -->\n",
       "<g transform=\"matrix(0.75, 0, 0, 0.75, 369.00000000000006, 140.27709458577613)\">\n",
       "<g fill=\"none\" stroke=\"#cccccc\" stroke-linecap=\"round\" stroke-linejoin=\"round\" stroke-opacity=\"1\" stroke-width=\"2.5\">\n",
       "  <path d=\"M 176.4676055908203 515.2782592773438 L 212.6492640975408 497.69044065408843\"/>\n",
       "</g> <!-- drawing style -->\n",
       "</g> <!-- transform -->\n",
       "<g transform=\"matrix(-1.6863236619784963, 0.8197179435948896, -0.8197179435948896, -1.6863236619784963, 501.3507041931153, 526.7357890437839)\">\n",
       "<g fill=\"#cccccc\" fill-opacity=\"1\" fill-rule=\"nonzero\" stroke=\"none\">\n",
       "  <path d=\"M -0.00000000000000009185 0.5 C 0.27614237491539656 0.5 0.49999999999999994 0.2761423749153968 0.5 0.00000000000000012246 C 0.5000000000000001 -0.27614237491539656 0.27614237491539684 -0.4999999999999999 0.00000000000000015308 -0.5 z\"/>\n",
       "</g> <!-- drawing style -->\n",
       "</g> <!-- transform -->\n",
       "<g transform=\"matrix(5.733500450726887, -2.7870410082226242, 2.7870410082226242, 5.733500450726887, 539.9539489746094, 507.9708430598972)\">\n",
       "<g fill=\"#cccccc\" fill-opacity=\"1\" fill-rule=\"nonzero\" stroke=\"none\">\n",
       "  <path d=\"M -2 -0.5 L 0 0 L -2 0.5 z\"/>\n",
       "</g> <!-- drawing style -->\n",
       "</g> <!-- transform -->\n",
       "<g transform=\"matrix(0.75, 0, 0, 0.75, 369.00000000000006, 140.27709458577613)\">\n",
       "<g fill=\"none\" stroke=\"#cccccc\" stroke-linecap=\"round\" stroke-linejoin=\"round\" stroke-opacity=\"1\" stroke-width=\"2.5\">\n",
       "  <path d=\"M 92.70195007324219 551.7750854492188 L 138.1039857779105 532.3480249119938\"/>\n",
       "</g> <!-- drawing style -->\n",
       "</g> <!-- transform -->\n",
       "<g transform=\"matrix(-1.7238221809031373, 0.7376056457392062, -0.7376056457392062, -1.7238221809031373, 438.5264625549317, 554.1084086726902)\">\n",
       "<g fill=\"#cccccc\" fill-opacity=\"1\" fill-rule=\"nonzero\" stroke=\"none\">\n",
       "  <path d=\"M -0.00000000000000009185 0.5 C 0.27614237491539656 0.5 0.49999999999999994 0.2761423749153968 0.5 0.00000000000000012246 C 0.5000000000000001 -0.27614237491539656 0.27614237491539684 -0.4999999999999999 0.00000000000000015308 -0.5 z\"/>\n",
       "</g> <!-- drawing style -->\n",
       "</g> <!-- transform -->\n",
       "<g transform=\"matrix(5.860995415070667, -2.507859195513301, 2.507859195513301, 5.860995415070667, 484.2999801635743, 534.5223948787449)\">\n",
       "<g fill=\"#cccccc\" fill-opacity=\"1\" fill-rule=\"nonzero\" stroke=\"none\">\n",
       "  <path d=\"M -2 -0.5 L 0 0 L -2 0.5 z\"/>\n",
       "</g> <!-- drawing style -->\n",
       "</g> <!-- transform -->\n",
       "<g transform=\"matrix(0.75, 0, 0, 0.75, 369.00000000000006, 140.27709458577613)\">\n",
       "<g fill=\"none\" stroke=\"#cccccc\" stroke-linecap=\"round\" stroke-linejoin=\"round\" stroke-opacity=\"1\" stroke-width=\"2.5\">\n",
       "  <path d=\"M 25.55251693725586 586.70849609375 L 55.245011539949246 570.6952919152682\"/>\n",
       "</g> <!-- drawing style -->\n",
       "</g> <!-- transform -->\n",
       "<g transform=\"matrix(-1.6503043854397377, 0.8900114804868362, -0.8900114804868362, -1.6503043854397377, 388.16438770294195, 580.3084666560886)\">\n",
       "<g fill=\"#cccccc\" fill-opacity=\"1\" fill-rule=\"nonzero\" stroke=\"none\">\n",
       "  <path d=\"M -0.00000000000000009185 0.5 C 0.27614237491539656 0.5 0.49999999999999994 0.2761423749153968 0.5 0.00000000000000012246 C 0.5000000000000001 -0.27614237491539656 0.27614237491539684 -0.4999999999999999 0.00000000000000015308 -0.5 z\"/>\n",
       "</g> <!-- drawing style -->\n",
       "</g> <!-- transform -->\n",
       "<g transform=\"matrix(5.611034910495108, -3.026039033655243, 3.026039033655243, 5.611034910495108, 421.6558284759522, 562.2464854549168)\">\n",
       "<g fill=\"#cccccc\" fill-opacity=\"1\" fill-rule=\"nonzero\" stroke=\"none\">\n",
       "  <path d=\"M -2 -0.5 L 0 0 L -2 0.5 z\"/>\n",
       "</g> <!-- drawing style -->\n",
       "</g> <!-- transform -->\n",
       "<g transform=\"matrix(0.75, 0, 0, 0.75, 369.00000000000006, 140.27709458577613)\">\n",
       "<g fill=\"none\" stroke=\"#cccccc\" stroke-linecap=\"round\" stroke-linejoin=\"round\" stroke-opacity=\"1\" stroke-width=\"2.5\">\n",
       "  <path d=\"M -64.39990234375 631.0034790039062 L -11.98312258324798 605.5344550247898\"/>\n",
       "</g> <!-- drawing style -->\n",
       "</g> <!-- transform -->\n",
       "<g transform=\"matrix(-1.6864583505446595, 0.8194408043770989, -0.8194408043770989, -1.6864583505446595, 320.70007324218756, 613.5297038387058)\">\n",
       "<g fill=\"#cccccc\" fill-opacity=\"1\" fill-rule=\"nonzero\" stroke=\"none\">\n",
       "  <path d=\"M -0.00000000000000009185 0.5 C 0.27614237491539656 0.5 0.49999999999999994 0.2761423749153968 0.5 0.00000000000000012246 C 0.5000000000000001 -0.27614237491539656 0.27614237491539684 -0.4999999999999999 0.00000000000000015308 -0.5 z\"/>\n",
       "</g> <!-- drawing style -->\n",
       "</g> <!-- transform -->\n",
       "<g transform=\"matrix(5.733958391851843, -2.786098734882136, 2.786098734882136, 5.733958391851843, 371.48057484626776, 588.8557383846043)\">\n",
       "<g fill=\"#cccccc\" fill-opacity=\"1\" fill-rule=\"nonzero\" stroke=\"none\">\n",
       "  <path d=\"M -2 -0.5 L 0 0 L -2 0.5 z\"/>\n",
       "</g> <!-- drawing style -->\n",
       "</g> <!-- transform -->\n",
       "<g transform=\"matrix(0.75, 0, 0, 0.75, 369.00000000000006, 140.27709458577613)\">\n",
       "<g fill=\"none\" stroke=\"#cccccc\" stroke-linecap=\"round\" stroke-linejoin=\"round\" stroke-opacity=\"1\" stroke-width=\"2.5\">\n",
       "  <path d=\"M 89.8613052368164 245.1368408203125 L 348.3039339197468 -24.381835054346375\"/>\n",
       "</g> <!-- drawing style -->\n",
       "</g> <!-- transform -->\n",
       "<g transform=\"matrix(-1.2977253184074122, 1.3533417890408839, -1.3533417890408839, -1.2977253184074122, 436.39597892761236, 324.1297252010105)\">\n",
       "<g fill=\"#cccccc\" fill-opacity=\"1\" fill-rule=\"nonzero\" stroke=\"none\">\n",
       "  <path d=\"M -0.00000000000000009185 0.5 C 0.27614237491539656 0.5 0.49999999999999994 0.2761423749153968 0.5 0.00000000000000012246 C 0.5000000000000001 -0.27614237491539656 0.27614237491539684 -0.4999999999999999 0.00000000000000015308 -0.5 z\"/>\n",
       "</g> <!-- drawing style -->\n",
       "</g> <!-- transform -->\n",
       "<g transform=\"matrix(4.412266082585202, -4.601362082739005, 4.601362082739005, 4.412266082585202, 639.0524826049805, 112.78799412953833)\">\n",
       "<g fill=\"#cccccc\" fill-opacity=\"1\" fill-rule=\"nonzero\" stroke=\"none\">\n",
       "  <path d=\"M -2 -0.5 L 0 0 L -2 0.5 z\"/>\n",
       "</g> <!-- drawing style -->\n",
       "</g> <!-- transform -->\n",
       "<g transform=\"matrix(0.75, 0, 0, 0.75, 369.00000000000006, 140.27709458577613)\">\n",
       "<g fill=\"none\" stroke=\"#cccccc\" stroke-linecap=\"round\" stroke-linejoin=\"round\" stroke-opacity=\"1\" stroke-width=\"2.5\">\n",
       "  <path d=\"M -5.880240440368652 315.82708740234375 L 57.1343659962091 271.206806827472\"/>\n",
       "</g> <!-- drawing style -->\n",
       "</g> <!-- transform -->\n",
       "<g transform=\"matrix(-1.5302184442729514, 1.0835388838462923, -1.0835388838462923, -1.5302184442729514, 364.58981966972357, 377.14741013753394)\">\n",
       "<g fill=\"#cccccc\" fill-opacity=\"1\" fill-rule=\"nonzero\" stroke=\"none\">\n",
       "  <path d=\"M -0.00000000000000009185 0.5 C 0.27614237491539656 0.5 0.49999999999999994 0.2761423749153968 0.5 0.00000000000000012246 C 0.5000000000000001 -0.27614237491539656 0.27614237491539684 -0.4999999999999999 0.00000000000000015308 -0.5 z\"/>\n",
       "</g> <!-- drawing style -->\n",
       "</g> <!-- transform -->\n",
       "<g transform=\"matrix(5.202742710528034, -3.6840322050773935, 3.6840322050773935, 5.202742710528034, 422.25625991821295, 336.31413529622534)\">\n",
       "<g fill=\"#cccccc\" fill-opacity=\"1\" fill-rule=\"nonzero\" stroke=\"none\">\n",
       "  <path d=\"M -2 -0.5 L 0 0 L -2 0.5 z\"/>\n",
       "</g> <!-- drawing style -->\n",
       "</g> <!-- transform -->\n",
       "<g transform=\"matrix(0.75, 0, 0, 0.75, 369.00000000000006, 140.27709458577613)\">\n",
       "<g fill=\"none\" stroke=\"#cccccc\" stroke-linecap=\"round\" stroke-linejoin=\"round\" stroke-opacity=\"1\" stroke-width=\"2.5\">\n",
       "  <path d=\"M -8.262510299682617 313.2982482910156 L 62.756518605190124 224.71998667981737\"/>\n",
       "</g> <!-- drawing style -->\n",
       "</g> <!-- transform -->\n",
       "<g transform=\"matrix(-1.1728776988258247, 1.4628680403908747, -1.4628680403908747, -1.1728776988258247, 362.8031172752381, 375.25078080403784)\">\n",
       "<g fill=\"#cccccc\" fill-opacity=\"1\" fill-rule=\"nonzero\" stroke=\"none\">\n",
       "  <path d=\"M -0.00000000000000009185 0.5 C 0.27614237491539656 0.5 0.49999999999999994 0.2761423749153968 0.5 0.00000000000000012246 C 0.5000000000000001 -0.27614237491539656 0.27614237491539684 -0.4999999999999999 0.00000000000000015308 -0.5 z\"/>\n",
       "</g> <!-- drawing style -->\n",
       "</g> <!-- transform -->\n",
       "<g transform=\"matrix(3.987784176007804, -4.973751337328975, 4.973751337328975, 3.987784176007804, 424.04295730590826, 298.8695819209812)\">\n",
       "<g fill=\"#cccccc\" fill-opacity=\"1\" fill-rule=\"nonzero\" stroke=\"none\">\n",
       "  <path d=\"M -2 -0.5 L 0 0 L -2 0.5 z\"/>\n",
       "</g> <!-- drawing style -->\n",
       "</g> <!-- transform -->\n",
       "<g transform=\"matrix(0.75, 0, 0, 0.75, 369.00000000000006, 140.27709458577613)\">\n",
       "<g fill=\"none\" stroke=\"#cccccc\" stroke-linecap=\"round\" stroke-linejoin=\"round\" stroke-opacity=\"1\" stroke-width=\"2.5\">\n",
       "  <path d=\"M -11.422673225402832 311.4513854980469 L 68.68486244149511 112.01246751081156\"/>\n",
       "</g> <!-- drawing style -->\n",
       "</g> <!-- transform -->\n",
       "<g transform=\"matrix(-0.6988534170613725, 1.7398933592210886, -1.7398933592210886, -0.6988534170613725, 360.43299508094793, 373.8656337093113)\">\n",
       "<g fill=\"#cccccc\" fill-opacity=\"1\" fill-rule=\"nonzero\" stroke=\"none\">\n",
       "  <path d=\"M -0.00000000000000009185 0.5 C 0.27614237491539656 0.5 0.49999999999999994 0.2761423749153968 0.5 0.00000000000000012246 C 0.5000000000000001 -0.27614237491539656 0.27614237491539684 -0.4999999999999999 0.00000000000000015308 -0.5 z\"/>\n",
       "</g> <!-- drawing style -->\n",
       "</g> <!-- transform -->\n",
       "<g transform=\"matrix(2.3761016180086667, -5.915637421351701, 5.915637421351701, 2.3761016180086667, 425.26585006713873, 212.4551703761814)\">\n",
       "<g fill=\"#cccccc\" fill-opacity=\"1\" fill-rule=\"nonzero\" stroke=\"none\">\n",
       "  <path d=\"M -2 -0.5 L 0 0 L -2 0.5 z\"/>\n",
       "</g> <!-- drawing style -->\n",
       "</g> <!-- transform -->\n",
       "<g transform=\"matrix(0.75, 0, 0, 0.75, 369.00000000000006, 140.27709458577613)\">\n",
       "<g fill=\"none\" stroke=\"#cccccc\" stroke-linecap=\"round\" stroke-linejoin=\"round\" stroke-opacity=\"1\" stroke-width=\"2.5\">\n",
       "  <path d=\"M -10.043045997619629 312.1060791015625 L 66.95858776770949 172.54610674267235\"/>\n",
       "</g> <!-- drawing style -->\n",
       "</g> <!-- transform -->\n",
       "<g transform=\"matrix(-0.9057973279202252, 1.6416930896889894, -1.6416930896889894, -0.9057973279202252, 361.46771550178534, 374.356653911948)\">\n",
       "<g fill=\"#cccccc\" fill-opacity=\"1\" fill-rule=\"nonzero\" stroke=\"none\">\n",
       "  <path d=\"M -0.00000000000000009185 0.5 C 0.27614237491539656 0.5 0.49999999999999994 0.2761423749153968 0.5 0.00000000000000012246 C 0.5000000000000001 -0.27614237491539656 0.27614237491539684 -0.4999999999999999 0.00000000000000015308 -0.5 z\"/>\n",
       "</g> <!-- drawing style -->\n",
       "</g> <!-- transform -->\n",
       "<g transform=\"matrix(3.0797109149287656, -5.581756504942565, 5.581756504942565, 3.0797109149287656, 425.3783626556397, 258.52316163289527)\">\n",
       "<g fill=\"#cccccc\" fill-opacity=\"1\" fill-rule=\"nonzero\" stroke=\"none\">\n",
       "  <path d=\"M -2 -0.5 L 0 0 L -2 0.5 z\"/>\n",
       "</g> <!-- drawing style -->\n",
       "</g> <!-- transform -->\n",
       "<g transform=\"matrix(0.75, 0, 0, 0.75, 369.00000000000006, 140.27709458577613)\">\n",
       "<g fill=\"none\" stroke=\"#cccccc\" stroke-linecap=\"round\" stroke-linejoin=\"round\" stroke-opacity=\"1\" stroke-width=\"2.5\">\n",
       "  <path d=\"M -69.77404022216797 424.0197448730469 L -29.932343139936158 349.09698042532597\"/>\n",
       "</g> <!-- drawing style -->\n",
       "</g> <!-- transform -->\n",
       "<g transform=\"matrix(-0.8803376703018684, 1.6554850003088157, -1.6554850003088157, -0.8803376703018684, 316.6694698333741, 458.2919032405613)\">\n",
       "<g fill=\"#cccccc\" fill-opacity=\"1\" fill-rule=\"nonzero\" stroke=\"none\">\n",
       "  <path d=\"M -0.00000000000000009185 0.5 C 0.27614237491539656 0.5 0.49999999999999994 0.2761423749153968 0.5 0.00000000000000012246 C 0.5000000000000001 -0.27614237491539656 0.27614237491539684 -0.4999999999999999 0.00000000000000015308 -0.5 z\"/>\n",
       "</g> <!-- drawing style -->\n",
       "</g> <!-- transform -->\n",
       "<g transform=\"matrix(2.9931480790263523, -5.628649001049973, 5.628649001049973, 2.9931480790263523, 352.53703880310064, 390.84253190267066)\">\n",
       "<g fill=\"#cccccc\" fill-opacity=\"1\" fill-rule=\"nonzero\" stroke=\"none\">\n",
       "  <path d=\"M -2 -0.5 L 0 0 L -2 0.5 z\"/>\n",
       "</g> <!-- drawing style -->\n",
       "</g> <!-- transform -->\n",
       "<g transform=\"matrix(0.75, 0, 0, 0.75, 369.00000000000006, 140.27709458577613)\">\n",
       "<g fill=\"none\" stroke=\"#cccccc\" stroke-linecap=\"round\" stroke-linejoin=\"round\" stroke-opacity=\"1\" stroke-width=\"2.5\">\n",
       "  <path d=\"M 553.1497802734375 322.8218688964844 L 13.418302116304737 323.03882092808243\"/>\n",
       "</g> <!-- drawing style -->\n",
       "</g> <!-- transform -->\n",
       "<g transform=\"matrix(1.8749998485242292, -0.0007536803815339822, 0.0007536803815339822, 1.8749998485242292, 783.8623352050781, 382.3934962581394)\">\n",
       "<g fill=\"#cccccc\" fill-opacity=\"1\" fill-rule=\"nonzero\" stroke=\"none\">\n",
       "  <path d=\"M -0.00000000000000009185 0.5 C 0.27614237491539656 0.5 0.49999999999999994 0.2761423749153968 0.5 0.00000000000000012246 C 0.5000000000000001 -0.27614237491539656 0.27614237491539684 -0.4999999999999999 0.00000000000000015308 -0.5 z\"/>\n",
       "</g> <!-- drawing style -->\n",
       "</g> <!-- transform -->\n",
       "<g transform=\"matrix(-6.3749994849823794, 0.0025625132972155393, -0.0025625132972155393, -6.3749994849823794, 366.31372761726385, 382.5613353084324)\">\n",
       "<g fill=\"#cccccc\" fill-opacity=\"1\" fill-rule=\"nonzero\" stroke=\"none\">\n",
       "  <path d=\"M -2 -0.5 L 0 0 L -2 0.5 z\"/>\n",
       "</g> <!-- drawing style -->\n",
       "</g> <!-- transform -->\n",
       "<g transform=\"matrix(0.75, 0, 0, 0.75, 369.00000000000006, 140.27709458577613)\">\n",
       "<g fill=\"none\" stroke=\"#cccccc\" stroke-linecap=\"round\" stroke-linejoin=\"round\" stroke-opacity=\"1\" stroke-width=\"2.5\">\n",
       "  <path d=\"M -75.64295959472656 422.5563049316406 L -75.64295959472656 -40.837867736816406\"/>\n",
       "</g> <!-- drawing style -->\n",
       "</g> <!-- transform -->\n",
       "<g transform=\"matrix(0, 1.875, -1.875, 0, 312.26778030395513, 457.1943232845066)\">\n",
       "<g fill=\"#cccccc\" fill-opacity=\"1\" fill-rule=\"nonzero\" stroke=\"none\">\n",
       "  <path d=\"M -0.00000000000000009185 0.5 C 0.27614237491539656 0.5 0.49999999999999994 0.2761423749153968 0.5 0.00000000000000012246 C 0.5000000000000001 -0.27614237491539656 0.27614237491539684 -0.4999999999999999 0.00000000000000015308 -0.5 z\"/>\n",
       "</g> <!-- drawing style -->\n",
       "</g> <!-- transform -->\n",
       "<g transform=\"matrix(-0, -6.375, 6.375, -0, 312.26778030395513, 96.89869378316382)\">\n",
       "<g fill=\"#cccccc\" fill-opacity=\"1\" fill-rule=\"nonzero\" stroke=\"none\">\n",
       "  <path d=\"M -2 -0.5 L 0 0 L -2 0.5 z\"/>\n",
       "</g> <!-- drawing style -->\n",
       "</g> <!-- transform -->\n",
       "<g transform=\"matrix(0.75, 0, 0, 0.75, 369.00000000000006, 140.27709458577613)\">\n",
       "<g fill=\"none\" stroke=\"#cccccc\" stroke-linecap=\"round\" stroke-linejoin=\"round\" stroke-opacity=\"1\" stroke-width=\"2.5\">\n",
       "  <path d=\"M -75.64295959472656 623.9664306640625 L -75.64295959472656 464.5563049316406\"/>\n",
       "</g> <!-- drawing style -->\n",
       "</g> <!-- transform -->\n",
       "<g transform=\"matrix(0, 1.875, -1.875, 0, 312.26778030395513, 608.251917583823)\">\n",
       "<g fill=\"#cccccc\" fill-opacity=\"1\" fill-rule=\"nonzero\" stroke=\"none\">\n",
       "  <path d=\"M -0.00000000000000009185 0.5 C 0.27614237491539656 0.5 0.49999999999999994 0.2761423749153968 0.5 0.00000000000000012246 C 0.5000000000000001 -0.27614237491539656 0.27614237491539684 -0.4999999999999999 0.00000000000000015308 -0.5 z\"/>\n",
       "</g> <!-- drawing style -->\n",
       "</g> <!-- transform -->\n",
       "<g transform=\"matrix(-0, -6.375, 6.375, -0, 312.26778030395513, 475.9443232845066)\">\n",
       "<g fill=\"#cccccc\" fill-opacity=\"1\" fill-rule=\"nonzero\" stroke=\"none\">\n",
       "  <path d=\"M -2 -0.5 L 0 0 L -2 0.5 z\"/>\n",
       "</g> <!-- drawing style -->\n",
       "</g> <!-- transform -->\n",
       "<g transform=\"matrix(0.75, 0, 0, 0.75, 369.00000000000006, 140.27709458577613)\">\n",
       "<g fill=\"none\" stroke=\"#cccccc\" stroke-linecap=\"round\" stroke-linejoin=\"round\" stroke-opacity=\"1\" stroke-width=\"2.5\">\n",
       "  <path d=\"M 537.8593139648438 636.4664306640625 L -46.14295959472656 636.4664306640625\"/>\n",
       "</g> <!-- drawing style -->\n",
       "</g> <!-- transform -->\n",
       "<g transform=\"matrix(1.875, 0, 0, 1.875, 772.3944854736328, 617.626917583823)\">\n",
       "<g fill=\"#cccccc\" fill-opacity=\"1\" fill-rule=\"nonzero\" stroke=\"none\">\n",
       "  <path d=\"M -0.00000000000000009185 0.5 C 0.27614237491539656 0.5 0.49999999999999994 0.2761423749153968 0.5 0.00000000000000012246 C 0.5000000000000001 -0.27614237491539656 0.27614237491539684 -0.4999999999999999 0.00000000000000015308 -0.5 z\"/>\n",
       "</g> <!-- drawing style -->\n",
       "</g> <!-- transform -->\n",
       "<g transform=\"matrix(-6.375, -0, 0, -6.375, 321.64278030395513, 617.626917583823)\">\n",
       "<g fill=\"#cccccc\" fill-opacity=\"1\" fill-rule=\"nonzero\" stroke=\"none\">\n",
       "  <path d=\"M -2 -0.5 L 0 0 L -2 0.5 z\"/>\n",
       "</g> <!-- drawing style -->\n",
       "</g> <!-- transform -->\n",
       "<g transform=\"matrix(0.75, 0, 0, 0.75, 369.00000000000006, 140.27709458577613)\">\n",
       "<g fill=\"none\" stroke=\"#cccccc\" stroke-linecap=\"round\" stroke-linejoin=\"round\" stroke-opacity=\"1\" stroke-width=\"2.5\">\n",
       "  <path d=\"M -157.00355529785156 683.70849609375 L -101.15417504461486 651.2795263854438\"/>\n",
       "</g> <!-- drawing style -->\n",
       "</g> <!-- transform -->\n",
       "<g transform=\"matrix(-1.621475526681585, 0.9415105503246772, -0.9415105503246772, -1.621475526681585, 251.24733352661138, 653.0584666560886)\">\n",
       "<g fill=\"#cccccc\" fill-opacity=\"1\" fill-rule=\"nonzero\" stroke=\"none\">\n",
       "  <path d=\"M -0.00000000000000009185 0.5 C 0.27614237491539656 0.5 0.49999999999999994 0.2761423749153968 0.5 0.00000000000000012246 C 0.5000000000000001 -0.27614237491539656 0.27614237491539684 -0.4999999999999999 0.00000000000000015308 -0.5 z\"/>\n",
       "</g> <!-- drawing style -->\n",
       "</g> <!-- transform -->\n",
       "<g transform=\"matrix(5.513016790717389, -3.2011358711039026, 3.2011358711039026, 5.513016790717389, 304.1604022979737, 622.3344676326511)\">\n",
       "<g fill=\"#cccccc\" fill-opacity=\"1\" fill-rule=\"nonzero\" stroke=\"none\">\n",
       "  <path d=\"M -2 -0.5 L 0 0 L -2 0.5 z\"/>\n",
       "</g> <!-- drawing style -->\n",
       "</g> <!-- transform -->\n",
       "<g transform=\"matrix(0.75, 0, 0, 0.75, 369.00000000000006, 140.27709458577613)\">\n",
       "<g fill=\"none\" stroke=\"#cccccc\" stroke-linecap=\"round\" stroke-linejoin=\"round\" stroke-opacity=\"1\" stroke-width=\"2.5\">\n",
       "  <path d=\"M -167.87815856933594 677.4854125976562 L -171.85876342423725 -90.69724208844511\"/>\n",
       "</g> <!-- drawing style -->\n",
       "</g> <!-- transform -->\n",
       "<g transform=\"matrix(0.009715832366698795, 1.8749748271914006, -1.8749748271914006, 0.009715832366698795, 243.0913810729981, 648.3911540340183)\">\n",
       "<g fill=\"#cccccc\" fill-opacity=\"1\" fill-rule=\"nonzero\" stroke=\"none\">\n",
       "  <path d=\"M -0.00000000000000009185 0.5 C 0.27614237491539656 0.5 0.49999999999999994 0.2761423749153968 0.5 0.00000000000000012246 C 0.5000000000000001 -0.27614237491539656 0.27614237491539684 -0.4999999999999999 0.00000000000000015308 -0.5 z\"/>\n",
       "</g> <!-- drawing style -->\n",
       "</g> <!-- transform -->\n",
       "<g transform=\"matrix(-0.0330338300467759, -6.374914412450763, 6.374914412450763, -0.0330338300467759, 240.03985977172857, 59.504334194540775)\">\n",
       "<g fill=\"#cccccc\" fill-opacity=\"1\" fill-rule=\"nonzero\" stroke=\"none\">\n",
       "  <path d=\"M -2 -0.5 L 0 0 L -2 0.5 z\"/>\n",
       "</g> <!-- drawing style -->\n",
       "</g> <!-- transform -->\n",
       "<g transform=\"matrix(0.75, 0, 0, 0.75, 369.00000000000006, 140.27709458577613)\">\n",
       "<g fill=\"none\" stroke=\"#cccccc\" stroke-linecap=\"round\" stroke-linejoin=\"round\" stroke-opacity=\"1\" stroke-width=\"2.5\">\n",
       "  <path d=\"M 93.6910171508789 146.03192138671875 L 366.95644355327505 131.03728904005723\"/>\n",
       "</g> <!-- drawing style -->\n",
       "</g> <!-- transform -->\n",
       "<g transform=\"matrix(-1.8721836010863904, 0.10273053987591127, -0.10273053987591127, -1.8721836010863904, 439.26826286315924, 249.8010356258152)\">\n",
       "<g fill=\"#cccccc\" fill-opacity=\"1\" fill-rule=\"nonzero\" stroke=\"none\">\n",
       "  <path d=\"M -0.00000000000000009185 0.5 C 0.27614237491539656 0.5 0.49999999999999994 0.2761423749153968 0.5 0.00000000000000012246 C 0.5000000000000001 -0.27614237491539656 0.27614237491539684 -0.4999999999999999 0.00000000000000015308 -0.5 z\"/>\n",
       "</g> <!-- drawing style -->\n",
       "</g> <!-- transform -->\n",
       "<g transform=\"matrix(6.365424243693727, -0.34928383557809833, 0.34928383557809833, 6.365424243693727, 656.9481811523438, 237.85649369466284)\">\n",
       "<g fill=\"#cccccc\" fill-opacity=\"1\" fill-rule=\"nonzero\" stroke=\"none\">\n",
       "  <path d=\"M -2 -0.5 L 0 0 L -2 0.5 z\"/>\n",
       "</g> <!-- drawing style -->\n",
       "</g> <!-- transform -->\n",
       "<g transform=\"matrix(0.75, 0, 0, 0.75, 369.00000000000006, 140.27709458577613)\">\n",
       "<g fill=\"none\" stroke=\"#cccccc\" stroke-linecap=\"round\" stroke-linejoin=\"round\" stroke-opacity=\"1\" stroke-width=\"2.5\">\n",
       "  <path d=\"M 638.4710693359375 707.8694458007812 L 573.2785650972978 655.0394752306177\"/>\n",
       "</g> <!-- drawing style -->\n",
       "</g> <!-- transform -->\n",
       "<g transform=\"matrix(1.4567319795101, 1.1804901269695505, -1.1804901269695505, 1.4567319795101, 847.8533020019531, 671.1791789363621)\">\n",
       "<g fill=\"#cccccc\" fill-opacity=\"1\" fill-rule=\"nonzero\" stroke=\"none\">\n",
       "  <path d=\"M -0.00000000000000009185 0.5 C 0.27614237491539656 0.5 0.49999999999999994 0.2761423749153968 0.5 0.00000000000000012246 C 0.5000000000000001 -0.27614237491539656 0.27614237491539684 -0.4999999999999999 0.00000000000000015308 -0.5 z\"/>\n",
       "</g> <!-- drawing style -->\n",
       "</g> <!-- transform -->\n",
       "<g transform=\"matrix(-4.95288873033434, -4.013666431696471, 4.013666431696471, -4.95288873033434, 789.0531463623047, 623.5293681453464)\">\n",
       "<g fill=\"#cccccc\" fill-opacity=\"1\" fill-rule=\"nonzero\" stroke=\"none\">\n",
       "  <path d=\"M -2 -0.5 L 0 0 L -2 0.5 z\"/>\n",
       "</g> <!-- drawing style -->\n",
       "</g> <!-- transform -->\n",
       "<g transform=\"matrix(0.75, 0, 0, 0.75, 369.00000000000006, 140.27709458577613)\">\n",
       "<g fill=\"none\" stroke=\"#cccccc\" stroke-linecap=\"round\" stroke-linejoin=\"round\" stroke-opacity=\"1\" stroke-width=\"2.5\">\n",
       "  <path d=\"M 639.3388061523438 757.8348999023438 L 567.8014751128972 660.2576057534914\"/>\n",
       "</g> <!-- drawing style -->\n",
       "</g> <!-- transform -->\n",
       "<g transform=\"matrix(1.108611846809652, 1.5121523643843873, -1.5121523643843873, 1.108611846809652, 848.5041046142578, 708.6532695125339)\">\n",
       "<g fill=\"#cccccc\" fill-opacity=\"1\" fill-rule=\"nonzero\" stroke=\"none\">\n",
       "  <path d=\"M -0.00000000000000009185 0.5 C 0.27614237491539656 0.5 0.49999999999999994 0.2761423749153968 0.5 0.00000000000000012246 C 0.5000000000000001 -0.27614237491539656 0.27614237491539684 -0.4999999999999999 0.00000000000000015308 -0.5 z\"/>\n",
       "</g> <!-- drawing style -->\n",
       "</g> <!-- transform -->\n",
       "<g transform=\"matrix(-3.769280279152817, -5.141318038906917, 5.141318038906917, -3.769280279152817, 787.3125457763672, 625.1876628230808)\">\n",
       "<g fill=\"#cccccc\" fill-opacity=\"1\" fill-rule=\"nonzero\" stroke=\"none\">\n",
       "  <path d=\"M -2 -0.5 L 0 0 L -2 0.5 z\"/>\n",
       "</g> <!-- drawing style -->\n",
       "</g> <!-- transform -->\n",
       "<g transform=\"matrix(0.75, 0, 0, 0.75, 369.00000000000006, 140.27709458577613)\">\n",
       "<g fill=\"none\" stroke=\"#cccccc\" stroke-linecap=\"round\" stroke-linejoin=\"round\" stroke-opacity=\"1\" stroke-width=\"2.5\">\n",
       "  <path d=\"M 634.5152587890625 668.2234497070312 L 577.9595460858254 646.881623690553\"/>\n",
       "</g> <!-- drawing style -->\n",
       "</g> <!-- transform -->\n",
       "<g transform=\"matrix(1.754252734937093, 0.6619836417659641, -0.6619836417659641, 1.754252734937093, 844.8864440917969, 641.4446818660496)\">\n",
       "<g fill=\"#cccccc\" fill-opacity=\"1\" fill-rule=\"nonzero\" stroke=\"none\">\n",
       "  <path d=\"M -0.00000000000000009185 0.5 C 0.27614237491539656 0.5 0.49999999999999994 0.2761423749153968 0.5 0.00000000000000012246 C 0.5000000000000001 -0.27614237491539656 0.27614237491539684 -0.4999999999999999 0.00000000000000015308 -0.5 z\"/>\n",
       "</g> <!-- drawing style -->\n",
       "</g> <!-- transform -->\n",
       "<g transform=\"matrix(-5.9644592987861165, -2.250744382004278, 2.250744382004278, -5.9644592987861165, 790.5407409667969, 620.9368235896824)\">\n",
       "<g fill=\"#cccccc\" fill-opacity=\"1\" fill-rule=\"nonzero\" stroke=\"none\">\n",
       "  <path d=\"M -2 -0.5 L 0 0 L -2 0.5 z\"/>\n",
       "</g> <!-- drawing style -->\n",
       "</g> <!-- transform -->\n",
       "<g transform=\"matrix(0.75, 0, 0, 0.75, 369.00000000000006, 140.27709458577613)\">\n",
       "<g fill=\"none\" stroke=\"#cccccc\" stroke-linecap=\"round\" stroke-linejoin=\"round\" stroke-opacity=\"1\" stroke-width=\"2.5\">\n",
       "  <path d=\"M 462.099365234375 88.73896789550781 L 473.38369608573134 80.19625566506504\"/>\n",
       "</g> <!-- drawing style -->\n",
       "</g> <!-- transform -->\n",
       "<g transform=\"matrix(-1.4949317707603307, 1.1317261156178124, -1.1317261156178124, -1.4949317707603307, 715.5745239257812, 206.83132050740699)\">\n",
       "<g fill=\"#cccccc\" fill-opacity=\"1\" fill-rule=\"nonzero\" stroke=\"none\">\n",
       "  <path d=\"M -0.00000000000000009185 0.5 C 0.27614237491539656 0.5 0.49999999999999994 0.2761423749153968 0.5 0.00000000000000012246 C 0.5000000000000001 -0.27614237491539656 0.27614237491539684 -0.4999999999999999 0.00000000000000015308 -0.5 z\"/>\n",
       "</g> <!-- drawing style -->\n",
       "</g> <!-- transform -->\n",
       "<g transform=\"matrix(5.0827680205851244, -3.847868793100562, 3.847868793100562, 5.0827680205851244, 734.2033081054688, 192.72854874837378)\">\n",
       "<g fill=\"#cccccc\" fill-opacity=\"1\" fill-rule=\"nonzero\" stroke=\"none\">\n",
       "  <path d=\"M -2 -0.5 L 0 0 L -2 0.5 z\"/>\n",
       "</g> <!-- drawing style -->\n",
       "</g> <!-- transform -->\n",
       "<g transform=\"matrix(0.75, 0, 0, 0.75, 369.00000000000006, 140.27709458577613)\">\n",
       "<g fill=\"none\" stroke=\"#cccccc\" stroke-linecap=\"round\" stroke-linejoin=\"round\" stroke-opacity=\"1\" stroke-width=\"2.5\">\n",
       "  <path d=\"M 407.1558532714844 123.03173065185547 L 426.77799136180124 111.3624755694439\"/>\n",
       "</g> <!-- drawing style -->\n",
       "</g> <!-- transform -->\n",
       "<g transform=\"matrix(-1.611556263160137, 0.9583900096877753, -0.9583900096877753, -1.611556263160137, 674.3668899536133, 232.55089257466773)\">\n",
       "<g fill=\"#cccccc\" fill-opacity=\"1\" fill-rule=\"nonzero\" stroke=\"none\">\n",
       "  <path d=\"M -0.00000000000000009185 0.5 C 0.27614237491539656 0.5 0.49999999999999994 0.2761423749153968 0.5 0.00000000000000012246 C 0.5000000000000001 -0.27614237491539656 0.27614237491539684 -0.4999999999999999 0.00000000000000015308 -0.5 z\"/>\n",
       "</g> <!-- drawing style -->\n",
       "</g> <!-- transform -->\n",
       "<g transform=\"matrix(5.479291294744466, -3.2585260329384362, 3.2585260329384362, 5.479291294744466, 700.0420761108398, 217.28189919698218)\">\n",
       "<g fill=\"#cccccc\" fill-opacity=\"1\" fill-rule=\"nonzero\" stroke=\"none\">\n",
       "  <path d=\"M -2 -0.5 L 0 0 L -2 0.5 z\"/>\n",
       "</g> <!-- drawing style -->\n",
       "</g> <!-- transform -->\n",
       "<g transform=\"matrix(0.75, 0, 0, 0.75, 369.00000000000006, 140.27709458577613)\">\n",
       "<g fill=\"none\" stroke=\"#cccccc\" stroke-linecap=\"round\" stroke-linejoin=\"round\" stroke-opacity=\"1\" stroke-width=\"2.5\">\n",
       "  <path d=\"M -160.53477478027344 -125.1498031616211 L -109.24072453898239 -147.28629890655398\"/>\n",
       "</g> <!-- drawing style -->\n",
       "</g> <!-- transform -->\n",
       "<g transform=\"matrix(-1.7215282048395104, 0.7429439009387263, -0.7429439009387263, -1.7215282048395104, 248.59891891479498, 46.414742214560306)\">\n",
       "<g fill=\"#cccccc\" fill-opacity=\"1\" fill-rule=\"nonzero\" stroke=\"none\">\n",
       "  <path d=\"M -0.00000000000000009185 0.5 C 0.27614237491539656 0.5 0.49999999999999994 0.2761423749153968 0.5 0.00000000000000012246 C 0.5000000000000001 -0.27614237491539656 0.27614237491539684 -0.4999999999999999 0.00000000000000015308 -0.5 z\"/>\n",
       "</g> <!-- drawing style -->\n",
       "</g> <!-- transform -->\n",
       "<g transform=\"matrix(5.853195896454335, -2.5260092631916695, 2.5260092631916695, 5.853195896454335, 298.77584838867193, 24.760351879477298)\">\n",
       "<g fill=\"#cccccc\" fill-opacity=\"1\" fill-rule=\"nonzero\" stroke=\"none\">\n",
       "  <path d=\"M -2 -0.5 L 0 0 L -2 0.5 z\"/>\n",
       "</g> <!-- drawing style -->\n",
       "</g> <!-- transform -->\n",
       "<g transform=\"matrix(0.75, 0, 0, 0.75, 369.00000000000006, 140.27709458577613)\">\n",
       "<g fill=\"none\" stroke=\"#c256fc\" stroke-linecap=\"round\" stroke-linejoin=\"round\" stroke-opacity=\"1\" stroke-width=\"4\">\n",
       "  <path d=\"M 127.35322570800781 30.922077178955078 C 127.35322570800781 36.72107126577666 122.65221558123113 41.42208480834961 116.85322570800781 41.42208480834961 C 111.05423583478448 41.42208480834961 106.35322570800781 36.72107126577666 106.35322570800781 30.922077178955078 C 106.35322570800781 25.1230830921335 111.05423583478448 20.422069549560547 116.85322570800781 20.422069549560547 C 122.65221558123113 20.422069549560547 127.35322570800781 25.1230830921335 127.35322570800781 30.922077178955078 z\"/>\n",
       "</g> <!-- drawing style -->\n",
       "</g> <!-- transform -->\n",
       "<g transform=\"matrix(0.75, 0, 0, 0.75, 369.00000000000006, 140.27709458577613)\">\n",
       "<g fill=\"#50395d\" fill-opacity=\"1\" fill-rule=\"nonzero\" stroke=\"none\">\n",
       "  <path d=\"M 127.35322570800781 30.922077178955078 C 127.35322570800781 36.72107126577666 122.65221558123113 41.42208480834961 116.85322570800781 41.42208480834961 C 111.05423583478448 41.42208480834961 106.35322570800781 36.72107126577666 106.35322570800781 30.922077178955078 C 106.35322570800781 25.1230830921335 111.05423583478448 20.422069549560547 116.85322570800781 20.422069549560547 C 122.65221558123113 20.422069549560547 127.35322570800781 25.1230830921335 127.35322570800781 30.922077178955078 z\"/>\n",
       "</g> <!-- drawing style -->\n",
       "</g> <!-- transform -->\n",
       "<g transform=\"matrix(0.75, 0, 0, 0.75, 466.01491928100586, 181.12881444203833)\">\n",
       "<text fill=\"#cccccc\" fill-opacity=\"1\" font-family=\"Helvetica\" font-size=\"16\" font-style=\"normal\" font-weight=\"normal\" stroke=\"none\" x=\"0\" y=\"0\">topology.qualifier/all-fq</text>\n",
       "</g> <!-- transform -->\n",
       "<g transform=\"matrix(0.75, 0, 0, 0.75, 369.00000000000006, 140.27709458577613)\">\n",
       "<g fill=\"none\" stroke=\"#c256fc\" stroke-linecap=\"round\" stroke-linejoin=\"round\" stroke-opacity=\"1\" stroke-width=\"4\">\n",
       "  <path d=\"M 164.63290405273438 -22.25457763671875 C 164.63290405273438 -16.455587763495423 159.9318939259577 -11.75457763671875 154.13290405273438 -11.75457763671875 C 148.33391417951105 -11.75457763671875 143.63290405273438 -16.455587763495423 143.63290405273438 -22.25457763671875 C 143.63290405273438 -28.05356750994208 148.33391417951105 -32.75457763671875 154.13290405273438 -32.75457763671875 C 159.9318939259577 -32.75457763671875 164.63290405273438 -28.05356750994208 164.63290405273438 -22.25457763671875 z\"/>\n",
       "</g> <!-- drawing style -->\n",
       "</g> <!-- transform -->\n",
       "<g transform=\"matrix(0.75, 0, 0, 0.75, 369.00000000000006, 140.27709458577613)\">\n",
       "<g fill=\"#50395d\" fill-opacity=\"1\" fill-rule=\"nonzero\" stroke=\"none\">\n",
       "  <path d=\"M 164.63290405273438 -22.25457763671875 C 164.63290405273438 -16.455587763495423 159.9318939259577 -11.75457763671875 154.13290405273438 -11.75457763671875 C 148.33391417951105 -11.75457763671875 143.63290405273438 -16.455587763495423 143.63290405273438 -22.25457763671875 C 143.63290405273438 -28.05356750994208 148.33391417951105 -32.75457763671875 154.13290405273438 -32.75457763671875 C 159.9318939259577 -32.75457763671875 164.63290405273438 -28.05356750994208 164.63290405273438 -22.25457763671875 z\"/>\n",
       "</g> <!-- drawing style -->\n",
       "</g> <!-- transform -->\n",
       "<g transform=\"matrix(0.75, 0, 0, 0.75, 493.9746780395508, 141.24631760823706)\">\n",
       "<text fill=\"#cccccc\" fill-opacity=\"1\" font-family=\"Helvetica\" font-size=\"16\" font-style=\"normal\" font-weight=\"normal\" stroke=\"none\" x=\"0\" y=\"0\">topology.qualifier/fq-ns</text>\n",
       "</g> <!-- transform -->\n",
       "<g transform=\"matrix(0.75, 0, 0, 0.75, 369.00000000000006, 140.27709458577613)\">\n",
       "<g fill=\"none\" stroke=\"#ffff00\" stroke-linecap=\"round\" stroke-linejoin=\"round\" stroke-opacity=\"1\" stroke-width=\"4\">\n",
       "  <path d=\"M 249.68075561523438 484.7935485839844 C 249.68075561523438 490.5925384572077 244.9797454884577 495.2935485839844 239.18075561523438 495.2935485839844 C 233.38176574201105 495.2935485839844 228.68075561523438 490.5925384572077 228.68075561523438 484.7935485839844 C 228.68075561523438 478.99455871076105 233.38176574201105 474.2935485839844 239.18075561523438 474.2935485839844 C 244.9797454884577 474.2935485839844 249.68075561523438 478.99455871076105 249.68075561523438 484.7935485839844 z\"/>\n",
       "</g> <!-- drawing style -->\n",
       "</g> <!-- transform -->\n",
       "<g transform=\"matrix(0.75, 0, 0, 0.75, 369.00000000000006, 140.27709458577613)\">\n",
       "<g fill=\"#737360\" fill-opacity=\"1\" fill-rule=\"nonzero\" stroke=\"none\">\n",
       "  <path d=\"M 249.68075561523438 484.7935485839844 C 249.68075561523438 490.5925384572077 244.9797454884577 495.2935485839844 239.18075561523438 495.2935485839844 C 233.38176574201105 495.2935485839844 228.68075561523438 490.5925384572077 228.68075561523438 484.7935485839844 C 228.68075561523438 478.99455871076105 233.38176574201105 474.2935485839844 239.18075561523438 474.2935485839844 C 244.9797454884577 474.2935485839844 249.68075561523438 478.99455871076105 249.68075561523438 484.7935485839844 z\"/>\n",
       "</g> <!-- drawing style -->\n",
       "</g> <!-- transform -->\n",
       "<g transform=\"matrix(0.75, 0, 0, 0.75, 557.7605667114258, 521.5324122737644)\">\n",
       "<text fill=\"#cccccc\" fill-opacity=\"1\" font-family=\"Helvetica\" font-size=\"16\" font-style=\"normal\" font-weight=\"normal\" stroke=\"none\" x=\"0\" y=\"0\">topology.finder/clojurescript-file? </text>\n",
       "</g> <!-- transform -->\n",
       "<g transform=\"matrix(0.75, 0, 0, 0.75, 369.00000000000006, 140.27709458577613)\">\n",
       "<g fill=\"none\" stroke=\"#ffff00\" stroke-linecap=\"round\" stroke-linejoin=\"round\" stroke-opacity=\"1\" stroke-width=\"4\">\n",
       "  <path d=\"M 175.72544860839844 520.7430419921875 C 175.72544860839844 526.5420318654109 171.02443848162176 531.2430419921875 165.22544860839844 531.2430419921875 C 159.42645873517512 531.2430419921875 154.72544860839844 526.5420318654109 154.72544860839844 520.7430419921875 C 154.72544860839844 514.9440521189641 159.42645873517512 510.2430419921875 165.22544860839844 510.2430419921875 C 171.02443848162176 510.2430419921875 175.72544860839844 514.9440521189641 175.72544860839844 520.7430419921875 z\"/>\n",
       "</g> <!-- drawing style -->\n",
       "</g> <!-- transform -->\n",
       "<g transform=\"matrix(0.75, 0, 0, 0.75, 369.00000000000006, 140.27709458577613)\">\n",
       "<g fill=\"#737360\" fill-opacity=\"1\" fill-rule=\"nonzero\" stroke=\"none\">\n",
       "  <path d=\"M 175.72544860839844 520.7430419921875 C 175.72544860839844 526.5420318654109 171.02443848162176 531.2430419921875 165.22544860839844 531.2430419921875 C 159.42645873517512 531.2430419921875 154.72544860839844 526.5420318654109 154.72544860839844 520.7430419921875 C 154.72544860839844 514.9440521189641 159.42645873517512 510.2430419921875 165.22544860839844 510.2430419921875 C 171.02443848162176 510.2430419921875 175.72544860839844 514.9440521189641 175.72544860839844 520.7430419921875 z\"/>\n",
       "</g> <!-- drawing style -->\n",
       "</g> <!-- transform -->\n",
       "<g transform=\"matrix(0.75, 0, 0, 0.75, 502.2940979003906, 548.4945323299168)\">\n",
       "<text fill=\"#cccccc\" fill-opacity=\"1\" font-family=\"Helvetica\" font-size=\"16\" font-style=\"normal\" font-weight=\"normal\" stroke=\"none\" x=\"0\" y=\"0\">topology.finder/find-sources-in-dir </text>\n",
       "</g> <!-- transform -->\n",
       "<g transform=\"matrix(0.75, 0, 0, 0.75, 369.00000000000006, 140.27709458577613)\">\n",
       "<g fill=\"none\" stroke=\"#ffff00\" stroke-linecap=\"round\" stroke-linejoin=\"round\" stroke-opacity=\"1\" stroke-width=\"4\">\n",
       "  <path d=\"M 91.70980072021484 556.6924438476562 C 91.70980072021484 562.4914337208796 87.00879059343816 567.1924438476562 81.20980072021484 567.1924438476562 C 75.41081084699151 567.1924438476562 70.70980072021484 562.4914337208796 70.70980072021484 556.6924438476562 C 70.70980072021484 550.8934539744329 75.41081084699151 546.1924438476562 81.20980072021484 546.1924438476562 C 87.00879059343816 546.1924438476562 91.70980072021484 550.8934539744329 91.70980072021484 556.6924438476562 z\"/>\n",
       "</g> <!-- drawing style -->\n",
       "</g> <!-- transform -->\n",
       "<g transform=\"matrix(0.75, 0, 0, 0.75, 369.00000000000006, 140.27709458577613)\">\n",
       "<g fill=\"#737360\" fill-opacity=\"1\" fill-rule=\"nonzero\" stroke=\"none\">\n",
       "  <path d=\"M 91.70980072021484 556.6924438476562 C 91.70980072021484 562.4914337208796 87.00879059343816 567.1924438476562 81.20980072021484 567.1924438476562 C 75.41081084699151 567.1924438476562 70.70980072021484 562.4914337208796 70.70980072021484 556.6924438476562 C 70.70980072021484 550.8934539744329 75.41081084699151 546.1924438476562 81.20980072021484 546.1924438476562 C 87.00879059343816 546.1924438476562 91.70980072021484 550.8934539744329 91.70980072021484 556.6924438476562 z\"/>\n",
       "</g> <!-- drawing style -->\n",
       "</g> <!-- transform -->\n",
       "<g transform=\"matrix(0.75, 0, 0, 0.75, 439.28235626220703, 575.4565837215183)\">\n",
       "<text fill=\"#cccccc\" fill-opacity=\"1\" font-family=\"Helvetica\" font-size=\"16\" font-style=\"normal\" font-weight=\"normal\" stroke=\"none\" x=\"0\" y=\"0\">topology.finder/dirs-&gt;sources </text>\n",
       "</g> <!-- transform -->\n",
       "<g transform=\"matrix(0.75, 0, 0, 0.75, 369.00000000000006, 140.27709458577613)\">\n",
       "<g fill=\"none\" stroke=\"#ffff00\" stroke-linecap=\"round\" stroke-linejoin=\"round\" stroke-opacity=\"1\" stroke-width=\"4\">\n",
       "  <path d=\"M 25.050487518310547 592.6419067382812 C 25.050487518310547 598.4408966115046 20.349477391533874 603.1419067382812 14.550487518310547 603.1419067382812 C 8.751497645087216 603.1419067382812 4.050487518310547 598.4408966115046 4.050487518310547 592.6419067382812 C 4.050487518310547 586.8429168650579 8.751497645087216 582.1419067382812 14.550487518310547 582.1419067382812 C 20.349477391533874 582.1419067382812 25.050487518310547 586.8429168650579 25.050487518310547 592.6419067382812 z\"/>\n",
       "</g> <!-- drawing style -->\n",
       "</g> <!-- transform -->\n",
       "<g transform=\"matrix(0.75, 0, 0, 0.75, 369.00000000000006, 140.27709458577613)\">\n",
       "<g fill=\"#737360\" fill-opacity=\"1\" fill-rule=\"nonzero\" stroke=\"none\">\n",
       "  <path d=\"M 25.050487518310547 592.6419067382812 C 25.050487518310547 598.4408966115046 20.349477391533874 603.1419067382812 14.550487518310547 603.1419067382812 C 8.751497645087216 603.1419067382812 4.050487518310547 598.4408966115046 4.050487518310547 592.6419067382812 C 4.050487518310547 586.8429168650579 8.751497645087216 582.1419067382812 14.550487518310547 582.1419067382812 C 20.349477391533874 582.1419067382812 25.050487518310547 586.8429168650579 25.050487518310547 592.6419067382812 z\"/>\n",
       "</g> <!-- drawing style -->\n",
       "</g> <!-- transform -->\n",
       "<g transform=\"matrix(0.75, 0, 0, 0.75, 389.28786849975586, 602.4186808894871)\">\n",
       "<text fill=\"#cccccc\" fill-opacity=\"1\" font-family=\"Helvetica\" font-size=\"16\" font-style=\"normal\" font-weight=\"normal\" stroke=\"none\" x=\"0\" y=\"0\">topology.finder/source-paths-&gt;namespaces </text>\n",
       "</g> <!-- transform -->\n",
       "<g transform=\"matrix(0.75, 0, 0, 0.75, 369.00000000000006, 140.27709458577613)\">\n",
       "<g fill=\"none\" stroke=\"#ff9800\" stroke-linecap=\"round\" stroke-linejoin=\"round\" stroke-opacity=\"1\" stroke-width=\"4\">\n",
       "  <path d=\"M 91.70980072021484 254.15911865234375 C 91.70980072021484 259.95810852556707 87.00879059343816 264.65911865234375 81.20980072021484 264.65911865234375 C 75.41081084699151 264.65911865234375 70.70980072021484 259.95810852556707 70.70980072021484 254.15911865234375 C 70.70980072021484 248.36012877912043 75.41081084699151 243.65911865234375 81.20980072021484 243.65911865234375 C 87.00879059343816 243.65911865234375 91.70980072021484 248.36012877912043 91.70980072021484 254.15911865234375 z\"/>\n",
       "</g> <!-- drawing style -->\n",
       "</g> <!-- transform -->\n",
       "<g transform=\"matrix(0.75, 0, 0, 0.75, 369.00000000000006, 140.27709458577613)\">\n",
       "<g fill=\"#685c49\" fill-opacity=\"1\" fill-rule=\"nonzero\" stroke=\"none\">\n",
       "  <path d=\"M 91.70980072021484 254.15911865234375 C 91.70980072021484 259.95810852556707 87.00879059343816 264.65911865234375 81.20980072021484 264.65911865234375 C 75.41081084699151 264.65911865234375 70.70980072021484 259.95810852556707 70.70980072021484 254.15911865234375 C 70.70980072021484 248.36012877912043 75.41081084699151 243.65911865234375 81.20980072021484 243.65911865234375 C 87.00879059343816 243.65911865234375 91.70980072021484 248.36012877912043 91.70980072021484 254.15911865234375 z\"/>\n",
       "</g> <!-- drawing style -->\n",
       "</g> <!-- transform -->\n",
       "<g transform=\"matrix(0.75, 0, 0, 0.75, 439.28235626220703, 348.55658982503394)\">\n",
       "<text fill=\"#cccccc\" fill-opacity=\"1\" font-family=\"Helvetica\" font-size=\"16\" font-style=\"normal\" font-weight=\"normal\" stroke=\"none\" x=\"0\" y=\"0\">topology.dependencies/interns </text>\n",
       "</g> <!-- transform -->\n",
       "<g transform=\"matrix(0.75, 0, 0, 0.75, 369.00000000000006, 140.27709458577613)\">\n",
       "<g fill=\"none\" stroke=\"#ff9800\" stroke-linecap=\"round\" stroke-linejoin=\"round\" stroke-opacity=\"1\" stroke-width=\"4\">\n",
       "  <path d=\"M 91.70980072021484 201.70419311523438 C 91.70980072021484 207.50319141565421 87.00879059343816 212.20420837402344 81.20980072021484 212.20420837402344 C 75.41081084699151 212.20420837402344 70.70980072021484 207.50319141565421 70.70980072021484 201.70419311523438 C 70.70980072021484 195.90519481481454 75.41081084699151 191.2041778564453 81.20980072021484 191.2041778564453 C 87.00879059343816 191.2041778564453 91.70980072021484 195.90519481481454 91.70980072021484 201.70419311523438 z\"/>\n",
       "</g> <!-- drawing style -->\n",
       "</g> <!-- transform -->\n",
       "<g transform=\"matrix(0.75, 0, 0, 0.75, 369.00000000000006, 140.27709458577613)\">\n",
       "<g fill=\"#685c49\" fill-opacity=\"1\" fill-rule=\"nonzero\" stroke=\"none\">\n",
       "  <path d=\"M 91.70980072021484 201.70419311523438 C 91.70980072021484 207.50319141565421 87.00879059343816 212.20420837402344 81.20980072021484 212.20420837402344 C 75.41081084699151 212.20420837402344 70.70980072021484 207.50319141565421 70.70980072021484 201.70419311523438 C 70.70980072021484 195.90519481481454 75.41081084699151 191.2041778564453 81.20980072021484 191.2041778564453 C 87.00879059343816 191.2041778564453 91.70980072021484 195.90519481481454 91.70980072021484 201.70419311523438 z\"/>\n",
       "</g> <!-- drawing style -->\n",
       "</g> <!-- transform -->\n",
       "<g transform=\"matrix(0.75, 0, 0, 0.75, 439.28235626220703, 309.2154071162937)\">\n",
       "<text fill=\"#cccccc\" fill-opacity=\"1\" font-family=\"Helvetica\" font-size=\"16\" font-style=\"normal\" font-weight=\"normal\" stroke=\"none\" x=\"0\" y=\"0\">topology.dependencies/sources </text>\n",
       "</g> <!-- transform -->\n",
       "<g transform=\"matrix(0.75, 0, 0, 0.75, 369.00000000000006, 140.27709458577613)\">\n",
       "<g fill=\"none\" stroke=\"#ff9800\" stroke-linecap=\"round\" stroke-linejoin=\"round\" stroke-opacity=\"1\" stroke-width=\"4\">\n",
       "  <path d=\"M -5.581695556640625 323.0506896972656 C -5.581695556640625 328.84967957048895 -10.282705683417298 333.5506896972656 -16.081695556640625 333.5506896972656 C -21.880685429863956 333.5506896972656 -26.581695556640625 328.84967957048895 -26.581695556640625 323.0506896972656 C -26.581695556640625 317.2516998240423 -21.880685429863956 312.5506896972656 -16.081695556640625 312.5506896972656 C -10.282705683417298 312.5506896972656 -5.581695556640625 317.2516998240423 -5.581695556640625 323.0506896972656 z\"/>\n",
       "</g> <!-- drawing style -->\n",
       "</g> <!-- transform -->\n",
       "<g transform=\"matrix(0.75, 0, 0, 0.75, 369.00000000000006, 140.27709458577613)\">\n",
       "<g fill=\"#685c49\" fill-opacity=\"1\" fill-rule=\"nonzero\" stroke=\"none\">\n",
       "  <path d=\"M -5.581695556640625 323.0506896972656 C -5.581695556640625 328.84967957048895 -10.282705683417298 333.5506896972656 -16.081695556640625 333.5506896972656 C -21.880685429863956 333.5506896972656 -26.581695556640625 328.84967957048895 -26.581695556640625 323.0506896972656 C -26.581695556640625 317.2516998240423 -21.880685429863956 312.5506896972656 -16.081695556640625 312.5506896972656 C -10.282705683417298 312.5506896972656 -5.581695556640625 317.2516998240423 -5.581695556640625 323.0506896972656 z\"/>\n",
       "</g> <!-- drawing style -->\n",
       "</g> <!-- transform -->\n",
       "<g transform=\"matrix(0.75, 0, 0, 0.75, 366.3137283325196, 400.22526810872534)\">\n",
       "<text fill=\"#cccccc\" fill-opacity=\"1\" font-family=\"Helvetica\" font-size=\"16\" font-style=\"normal\" font-weight=\"normal\" stroke=\"none\" x=\"0\" y=\"0\">topology.dependencies/ns-&gt;fn-dep-map </text>\n",
       "</g> <!-- transform -->\n",
       "<g transform=\"matrix(0.75, 0, 0, 0.75, 369.00000000000006, 140.27709458577613)\">\n",
       "<g fill=\"none\" stroke=\"#00ff2b\" stroke-linecap=\"round\" stroke-linejoin=\"round\" stroke-opacity=\"1\" stroke-width=\"4\">\n",
       "  <path d=\"M -65.14295959472656 435.0563049316406 C -65.14295959472656 440.85529480486395 -69.84396972150324 445.5563049316406 -75.64295959472656 445.5563049316406 C -81.4419494679499 445.5563049316406 -86.14295959472656 440.85529480486395 -86.14295959472656 435.0563049316406 C -86.14295959472656 429.2573150584173 -81.4419494679499 424.5563049316406 -75.64295959472656 424.5563049316406 C -69.84396972150324 424.5563049316406 -65.14295959472656 429.2573150584173 -65.14295959472656 435.0563049316406 z\"/>\n",
       "</g> <!-- drawing style -->\n",
       "</g> <!-- transform -->\n",
       "<g transform=\"matrix(0.75, 0, 0, 0.75, 369.00000000000006, 140.27709458577613)\">\n",
       "<g fill=\"#4a604e\" fill-opacity=\"1\" fill-rule=\"nonzero\" stroke=\"none\">\n",
       "  <path d=\"M -65.14295959472656 435.0563049316406 C -65.14295959472656 440.85529480486395 -69.84396972150324 445.5563049316406 -75.64295959472656 445.5563049316406 C -81.4419494679499 445.5563049316406 -86.14295959472656 440.85529480486395 -86.14295959472656 435.0563049316406 C -86.14295959472656 429.2573150584173 -81.4419494679499 424.5563049316406 -75.64295959472656 424.5563049316406 C -69.84396972150324 424.5563049316406 -65.14295959472656 429.2573150584173 -65.14295959472656 435.0563049316406 z\"/>\n",
       "</g> <!-- drawing style -->\n",
       "</g> <!-- transform -->\n",
       "<g transform=\"matrix(0.75, 0, 0, 0.75, 321.64278030395513, 484.2294795345066)\">\n",
       "<text fill=\"#cccccc\" fill-opacity=\"1\" font-family=\"Helvetica\" font-size=\"16\" font-style=\"normal\" font-weight=\"normal\" stroke=\"none\" x=\"0\" y=\"0\">topology.edgelist/ns-&gt;edgelist </text>\n",
       "</g> <!-- transform -->\n",
       "<g transform=\"matrix(0.75, 0, 0, 0.75, 369.00000000000006, 140.27709458577613)\">\n",
       "<g fill=\"none\" stroke=\"#00ff2b\" stroke-linecap=\"round\" stroke-linejoin=\"round\" stroke-opacity=\"1\" stroke-width=\"4\">\n",
       "  <path d=\"M -65.14295959472656 636.4664306640625 C -65.14295959472656 642.2654205372859 -69.84396972150324 646.9664306640625 -75.64295959472656 646.9664306640625 C -81.4419494679499 646.9664306640625 -86.14295959472656 642.2654205372859 -86.14295959472656 636.4664306640625 C -86.14295959472656 630.6674407908391 -81.4419494679499 625.9664306640625 -75.64295959472656 625.9664306640625 C -69.84396972150324 625.9664306640625 -65.14295959472656 630.6674407908391 -65.14295959472656 636.4664306640625 z\"/>\n",
       "</g> <!-- drawing style -->\n",
       "</g> <!-- transform -->\n",
       "<g transform=\"matrix(0.75, 0, 0, 0.75, 369.00000000000006, 140.27709458577613)\">\n",
       "<g fill=\"#4a604e\" fill-opacity=\"1\" fill-rule=\"nonzero\" stroke=\"none\">\n",
       "  <path d=\"M -65.14295959472656 636.4664306640625 C -65.14295959472656 642.2654205372859 -69.84396972150324 646.9664306640625 -75.64295959472656 646.9664306640625 C -81.4419494679499 646.9664306640625 -86.14295959472656 642.2654205372859 -86.14295959472656 636.4664306640625 C -86.14295959472656 630.6674407908391 -81.4419494679499 625.9664306640625 -75.64295959472656 625.9664306640625 C -69.84396972150324 625.9664306640625 -65.14295959472656 630.6674407908391 -65.14295959472656 636.4664306640625 z\"/>\n",
       "</g> <!-- drawing style -->\n",
       "</g> <!-- transform -->\n",
       "<g transform=\"matrix(0.75, 0, 0, 0.75, 321.64278030395513, 635.287073833823)\">\n",
       "<text fill=\"#cccccc\" fill-opacity=\"1\" font-family=\"Helvetica\" font-size=\"16\" font-style=\"normal\" font-weight=\"normal\" stroke=\"none\" x=\"0\" y=\"0\">topology.edgelist/dirs-&gt;fn-edges </text>\n",
       "</g> <!-- transform -->\n",
       "<g transform=\"matrix(0.75, 0, 0, 0.75, 369.00000000000006, 140.27709458577613)\">\n",
       "<g fill=\"none\" stroke=\"#ffffff\" stroke-linecap=\"round\" stroke-linejoin=\"round\" stroke-opacity=\"1\" stroke-width=\"4\">\n",
       "  <path d=\"M -157.31338500976562 689.9852294921875 C -157.31338500976562 695.7842193654109 -162.0143951365423 700.4852294921875 -167.81338500976562 700.4852294921875 C -173.61237488298895 700.4852294921875 -178.31338500976562 695.7842193654109 -178.31338500976562 689.9852294921875 C -178.31338500976562 684.1862396189641 -173.61237488298895 679.4852294921875 -167.81338500976562 679.4852294921875 C -162.0143951365423 679.4852294921875 -157.31338500976562 684.1862396189641 -157.31338500976562 689.9852294921875 z\"/>\n",
       "</g> <!-- drawing style -->\n",
       "</g> <!-- transform -->\n",
       "<g transform=\"matrix(0.75, 0, 0, 0.75, 369.00000000000006, 140.27709458577613)\">\n",
       "<g fill=\"#8d8d8d\" fill-opacity=\"1\" fill-rule=\"nonzero\" stroke=\"none\">\n",
       "  <path d=\"M -157.31338500976562 689.9852294921875 C -157.31338500976562 695.7842193654109 -162.0143951365423 700.4852294921875 -167.81338500976562 700.4852294921875 C -173.61237488298895 700.4852294921875 -178.31338500976562 695.7842193654109 -178.31338500976562 689.9852294921875 C -178.31338500976562 684.1862396189641 -173.61237488298895 679.4852294921875 -167.81338500976562 679.4852294921875 C -162.0143951365423 679.4852294921875 -157.31338500976562 684.1862396189641 -157.31338500976562 689.9852294921875 z\"/>\n",
       "</g> <!-- drawing style -->\n",
       "</g> <!-- transform -->\n",
       "<g transform=\"matrix(0.75, 0, 0, 0.75, 252.51496124267584, 675.4261729549168)\">\n",
       "<text fill=\"#cccccc\" fill-opacity=\"1\" font-family=\"Helvetica\" font-size=\"16\" font-style=\"normal\" font-weight=\"normal\" stroke=\"none\" x=\"0\" y=\"0\">leiningen.topology/topology </text>\n",
       "</g> <!-- transform -->\n",
       "<g transform=\"matrix(0.75, 0, 0, 0.75, 369.00000000000006, 140.27709458577613)\">\n",
       "<g fill=\"none\" stroke=\"#ff9800\" stroke-linecap=\"round\" stroke-linejoin=\"round\" stroke-opacity=\"1\" stroke-width=\"4\">\n",
       "  <path d=\"M 91.70979309082031 146.716796875 C 91.70979309082031 152.51578674822332 87.00878637983992 157.216796875 81.20980072021484 157.216796875 C 75.41081506058977 157.216796875 70.70980834960938 152.51578674822332 70.70980834960938 146.716796875 C 70.70980834960938 140.91780700177668 75.41081506058977 136.216796875 81.20980072021484 136.216796875 C 87.00878637983992 136.216796875 91.70979309082031 140.91780700177668 91.70979309082031 146.716796875 z\"/>\n",
       "</g> <!-- drawing style -->\n",
       "</g> <!-- transform -->\n",
       "<g transform=\"matrix(0.75, 0, 0, 0.75, 369.00000000000006, 140.27709458577613)\">\n",
       "<g fill=\"#685c49\" fill-opacity=\"1\" fill-rule=\"nonzero\" stroke=\"none\">\n",
       "  <path d=\"M 91.70979309082031 146.716796875 C 91.70979309082031 152.51578674822332 87.00878637983992 157.216796875 81.20980072021484 157.216796875 C 75.41081506058977 157.216796875 70.70980834960938 152.51578674822332 70.70980834960938 146.716796875 C 70.70980834960938 140.91780700177668 75.41081506058977 136.216796875 81.20980072021484 136.216796875 C 87.00878637983992 136.216796875 91.70979309082031 140.91780700177668 91.70979309082031 146.716796875 z\"/>\n",
       "</g> <!-- drawing style -->\n",
       "</g> <!-- transform -->\n",
       "<g transform=\"matrix(0.75, 0, 0, 0.75, 439.28234481811523, 267.9748484920261)\">\n",
       "<text fill=\"#cccccc\" fill-opacity=\"1\" font-family=\"Helvetica\" font-size=\"16\" font-style=\"normal\" font-weight=\"normal\" stroke=\"none\" x=\"0\" y=\"0\">topology.dependencies/dependencies </text>\n",
       "</g> <!-- transform -->\n",
       "<g transform=\"matrix(0.75, 0, 0, 0.75, 369.00000000000006, 140.27709458577613)\">\n",
       "<g fill=\"none\" stroke=\"#00ff2b\" stroke-linecap=\"round\" stroke-linejoin=\"round\" stroke-opacity=\"1\" stroke-width=\"4\">\n",
       "  <path d=\"M 560.8593139648438 636.4664306640625 C 560.8593139648438 642.2654205372859 556.1583038380671 646.9664306640625 550.3593139648438 646.9664306640625 C 544.5603240916204 646.9664306640625 539.8593139648438 642.2654205372859 539.8593139648438 636.4664306640625 C 539.8593139648438 630.6674407908391 544.5603240916204 625.9664306640625 550.3593139648438 625.9664306640625 C 556.1583038380671 625.9664306640625 560.8593139648438 630.6674407908391 560.8593139648438 636.4664306640625 z\"/>\n",
       "</g> <!-- drawing style -->\n",
       "</g> <!-- transform -->\n",
       "<g transform=\"matrix(0.75, 0, 0, 0.75, 369.00000000000006, 140.27709458577613)\">\n",
       "<g fill=\"#4a604e\" fill-opacity=\"1\" fill-rule=\"nonzero\" stroke=\"none\">\n",
       "  <path d=\"M 560.8593139648438 636.4664306640625 C 560.8593139648438 642.2654205372859 556.1583038380671 646.9664306640625 550.3593139648438 646.9664306640625 C 544.5603240916204 646.9664306640625 539.8593139648438 642.2654205372859 539.8593139648438 636.4664306640625 C 539.8593139648438 630.6674407908391 544.5603240916204 625.9664306640625 550.3593139648438 625.9664306640625 C 556.1583038380671 625.9664306640625 560.8593139648438 630.6674407908391 560.8593139648438 636.4664306640625 z\"/>\n",
       "</g> <!-- drawing style -->\n",
       "</g> <!-- transform -->\n",
       "<g transform=\"matrix(0.75, 0, 0, 0.75, 791.1444854736328, 635.287073833823)\">\n",
       "<text fill=\"#cccccc\" fill-opacity=\"1\" font-family=\"Helvetica\" font-size=\"16\" font-style=\"normal\" font-weight=\"normal\" stroke=\"none\" x=\"0\" y=\"0\">topology.edgelist-test/edges </text>\n",
       "</g> <!-- transform -->\n",
       "<g transform=\"matrix(0.75, 0, 0, 0.75, 369.00000000000006, 140.27709458577613)\">\n",
       "<g fill=\"none\" stroke=\"#0278fd\" stroke-linecap=\"round\" stroke-linejoin=\"round\" stroke-opacity=\"1\" stroke-width=\"4\">\n",
       "  <path d=\"M 462.6331481933594 96.28380584716797 C 462.6331481933594 102.08279572039129 457.9321380665827 106.78380584716797 452.1331481933594 106.78380584716797 C 446.33415832013605 106.78380584716797 441.6331481933594 102.08279572039129 441.6331481933594 96.28380584716797 C 441.6331481933594 90.48481597394463 446.33415832013605 85.78380584716797 452.1331481933594 85.78380584716797 C 457.9321380665827 85.78380584716797 462.6331481933594 90.48481597394463 462.6331481933594 96.28380584716797 z\"/>\n",
       "</g> <!-- drawing style -->\n",
       "</g> <!-- transform -->\n",
       "<g transform=\"matrix(0.75, 0, 0, 0.75, 369.00000000000006, 140.27709458577613)\">\n",
       "<g fill=\"#294462\" fill-opacity=\"1\" fill-rule=\"nonzero\" stroke=\"none\">\n",
       "  <path d=\"M 462.6331481933594 96.28380584716797 C 462.6331481933594 102.08279572039129 457.9321380665827 106.78380584716797 452.1331481933594 106.78380584716797 C 446.33415832013605 106.78380584716797 441.6331481933594 102.08279572039129 441.6331481933594 96.28380584716797 C 441.6331481933594 90.48481597394463 446.33415832013605 85.78380584716797 452.1331481933594 85.78380584716797 C 457.9321380665827 85.78380584716797 462.6331481933594 90.48481597394463 462.6331481933594 96.28380584716797 z\"/>\n",
       "</g> <!-- drawing style -->\n",
       "</g> <!-- transform -->\n",
       "<g transform=\"matrix(0.75, 0, 0, 0.75, 717.4748840332031, 230.1501052211521)\">\n",
       "<text fill=\"#cccccc\" fill-opacity=\"1\" font-family=\"Helvetica\" font-size=\"16\" font-style=\"normal\" font-weight=\"normal\" stroke=\"none\" x=\"0\" y=\"0\">topology.symbols/zip-nodes </text>\n",
       "</g> <!-- transform -->\n",
       "<g transform=\"matrix(0.75, 0, 0, 0.75, 369.00000000000006, 140.27709458577613)\">\n",
       "<g fill=\"none\" stroke=\"#0278fd\" stroke-linecap=\"round\" stroke-linejoin=\"round\" stroke-opacity=\"1\" stroke-width=\"4\">\n",
       "  <path d=\"M 406.9121398925781 129.42099380493164 C 406.9121398925781 135.21997314415935 402.21112976580145 139.9209747314453 396.4121398925781 139.9209747314453 C 390.6131500193548 139.9209747314453 385.9121398925781 135.21997314415935 385.9121398925781 129.42099380493164 C 385.9121398925781 123.62201446570394 390.6131500193548 118.92101287841797 396.4121398925781 118.92101287841797 C 402.21112976580145 118.92101287841797 406.9121398925781 123.62201446570394 406.9121398925781 129.42099380493164 z\"/>\n",
       "</g> <!-- drawing style -->\n",
       "</g> <!-- transform -->\n",
       "<g transform=\"matrix(0.75, 0, 0, 0.75, 369.00000000000006, 140.27709458577613)\">\n",
       "<g fill=\"#294462\" fill-opacity=\"1\" fill-rule=\"nonzero\" stroke=\"none\">\n",
       "  <path d=\"M 406.9121398925781 129.42099380493164 C 406.9121398925781 135.21997314415935 402.21112976580145 139.9209747314453 396.4121398925781 139.9209747314453 C 390.6131500193548 139.9209747314453 385.9121398925781 135.21997314415935 385.9121398925781 129.42099380493164 C 385.9121398925781 123.62201446570394 390.6131500193548 118.92101287841797 396.4121398925781 118.92101287841797 C 402.21112976580145 118.92101287841797 406.9121398925781 123.62201446570394 406.9121398925781 129.42099380493164 z\"/>\n",
       "</g> <!-- drawing style -->\n",
       "</g> <!-- transform -->\n",
       "<g transform=\"matrix(0.75, 0, 0, 0.75, 675.68408203125, 255.0029818843601)\">\n",
       "<text fill=\"#cccccc\" fill-opacity=\"1\" font-family=\"Helvetica\" font-size=\"16\" font-style=\"normal\" font-weight=\"normal\" stroke=\"none\" x=\"0\" y=\"0\">topology.symbols/symbols </text>\n",
       "</g> <!-- transform -->\n",
       "<g transform=\"matrix(0.75, 0, 0, 0.75, 369.00000000000006, 140.27709458577613)\">\n",
       "<g fill=\"none\" stroke=\"#eb1b59\" stroke-linecap=\"round\" stroke-linejoin=\"round\" stroke-opacity=\"1\" stroke-width=\"4\">\n",
       "  <path d=\"M 379.2214660644531 -45.67441177368164 C 379.2214660644531 -39.87542190045831 374.52045593767645 -35.17441177368164 368.7214660644531 -35.17441177368164 C 362.9224761912298 -35.17441177368164 358.2214660644531 -39.87542190045831 358.2214660644531 -45.67441177368164 C 358.2214660644531 -51.47340164690497 362.9224761912298 -56.17441177368164 368.7214660644531 -56.17441177368164 C 374.52045593767645 -56.17441177368164 379.2214660644531 -51.47340164690497 379.2214660644531 -45.67441177368164 z\"/>\n",
       "</g> <!-- drawing style -->\n",
       "</g> <!-- transform -->\n",
       "<g transform=\"matrix(0.75, 0, 0, 0.75, 369.00000000000006, 140.27709458577613)\">\n",
       "<g fill=\"#67404a\" fill-opacity=\"1\" fill-rule=\"nonzero\" stroke=\"none\">\n",
       "  <path d=\"M 379.2214660644531 -45.67441177368164 C 379.2214660644531 -39.87542190045831 374.52045593767645 -35.17441177368164 368.7214660644531 -35.17441177368164 C 362.9224761912298 -35.17441177368164 358.2214660644531 -39.87542190045831 358.2214660644531 -45.67441177368164 C 358.2214660644531 -51.47340164690497 362.9224761912298 -56.17441177368164 368.7214660644531 -56.17441177368164 C 374.52045593767645 -56.17441177368164 379.2214660644531 -51.47340164690497 379.2214660644531 -45.67441177368164 z\"/>\n",
       "</g> <!-- drawing style -->\n",
       "</g> <!-- transform -->\n",
       "<g transform=\"matrix(0.75, 0, 0, 0.75, 654.9160995483398, 123.6814420055149)\">\n",
       "<text fill=\"#cccccc\" fill-opacity=\"1\" font-family=\"Helvetica\" font-size=\"16\" font-style=\"normal\" font-weight=\"normal\" stroke=\"none\" x=\"0\" y=\"0\">clojure.core/*err*</text>\n",
       "</g> <!-- transform -->\n",
       "<g transform=\"matrix(0.75, 0, 0, 0.75, 369.00000000000006, 140.27709458577613)\">\n",
       "<g fill=\"none\" stroke=\"#00ff2b\" stroke-linecap=\"round\" stroke-linejoin=\"round\" stroke-opacity=\"1\" stroke-width=\"4\">\n",
       "  <path d=\"M 658.6826171875 715.7393798828125 C 658.6826171875 721.5383697560359 653.9816070607234 726.2393798828125 648.1826171875 726.2393798828125 C 642.3836273142766 726.2393798828125 637.6826171875 721.5383697560359 637.6826171875 715.7393798828125 C 637.6826171875 709.9403900095891 642.3836273142766 705.2393798828125 648.1826171875 705.2393798828125 C 653.9816070607234 705.2393798828125 658.6826171875 709.9403900095891 658.6826171875 715.7393798828125 z\"/>\n",
       "</g> <!-- drawing style -->\n",
       "</g> <!-- transform -->\n",
       "<g transform=\"matrix(0.75, 0, 0, 0.75, 369.00000000000006, 140.27709458577613)\">\n",
       "<g fill=\"#4a604e\" fill-opacity=\"1\" fill-rule=\"nonzero\" stroke=\"none\">\n",
       "  <path d=\"M 658.6826171875 715.7393798828125 C 658.6826171875 721.5383697560359 653.9816070607234 726.2393798828125 648.1826171875 726.2393798828125 C 642.3836273142766 726.2393798828125 637.6826171875 721.5383697560359 637.6826171875 715.7393798828125 C 637.6826171875 709.9403900095891 642.3836273142766 705.2393798828125 648.1826171875 705.2393798828125 C 653.9816070607234 705.2393798828125 658.6826171875 709.9403900095891 658.6826171875 715.7393798828125 z\"/>\n",
       "</g> <!-- drawing style -->\n",
       "</g> <!-- transform -->\n",
       "<g transform=\"matrix(0.75, 0, 0, 0.75, 864.511962890625, 694.7417857478855)\">\n",
       "<text fill=\"#cccccc\" fill-opacity=\"1\" font-family=\"Helvetica\" font-size=\"16\" font-style=\"normal\" font-weight=\"normal\" stroke=\"none\" x=\"0\" y=\"0\">topology.edgelist-test/should-report-java-interop </text>\n",
       "</g> <!-- transform -->\n",
       "<g transform=\"matrix(0.75, 0, 0, 0.75, 369.00000000000006, 140.27709458577613)\">\n",
       "<g fill=\"none\" stroke=\"#0278fd\" stroke-linecap=\"round\" stroke-linejoin=\"round\" stroke-opacity=\"1\" stroke-width=\"4\">\n",
       "  <path d=\"M 507.4039611816406 62.39043617248535 C 507.4039611816406 68.18942499230911 502.70295105486395 72.89043426513672 496.9039611816406 72.89043426513672 C 491.1049713084173 72.89043426513672 486.4039611816406 68.18942499230911 486.4039611816406 62.39043617248535 C 486.4039611816406 56.59144735266158 491.1049713084173 51.890438079833984 496.9039611816406 51.890438079833984 C 502.70295105486395 51.890438079833984 507.4039611816406 56.59144735266158 507.4039611816406 62.39043617248535 z\"/>\n",
       "</g> <!-- drawing style -->\n",
       "</g> <!-- transform -->\n",
       "<g transform=\"matrix(0.75, 0, 0, 0.75, 369.00000000000006, 140.27709458577613)\">\n",
       "<g fill=\"#294462\" fill-opacity=\"1\" fill-rule=\"nonzero\" stroke=\"none\">\n",
       "  <path d=\"M 507.4039611816406 62.39043617248535 C 507.4039611816406 68.18942499230911 502.70295105486395 72.89043426513672 496.9039611816406 72.89043426513672 C 491.1049713084173 72.89043426513672 486.4039611816406 68.18942499230911 486.4039611816406 62.39043617248535 C 486.4039611816406 56.59144735266158 491.1049713084173 51.890438079833984 496.9039611816406 51.890438079833984 C 502.70295105486395 51.890438079833984 507.4039611816406 56.59144735266158 507.4039611816406 62.39043617248535 z\"/>\n",
       "</g> <!-- drawing style -->\n",
       "</g> <!-- transform -->\n",
       "<g transform=\"matrix(0.75, 0, 0, 0.75, 751.0529479980469, 204.73007653462867)\">\n",
       "<text fill=\"#cccccc\" fill-opacity=\"1\" font-family=\"Helvetica\" font-size=\"16\" font-style=\"normal\" font-weight=\"normal\" stroke=\"none\" x=\"0\" y=\"0\">topology.symbols/seq-map-zip </text>\n",
       "</g> <!-- transform -->\n",
       "<g transform=\"matrix(0.75, 0, 0, 0.75, 369.00000000000006, 140.27709458577613)\">\n",
       "<g fill=\"none\" stroke=\"#00ff2b\" stroke-linecap=\"round\" stroke-linejoin=\"round\" stroke-opacity=\"1\" stroke-width=\"4\">\n",
       "  <path d=\"M 657.2295532226562 767.9158935546875 C 657.2295532226562 773.7148834279109 652.5285430958796 778.4158935546875 646.7295532226562 778.4158935546875 C 640.9305633494329 778.4158935546875 636.2295532226562 773.7148834279109 636.2295532226562 767.9158935546875 C 636.2295532226562 762.1169036814641 640.9305633494329 757.4158935546875 646.7295532226562 757.4158935546875 C 652.5285430958796 757.4158935546875 657.2295532226562 762.1169036814641 657.2295532226562 767.9158935546875 z\"/>\n",
       "</g> <!-- drawing style -->\n",
       "</g> <!-- transform -->\n",
       "<g transform=\"matrix(0.75, 0, 0, 0.75, 369.00000000000006, 140.27709458577613)\">\n",
       "<g fill=\"#4a604e\" fill-opacity=\"1\" fill-rule=\"nonzero\" stroke=\"none\">\n",
       "  <path d=\"M 657.2295532226562 767.9158935546875 C 657.2295532226562 773.7148834279109 652.5285430958796 778.4158935546875 646.7295532226562 778.4158935546875 C 640.9305633494329 778.4158935546875 636.2295532226562 773.7148834279109 636.2295532226562 767.9158935546875 C 636.2295532226562 762.1169036814641 640.9305633494329 757.4158935546875 646.7295532226562 757.4158935546875 C 652.5285430958796 757.4158935546875 657.2295532226562 762.1169036814641 657.2295532226562 767.9158935546875 z\"/>\n",
       "</g> <!-- drawing style -->\n",
       "</g> <!-- transform -->\n",
       "<g transform=\"matrix(0.75, 0, 0, 0.75, 863.4221649169922, 733.8741710017918)\">\n",
       "<text fill=\"#cccccc\" fill-opacity=\"1\" font-family=\"Helvetica\" font-size=\"16\" font-style=\"normal\" font-weight=\"normal\" stroke=\"none\" x=\"0\" y=\"0\">topology.edgelist-test/should-produce-weighted-edges-for-multiple-calls </text>\n",
       "</g> <!-- transform -->\n",
       "<g transform=\"matrix(0.75, 0, 0, 0.75, 369.00000000000006, 140.27709458577613)\">\n",
       "<g fill=\"none\" stroke=\"#ff9800\" stroke-linecap=\"round\" stroke-linejoin=\"round\" stroke-opacity=\"1\" stroke-width=\"4\">\n",
       "  <path d=\"M 576.1497802734375 322.81683349609375 C 576.1497802734375 328.61582336931707 571.4487701466609 333.31683349609375 565.6497802734375 333.31683349609375 C 559.8507904002141 333.31683349609375 555.1497802734375 328.61582336931707 555.1497802734375 322.81683349609375 C 555.1497802734375 317.01784362287043 559.8507904002141 312.31683349609375 565.6497802734375 312.31683349609375 C 571.4487701466609 312.31683349609375 576.1497802734375 317.01784362287043 576.1497802734375 322.81683349609375 z\"/>\n",
       "</g> <!-- drawing style -->\n",
       "</g> <!-- transform -->\n",
       "<g transform=\"matrix(0.75, 0, 0, 0.75, 369.00000000000006, 140.27709458577613)\">\n",
       "<g fill=\"#685c49\" fill-opacity=\"1\" fill-rule=\"nonzero\" stroke=\"none\">\n",
       "  <path d=\"M 576.1497802734375 322.81683349609375 C 576.1497802734375 328.61582336931707 571.4487701466609 333.31683349609375 565.6497802734375 333.31683349609375 C 559.8507904002141 333.31683349609375 555.1497802734375 328.61582336931707 555.1497802734375 322.81683349609375 C 555.1497802734375 317.01784362287043 559.8507904002141 312.31683349609375 565.6497802734375 312.31683349609375 C 571.4487701466609 312.31683349609375 576.1497802734375 317.01784362287043 576.1497802734375 322.81683349609375 z\"/>\n",
       "</g> <!-- drawing style -->\n",
       "</g> <!-- transform -->\n",
       "<g transform=\"matrix(0.75, 0, 0, 0.75, 802.6123352050781, 400.04987595784644)\">\n",
       "<text fill=\"#cccccc\" fill-opacity=\"1\" font-family=\"Helvetica\" font-size=\"16\" font-style=\"normal\" font-weight=\"normal\" stroke=\"none\" x=\"0\" y=\"0\">topology.dependencies-test/should-compute-fn-calls-in-namespace </text>\n",
       "</g> <!-- transform -->\n",
       "<g transform=\"matrix(0.75, 0, 0, 0.75, 369.00000000000006, 140.27709458577613)\">\n",
       "<g fill=\"none\" stroke=\"#00ff2b\" stroke-linecap=\"round\" stroke-linejoin=\"round\" stroke-opacity=\"1\" stroke-width=\"4\">\n",
       "  <path d=\"M 656.7102661132812 672.6366577148438 C 656.7102661132812 678.4356475880671 652.0092559865046 683.1366577148438 646.2102661132812 683.1366577148438 C 640.4112762400579 683.1366577148438 635.7102661132812 678.4356475880671 635.7102661132812 672.6366577148438 C 635.7102661132812 666.8376678416204 640.4112762400579 662.1366577148438 646.2102661132812 662.1366577148438 C 652.0092559865046 662.1366577148438 656.7102661132812 666.8376678416204 656.7102661132812 672.6366577148438 z\"/>\n",
       "</g> <!-- drawing style -->\n",
       "</g> <!-- transform -->\n",
       "<g transform=\"matrix(0.75, 0, 0, 0.75, 369.00000000000006, 140.27709458577613)\">\n",
       "<g fill=\"#4a604e\" fill-opacity=\"1\" fill-rule=\"nonzero\" stroke=\"none\">\n",
       "  <path d=\"M 656.7102661132812 672.6366577148438 C 656.7102661132812 678.4356475880671 652.0092559865046 683.1366577148438 646.2102661132812 683.1366577148438 C 640.4112762400579 683.1366577148438 635.7102661132812 678.4356475880671 635.7102661132812 672.6366577148438 C 635.7102661132812 666.8376678416204 640.4112762400579 662.1366577148438 646.2102661132812 662.1366577148438 C 652.0092559865046 662.1366577148438 656.7102661132812 666.8376678416204 656.7102661132812 672.6366577148438 z\"/>\n",
       "</g> <!-- drawing style -->\n",
       "</g> <!-- transform -->\n",
       "<g transform=\"matrix(0.75, 0, 0, 0.75, 863.0326995849609, 662.4147441219089)\">\n",
       "<text fill=\"#cccccc\" fill-opacity=\"1\" font-family=\"Helvetica\" font-size=\"16\" font-style=\"normal\" font-weight=\"normal\" stroke=\"none\" x=\"0\" y=\"0\">topology.edgelist-test/syntax-quotes-add-seq-concat-list </text>\n",
       "</g> <!-- transform -->\n",
       "<g transform=\"matrix(0.75, 0, 0, 0.75, 369.00000000000006, 140.27709458577613)\">\n",
       "<g fill=\"none\" stroke=\"#eb1b59\" stroke-linecap=\"round\" stroke-linejoin=\"round\" stroke-opacity=\"1\" stroke-width=\"4\">\n",
       "  <path d=\"M -161.51162719726562 -120.19684219360352 C -161.51162719726562 -114.39785442717931 -166.2126373240423 -109.69684600830078 -172.01162719726562 -109.69684600830078 C -177.81061707048895 -109.69684600830078 -182.51162719726562 -114.39785442717931 -182.51162719726562 -120.19684219360352 C -182.51162719726562 -125.99582996002772 -177.81061707048895 -130.69683837890625 -172.01162719726562 -130.69683837890625 C -166.2126373240423 -130.69683837890625 -161.51162719726562 -125.99582996002772 -161.51162719726562 -120.19684219360352 z\"/>\n",
       "</g> <!-- drawing style -->\n",
       "</g> <!-- transform -->\n",
       "<g transform=\"matrix(0.75, 0, 0, 0.75, 369.00000000000006, 140.27709458577613)\">\n",
       "<g fill=\"#67404a\" fill-opacity=\"1\" fill-rule=\"nonzero\" stroke=\"none\">\n",
       "  <path d=\"M -161.51162719726562 -120.19684219360352 C -161.51162719726562 -114.39785442717931 -166.2126373240423 -109.69684600830078 -172.01162719726562 -109.69684600830078 C -177.81061707048895 -109.69684600830078 -182.51162719726562 -114.39785442717931 -182.51162719726562 -120.19684219360352 C -182.51162719726562 -125.99582996002772 -177.81061707048895 -130.69683837890625 -172.01162719726562 -130.69683837890625 C -166.2126373240423 -130.69683837890625 -161.51162719726562 -125.99582996002772 -161.51162719726562 -120.19684219360352 z\"/>\n",
       "</g> <!-- drawing style -->\n",
       "</g> <!-- transform -->\n",
       "<g transform=\"matrix(0.75, 0, 0, 0.75, 249.36627960205084, 67.78961632955054)\">\n",
       "<text fill=\"#cccccc\" fill-opacity=\"1\" font-family=\"Helvetica\" font-size=\"16\" font-style=\"normal\" font-weight=\"normal\" stroke=\"none\" x=\"0\" y=\"0\">topology.printer/print-weighted-edges </text>\n",
       "</g> <!-- transform -->\n",
       "<g transform=\"matrix(0.75, 0, 0, 0.75, 369.00000000000006, 140.27709458577613)\">\n",
       "<g fill=\"none\" stroke=\"#eb1b59\" stroke-linecap=\"round\" stroke-linejoin=\"round\" stroke-opacity=\"1\" stroke-width=\"4\">\n",
       "  <path d=\"M -71.65534973144531 -158.97528076171875 C -71.65534973144531 -153.17629088849543 -76.35635985822199 -148.47528076171875 -82.15534973144531 -148.47528076171875 C -87.95433960466865 -148.47528076171875 -92.65534973144531 -153.17629088849543 -92.65534973144531 -158.97528076171875 C -92.65534973144531 -164.77427063494207 -87.95433960466865 -169.47528076171875 -82.15534973144531 -169.47528076171875 C -76.35635985822199 -169.47528076171875 -71.65534973144531 -164.77427063494207 -71.65534973144531 -158.97528076171875 z\"/>\n",
       "</g> <!-- drawing style -->\n",
       "</g> <!-- transform -->\n",
       "<g transform=\"matrix(0.75, 0, 0, 0.75, 369.00000000000006, 140.27709458577613)\">\n",
       "<g fill=\"#67404a\" fill-opacity=\"1\" fill-rule=\"nonzero\" stroke=\"none\">\n",
       "  <path d=\"M -71.65534973144531 -158.97528076171875 C -71.65534973144531 -153.17629088849543 -76.35635985822199 -148.47528076171875 -82.15534973144531 -148.47528076171875 C -87.95433960466865 -148.47528076171875 -92.65534973144531 -153.17629088849543 -92.65534973144531 -158.97528076171875 C -92.65534973144531 -164.77427063494207 -87.95433960466865 -169.47528076171875 -82.15534973144531 -169.47528076171875 C -76.35635985822199 -169.47528076171875 -71.65534973144531 -164.77427063494207 -71.65534973144531 -158.97528076171875 z\"/>\n",
       "</g> <!-- drawing style -->\n",
       "</g> <!-- transform -->\n",
       "<g transform=\"matrix(0.75, 0, 0, 0.75, 316.7584877014161, 38.705790264487064)\">\n",
       "<text fill=\"#cccccc\" fill-opacity=\"1\" font-family=\"Helvetica\" font-size=\"16\" font-style=\"normal\" font-weight=\"normal\" stroke=\"none\" x=\"0\" y=\"0\">clojure.core/println</text>\n",
       "</g> <!-- transform -->\n",
       "<g transform=\"matrix(0.75, 0, 0, 0.75, 369.00000000000006, 140.27709458577613)\">\n",
       "<g fill=\"none\" stroke=\"#00ff2b\" stroke-linecap=\"round\" stroke-linejoin=\"round\" stroke-opacity=\"1\" stroke-width=\"4\">\n",
       "  <path d=\"M -65.14295959472656 -70.3378677368164 C -65.14295959472656 -64.53887786359309 -69.84396972150324 -59.837867736816406 -75.64295959472656 -59.837867736816406 C -81.4419494679499 -59.837867736816406 -86.14295959472656 -64.53887786359309 -86.14295959472656 -70.3378677368164 C -86.14295959472656 -76.13685761003974 -81.4419494679499 -80.8378677368164 -75.64295959472656 -80.8378677368164 C -69.84396972150324 -80.8378677368164 -65.14295959472656 -76.13685761003974 -65.14295959472656 -70.3378677368164 z\"/>\n",
       "</g> <!-- drawing style -->\n",
       "</g> <!-- transform -->\n",
       "<g transform=\"matrix(0.75, 0, 0, 0.75, 369.00000000000006, 140.27709458577613)\">\n",
       "<g fill=\"#4a604e\" fill-opacity=\"1\" fill-rule=\"nonzero\" stroke=\"none\">\n",
       "  <path d=\"M -65.14295959472656 -70.3378677368164 C -65.14295959472656 -64.53887786359309 -69.84396972150324 -59.837867736816406 -75.64295959472656 -59.837867736816406 C -81.4419494679499 -59.837867736816406 -86.14295959472656 -64.53887786359309 -86.14295959472656 -70.3378677368164 C -86.14295959472656 -76.13685761003974 -81.4419494679499 -80.8378677368164 -75.64295959472656 -80.8378677368164 C -69.84396972150324 -80.8378677368164 -65.14295959472656 -76.13685761003974 -65.14295959472656 -70.3378677368164 z\"/>\n",
       "</g> <!-- drawing style -->\n",
       "</g> <!-- transform -->\n",
       "<g transform=\"matrix(0.75, 0, 0, 0.75, 321.64278030395513, 105.18385003316382)\">\n",
       "<text fill=\"#cccccc\" fill-opacity=\"1\" font-family=\"Helvetica\" font-size=\"16\" font-style=\"normal\" font-weight=\"normal\" stroke=\"none\" x=\"0\" y=\"0\">topology.edgelist/interleave-keys </text>\n",
       "</g> <!-- transform -->\n",
       "<g transform=\"matrix(0.75, 0, 0, 0.75, 369.00000000000006, 140.27709458577613)\">\n",
       "<g fill=\"none\" stroke=\"#c256fc\" stroke-linecap=\"round\" stroke-linejoin=\"round\" stroke-opacity=\"1\" stroke-width=\"4\">\n",
       "  <path d=\"M 90.18016052246094 84.63813781738281 C 90.18016052246094 90.43713190420439 85.47915039568426 95.13814544677734 79.68016052246094 95.13814544677734 C 73.8811706492376 95.13814544677734 69.18016052246094 90.43713190420439 69.18016052246094 84.63813781738281 C 69.18016052246094 78.83914373056123 73.8811706492376 74.13813018798828 79.68016052246094 74.13813018798828 C 85.47915039568426 74.13813018798828 90.18016052246094 78.83914373056123 90.18016052246094 84.63813781738281 z\"/>\n",
       "</g> <!-- drawing style -->\n",
       "</g> <!-- transform -->\n",
       "<g transform=\"matrix(0.75, 0, 0, 0.75, 369.00000000000006, 140.27709458577613)\">\n",
       "<g fill=\"#50395d\" fill-opacity=\"1\" fill-rule=\"nonzero\" stroke=\"none\">\n",
       "  <path d=\"M 90.18016052246094 84.63813781738281 C 90.18016052246094 90.43713190420439 85.47915039568426 95.13814544677734 79.68016052246094 95.13814544677734 C 73.8811706492376 95.13814544677734 69.18016052246094 90.43713190420439 69.18016052246094 84.63813781738281 C 69.18016052246094 78.83914373056123 73.8811706492376 74.13813018798828 79.68016052246094 74.13813018798828 C 85.47915039568426 74.13813018798828 90.18016052246094 78.83914373056123 90.18016052246094 84.63813781738281 z\"/>\n",
       "</g> <!-- drawing style -->\n",
       "</g> <!-- transform -->\n",
       "<g transform=\"matrix(0.75, 0, 0, 0.75, 438.1351203918457, 221.41585992085913)\">\n",
       "<text fill=\"#cccccc\" fill-opacity=\"1\" font-family=\"Helvetica\" font-size=\"16\" font-style=\"normal\" font-weight=\"normal\" stroke=\"none\" x=\"0\" y=\"0\">topology.qualifier/filter-fully-qualified </text>\n",
       "</g> <!-- transform -->\n",
       "</g> <!-- default stroke -->\n",
       "</svg>"
      ],
      "text/plain": [
       "<IPython.core.display.SVG object>"
      ]
     },
     "metadata": {},
     "output_type": "display_data"
    }
   ],
   "source": [
    "from IPython.display import SVG, display\n",
    "\n",
    "svg_data = network.get_svg()\n",
    "display(SVG(svg_data))"
   ]
  },
  {
   "cell_type": "code",
   "execution_count": 32,
   "metadata": {
    "collapsed": false,
    "deletable": true,
    "editable": true
   },
   "outputs": [],
   "source": [
    "# Write the svg to a file if everything looks good:\n",
    "with open(data_path + '.svg', 'wb') as f:\n",
    "    f.write(svg_data)"
   ]
  },
  {
   "cell_type": "code",
   "execution_count": null,
   "metadata": {
    "collapsed": true
   },
   "outputs": [],
   "source": []
  }
 ],
 "metadata": {
  "kernelspec": {
   "display_name": "Python 3",
   "language": "python",
   "name": "python3"
  },
  "language_info": {
   "codemirror_mode": {
    "name": "ipython",
    "version": 3
   },
   "file_extension": ".py",
   "mimetype": "text/x-python",
   "name": "python",
   "nbconvert_exporter": "python",
   "pygments_lexer": "ipython3",
   "version": "3.6.0"
  }
 },
 "nbformat": 4,
 "nbformat_minor": 0
}
