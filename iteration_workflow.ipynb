{
 "cells": [
  {
   "cell_type": "markdown",
   "metadata": {},
   "source": [
    "# Iteration Workflow\n",
    "\n",
    "\n",
    "## To create an updated structure after making new commits:\n",
    "\n",
    "* Generate an updated edge list.\n",
    "* Copy the previous position file to use as a starting point for the next visualization.\n",
    "* Open Cytoscape or destroy existing collections if Cytoscape is already running.\n",
    "* Run all cells to load the visualization.\n",
    "* [Save the new layout if you make changes](http://localhost:8888/notebooks/lein-topology.ipynb#Save-the-updated-layout-coordinates-if-you-make-changes)."
   ]
  },
  {
   "cell_type": "markdown",
   "metadata": {},
   "source": [
    "## Import common modules"
   ]
  },
  {
   "cell_type": "code",
   "execution_count": 31,
   "metadata": {
    "collapsed": false
   },
   "outputs": [],
   "source": [
    "from py2cytoscape.data.cynetwork import CyNetwork\n",
    "from py2cytoscape.data.cyrest_client import CyRestClient\n",
    "from py2cytoscape.data.style import StyleUtil\n",
    "import py2cytoscape.util.cytoscapejs as cyjs\n",
    "import py2cytoscape.cytoscapejs as renderer\n",
    "\n",
    "from subprocess import call\n",
    "from IPython.display import Image\n",
    "\n",
    "import igraph as igraph\n",
    "import pandas as pd\n",
    "import numpy as np\n",
    "\n",
    "import sand.io as io\n",
    "import sand.graph as sg\n",
    "import sand.cytoscape.positions as scp\n",
    "import sand.cytoscape.themes as themes\n",
    "import sand.cytoscape.app as app"
   ]
  },
  {
   "cell_type": "markdown",
   "metadata": {},
   "source": [
    "## Load the dataset as a weighted edge list"
   ]
  },
  {
   "cell_type": "code",
   "execution_count": 32,
   "metadata": {
    "collapsed": false
   },
   "outputs": [
    {
     "name": "stdout",
     "output_type": "stream",
     "text": [
      "/Users/bnorton/dev/lein-topology\n"
     ]
    }
   ],
   "source": [
    "# Change this path to the directory containing your dataset: This example will use the output of a lein-topology run:\n",
    "%cd \"~/dev/lein-topology\""
   ]
  },
  {
   "cell_type": "code",
   "execution_count": 33,
   "metadata": {
    "collapsed": false
   },
   "outputs": [],
   "source": [
    "network_collection = \"lein-topology\"\n",
    "network_name = \"57af741\"\n",
    "\n",
    "data_path = \"./data/\" + network_collection + \"-\" + network_name"
   ]
  },
  {
   "cell_type": "code",
   "execution_count": 34,
   "metadata": {
    "collapsed": false
   },
   "outputs": [
    {
     "data": {
      "text/plain": [
       "'IGRAPH D-W- 107 206 -- \\n+ attr: label (v), weight (e)'"
      ]
     },
     "execution_count": 34,
     "metadata": {},
     "output_type": "execute_result"
    }
   ],
   "source": [
    "edge_file = data_path + \".csv\"\n",
    "edgelist = io.csv_to_edgelist(edge_file)\n",
    "g = sg.edgelist_to_igraph(edgelist)\n",
    "g.summary()"
   ]
  },
  {
   "cell_type": "markdown",
   "metadata": {},
   "source": [
    "## Create communities based on namespaces."
   ]
  },
  {
   "cell_type": "markdown",
   "metadata": {},
   "source": [
    "### Build a set of all namespaces. These are the modules of the system. \n",
    "\n",
    "They will serve as groups / communities in the visualization."
   ]
  },
  {
   "cell_type": "code",
   "execution_count": 35,
   "metadata": {
    "collapsed": false
   },
   "outputs": [
    {
     "data": {
      "text/plain": [
       "'clojure.core'"
      ]
     },
     "execution_count": 35,
     "metadata": {},
     "output_type": "execute_result"
    }
   ],
   "source": [
    "# Convert fully-qualified names to namespaces:\n",
    "def fqn_to_ns(fqn):\n",
    "    return fqn.split('/')[0]\n",
    "\n",
    "\n",
    "fqn_to_ns('clojure.core/map')"
   ]
  },
  {
   "cell_type": "code",
   "execution_count": 36,
   "metadata": {
    "collapsed": false
   },
   "outputs": [],
   "source": [
    "namespaces = map(lambda l: fqn_to_ns(l), g.vs['label'])"
   ]
  },
  {
   "cell_type": "code",
   "execution_count": 37,
   "metadata": {
    "collapsed": false
   },
   "outputs": [
    {
     "data": {
      "text/plain": [
       "['topology.dependencies',\n",
       " 'clojure.core',\n",
       " 'topology.edgelist-test',\n",
       " 'clojure.core',\n",
       " 'topology.dependencies-test']"
      ]
     },
     "execution_count": 37,
     "metadata": {},
     "output_type": "execute_result"
    }
   ],
   "source": [
    "namespaces[0:5]"
   ]
  },
  {
   "cell_type": "markdown",
   "metadata": {},
   "source": [
    "### Assign each vertex to a group."
   ]
  },
  {
   "cell_type": "code",
   "execution_count": 38,
   "metadata": {
    "collapsed": true
   },
   "outputs": [],
   "source": [
    "g.vs['group'] = namespaces"
   ]
  },
  {
   "cell_type": "markdown",
   "metadata": {},
   "source": [
    "## Extract the subgraph of local namespaces \n",
    "\n",
    "There are some analyses where it will be useful to see all the vertices. For the high-level architecture diagram, we can focus on the functions local to the library's namespaces. We'll also keep functions used for output."
   ]
  },
  {
   "cell_type": "code",
   "execution_count": 39,
   "metadata": {
    "collapsed": false
   },
   "outputs": [],
   "source": [
    "# List all patterns of vertex names that we want to keep:\n",
    "names_to_keep = ['topology', 'clojure.core/*err*', 'clojure.core/println']"
   ]
  },
  {
   "cell_type": "code",
   "execution_count": 40,
   "metadata": {
    "collapsed": false
   },
   "outputs": [],
   "source": [
    "lv = g.vs(lambda v: any(match in v['label'] for match in names_to_keep))\n",
    "lg = g.subgraph(lv)"
   ]
  },
  {
   "cell_type": "code",
   "execution_count": 41,
   "metadata": {
    "collapsed": false
   },
   "outputs": [
    {
     "data": {
      "text/plain": [
       "'IGRAPH D-W- 26 26 -- \\n+ attr: group (v), label (v), weight (e)'"
      ]
     },
     "execution_count": 41,
     "metadata": {},
     "output_type": "execute_result"
    }
   ],
   "source": [
    "lg.summary()"
   ]
  },
  {
   "cell_type": "markdown",
   "metadata": {},
   "source": [
    "## Verify that Cytoscape is running and get the current version"
   ]
  },
  {
   "cell_type": "code",
   "execution_count": 42,
   "metadata": {
    "collapsed": false
   },
   "outputs": [
    {
     "name": "stdout",
     "output_type": "stream",
     "text": [
      "{\n",
      "  \"cytoscapeVersion\": \"3.4.0\", \n",
      "  \"apiVersion\": \"v1\"\n",
      "}\n"
     ]
    }
   ],
   "source": [
    "app.print_version()"
   ]
  },
  {
   "cell_type": "markdown",
   "metadata": {},
   "source": [
    "## Load into Cytoscape with a default layout"
   ]
  },
  {
   "cell_type": "code",
   "execution_count": 43,
   "metadata": {
    "collapsed": false
   },
   "outputs": [],
   "source": [
    "# Create py2cytoscape client\n",
    "cy = CyRestClient()"
   ]
  },
  {
   "cell_type": "code",
   "execution_count": 44,
   "metadata": {
    "collapsed": true
   },
   "outputs": [],
   "source": [
    "# Optional: delete all existing networks\n",
    "cy.session.delete()"
   ]
  },
  {
   "cell_type": "code",
   "execution_count": 45,
   "metadata": {
    "collapsed": false
   },
   "outputs": [],
   "source": [
    "# Load the network\n",
    "network = cy.network.create_from_igraph(lg, name=network_name, collection=network_collection)"
   ]
  },
  {
   "cell_type": "markdown",
   "metadata": {},
   "source": [
    "## Customize the style\n",
    "\n",
    "Use one of the included themes, or build your own."
   ]
  },
  {
   "cell_type": "code",
   "execution_count": 46,
   "metadata": {
    "collapsed": false
   },
   "outputs": [],
   "source": [
    "style = cy.style.create('Ops')\n",
    "style.update_defaults(themes.ops.settings)\n",
    "\n",
    "# Map the label property in the igraph data to Cytoscape's NODE_LABEL visual property\n",
    "style.create_passthrough_mapping(column='label', vp='NODE_LABEL', col_type='String')"
   ]
  },
  {
   "cell_type": "markdown",
   "metadata": {},
   "source": [
    "### Give each group a unique color."
   ]
  },
  {
   "cell_type": "code",
   "execution_count": 47,
   "metadata": {
    "collapsed": false
   },
   "outputs": [],
   "source": [
    "border_colors = {\n",
    "  'topology.finder': themes.colors.BRIGHT_YELLOW,\n",
    "  'topology.dependencies': themes.colors.BRIGHT_ORANGE,\n",
    "  'topology.dependencies-test': themes.colors.BRIGHT_ORANGE,\n",
    "  'topology.qualifier': themes.colors.BRIGHT_PURPLE,\n",
    "  'topology.symbols': themes.colors.BRIGHT_BLUE,\n",
    "  'clojure.core': themes.colors.BRIGHT_RED,\n",
    "  'topology.printer': themes.colors.BRIGHT_RED,\n",
    "  'leiningen.topology': themes.colors.BRIGHT_WHITE,\n",
    "}\n",
    "\n",
    "fill_colors = {\n",
    "  'topology.finder': themes.colors.DARK_YELLOW,\n",
    "  'topology.dependencies': themes.colors.DARK_ORANGE,\n",
    "  'topology.dependencies-test': themes.colors.DARK_ORANGE,\n",
    "  'topology.qualifier': themes.colors.DARK_PURPLE,\n",
    "  'topology.symbols': themes.colors.DARK_BLUE,\n",
    "  'clojure.core': themes.colors.DARK_RED,\n",
    "  'topology.printer': themes.colors.DARK_RED,\n",
    "  'leiningen.topology': themes.colors.DARK_WHITE,\n",
    "}\n",
    "\n",
    "style.create_discrete_mapping(column='group', col_type='String', vp='NODE_FILL_COLOR', mappings=fill_colors)\n",
    "style.create_discrete_mapping(column='group', col_type='String', vp='NODE_BORDER_PAINT', mappings=border_colors)"
   ]
  },
  {
   "cell_type": "code",
   "execution_count": 48,
   "metadata": {
    "collapsed": true
   },
   "outputs": [],
   "source": [
    "cy.style.apply(style, network)"
   ]
  },
  {
   "cell_type": "markdown",
   "metadata": {},
   "source": [
    "## Layout"
   ]
  },
  {
   "cell_type": "code",
   "execution_count": 49,
   "metadata": {
    "collapsed": true
   },
   "outputs": [],
   "source": [
    "# Apply default layout\n",
    "cy.layout.apply(name='force-directed', network=network)"
   ]
  },
  {
   "cell_type": "code",
   "execution_count": 50,
   "metadata": {
    "collapsed": false
   },
   "outputs": [],
   "source": [
    "# Load layout coordinates from a previous session\n",
    "positions_file = data_path + \"-positions.csv\"\n",
    "scp.layout_from_positions_csv(network, positions_file, cy)"
   ]
  },
  {
   "cell_type": "markdown",
   "metadata": {},
   "source": [
    "## Save the updated layout coordinates if you make changes\n",
    "\n",
    "One benefit of this workflow is the ability to manually tweak the algorithmic network layout in Cytoscape.\n",
    "\n",
    "After making changes, save the coordinates for a later session:"
   ]
  },
  {
   "cell_type": "code",
   "execution_count": 51,
   "metadata": {
    "collapsed": false
   },
   "outputs": [],
   "source": [
    "scp.positions_to_csv(network=network, path=positions_file)"
   ]
  },
  {
   "cell_type": "markdown",
   "metadata": {},
   "source": [
    "## Generate an SVG export\n",
    "\n",
    "Position the network in Cytoscape the way you want it, then trigger this export.\n",
    "When iterating, run all cells above, then all cells below this point to avoid race conditions with cytoscape's renderer."
   ]
  },
  {
   "cell_type": "code",
   "execution_count": 52,
   "metadata": {
    "collapsed": false
   },
   "outputs": [
    {
     "data": {
      "text/plain": [
       "True"
      ]
     },
     "execution_count": 52,
     "metadata": {},
     "output_type": "execute_result"
    }
   ],
   "source": [
    "# Hide all panels in the UI\n",
    "app.hide_panels()"
   ]
  },
  {
   "cell_type": "code",
   "execution_count": 53,
   "metadata": {
    "collapsed": true
   },
   "outputs": [],
   "source": [
    "# Fit to the window:\n",
    "cy.layout.fit(network=network)"
   ]
  },
  {
   "cell_type": "code",
   "execution_count": 54,
   "metadata": {
    "collapsed": false
   },
   "outputs": [],
   "source": [
    "view_id = network.get_views()[0]"
   ]
  },
  {
   "cell_type": "code",
   "execution_count": 55,
   "metadata": {
    "collapsed": false
   },
   "outputs": [],
   "source": [
    "view = network.get_view(view_id=view_id, format='view')"
   ]
  },
  {
   "cell_type": "code",
   "execution_count": 56,
   "metadata": {
    "collapsed": false
   },
   "outputs": [],
   "source": [
    "# Zoom out slightly:\n",
    "view.update_network_view('NETWORK_SCALE_FACTOR', 0.75)"
   ]
  },
  {
   "cell_type": "code",
   "execution_count": 57,
   "metadata": {
    "collapsed": true
   },
   "outputs": [],
   "source": [
    "# Shift the network to the left:\n",
    "view.update_network_view('NETWORK_CENTER_X_LOCATION', 750.0)"
   ]
  },
  {
   "cell_type": "code",
   "execution_count": 58,
   "metadata": {
    "collapsed": false
   },
   "outputs": [
    {
     "data": {
      "image/svg+xml": [
       "<svg baseProfile=\"full\" height=\"745px\" version=\"1.1\" viewBox=\"0 0 1435 745\" width=\"1435px\" x=\"0px\" xmlns=\"http://www.w3.org/2000/svg\" xmlns:ev=\"http://www.w3.org/2001/xml-events\" xmlns:xlink=\"http://www.w3.org/1999/xlink\" y=\"0px\">\n",
       "<title/>\n",
       "<desc>Creator: FreeHEP Graphics2D Driver Producer: org.freehep.graphicsio.svg.SVGGraphics2D Revision Source:  Date: Monday, December 26, 2016 11:26:57 PM EST</desc>\n",
       "<g stroke-dasharray=\"none\" stroke-dashoffset=\"0\" stroke-linecap=\"square\" stroke-linejoin=\"miter\" stroke-miterlimit=\"10\" stroke-width=\"1\">\n",
       "<g fill=\"#3d3e3f\" fill-opacity=\"1\" fill-rule=\"nonzero\" stroke=\"none\">\n",
       "  <path d=\"M 0 0 L 1435 0 L 1435 745 L 0 745 L 0 0 z\"/>\n",
       "</g> <!-- drawing style -->\n",
       "<g transform=\"matrix(0.75, 0, 0, 0.75, 155, 144.14727020263672)\">\n",
       "<g fill=\"none\" stroke=\"#cccccc\" stroke-linecap=\"round\" stroke-linejoin=\"round\" stroke-opacity=\"1\" stroke-width=\"2.5\">\n",
       "  <path d=\"M -75.64295959472656 623.9664306640625 L -75.64295959472656 464.5563049316406\"/>\n",
       "</g> <!-- drawing style -->\n",
       "</g> <!-- transform -->\n",
       "<g transform=\"matrix(0, 1.875, -1.875, 0, 98.26778030395508, 612.1220932006836)\">\n",
       "<g fill=\"#cccccc\" fill-opacity=\"1\" fill-rule=\"nonzero\" stroke=\"none\">\n",
       "  <path d=\"M -0.00000000000000009185 0.5 C 0.27614237491539656 0.5 0.49999999999999994 0.2761423749153968 0.5 0.00000000000000012246 C 0.5000000000000001 -0.27614237491539656 0.27614237491539684 -0.4999999999999999 0.00000000000000015308 -0.5 z\"/>\n",
       "</g> <!-- drawing style -->\n",
       "</g> <!-- transform -->\n",
       "<g transform=\"matrix(-0, -6.375, 6.375, -0, 98.26778030395508, 479.8144989013672)\">\n",
       "<g fill=\"#cccccc\" fill-opacity=\"1\" fill-rule=\"nonzero\" stroke=\"none\">\n",
       "  <path d=\"M -2 -0.5 L 0 0 L -2 0.5 z\"/>\n",
       "</g> <!-- drawing style -->\n",
       "</g> <!-- transform -->\n",
       "<g transform=\"matrix(0.75, 0, 0, 0.75, 155, 144.14727020263672)\">\n",
       "<g fill=\"none\" stroke=\"#cccccc\" stroke-linecap=\"round\" stroke-linejoin=\"round\" stroke-opacity=\"1\" stroke-width=\"2.5\">\n",
       "  <path d=\"M -64.39990234375 631.0034790039062 L -11.98312258324798 605.5344550247898\"/>\n",
       "</g> <!-- drawing style -->\n",
       "</g> <!-- transform -->\n",
       "<g transform=\"matrix(-1.6864583505446595, 0.8194408043770989, -0.8194408043770989, -1.6864583505446595, 106.7000732421875, 617.3998794555664)\">\n",
       "<g fill=\"#cccccc\" fill-opacity=\"1\" fill-rule=\"nonzero\" stroke=\"none\">\n",
       "  <path d=\"M -0.00000000000000009185 0.5 C 0.27614237491539656 0.5 0.49999999999999994 0.2761423749153968 0.5 0.00000000000000012246 C 0.5000000000000001 -0.27614237491539656 0.27614237491539684 -0.4999999999999999 0.00000000000000015308 -0.5 z\"/>\n",
       "</g> <!-- drawing style -->\n",
       "</g> <!-- transform -->\n",
       "<g transform=\"matrix(5.733958391851843, -2.786098734882136, 2.786098734882136, 5.733958391851843, 157.4805748462677, 592.7259140014648)\">\n",
       "<g fill=\"#cccccc\" fill-opacity=\"1\" fill-rule=\"nonzero\" stroke=\"none\">\n",
       "  <path d=\"M -2 -0.5 L 0 0 L -2 0.5 z\"/>\n",
       "</g> <!-- drawing style -->\n",
       "</g> <!-- transform -->\n",
       "<g transform=\"matrix(0.75, 0, 0, 0.75, 155, 144.14727020263672)\">\n",
       "<g fill=\"none\" stroke=\"#cccccc\" stroke-linecap=\"round\" stroke-linejoin=\"round\" stroke-opacity=\"1\" stroke-width=\"2.5\">\n",
       "  <path d=\"M 537.8593139648438 636.4664306640625 L -46.14295959472656 636.4664306640625\"/>\n",
       "</g> <!-- drawing style -->\n",
       "</g> <!-- transform -->\n",
       "<g transform=\"matrix(1.875, 0, 0, 1.875, 558.3944854736328, 621.4970932006836)\">\n",
       "<g fill=\"#cccccc\" fill-opacity=\"1\" fill-rule=\"nonzero\" stroke=\"none\">\n",
       "  <path d=\"M -0.00000000000000009185 0.5 C 0.27614237491539656 0.5 0.49999999999999994 0.2761423749153968 0.5 0.00000000000000012246 C 0.5000000000000001 -0.27614237491539656 0.27614237491539684 -0.4999999999999999 0.00000000000000015308 -0.5 z\"/>\n",
       "</g> <!-- drawing style -->\n",
       "</g> <!-- transform -->\n",
       "<g transform=\"matrix(-6.375, -0, 0, -6.375, 107.64278030395508, 621.4970932006836)\">\n",
       "<g fill=\"#cccccc\" fill-opacity=\"1\" fill-rule=\"nonzero\" stroke=\"none\">\n",
       "  <path d=\"M -2 -0.5 L 0 0 L -2 0.5 z\"/>\n",
       "</g> <!-- drawing style -->\n",
       "</g> <!-- transform -->\n",
       "<g transform=\"matrix(0.75, 0, 0, 0.75, 155, 144.14727020263672)\">\n",
       "<g fill=\"none\" stroke=\"#cccccc\" stroke-linecap=\"round\" stroke-linejoin=\"round\" stroke-opacity=\"1\" stroke-width=\"2.5\">\n",
       "  <path d=\"M -157.00355529785156 683.70849609375 L -101.15417504461486 651.2795263854438\"/>\n",
       "</g> <!-- drawing style -->\n",
       "</g> <!-- transform -->\n",
       "<g transform=\"matrix(-1.621475526681585, 0.9415105503246772, -0.9415105503246772, -1.621475526681585, 37.24733352661133, 656.9286422729492)\">\n",
       "<g fill=\"#cccccc\" fill-opacity=\"1\" fill-rule=\"nonzero\" stroke=\"none\">\n",
       "  <path d=\"M -0.00000000000000009185 0.5 C 0.27614237491539656 0.5 0.49999999999999994 0.2761423749153968 0.5 0.00000000000000012246 C 0.5000000000000001 -0.27614237491539656 0.27614237491539684 -0.4999999999999999 0.00000000000000015308 -0.5 z\"/>\n",
       "</g> <!-- drawing style -->\n",
       "</g> <!-- transform -->\n",
       "<g transform=\"matrix(5.513016790717389, -3.2011358711039026, 3.2011358711039026, 5.513016790717389, 90.16040229797363, 626.2046432495117)\">\n",
       "<g fill=\"#cccccc\" fill-opacity=\"1\" fill-rule=\"nonzero\" stroke=\"none\">\n",
       "  <path d=\"M -2 -0.5 L 0 0 L -2 0.5 z\"/>\n",
       "</g> <!-- drawing style -->\n",
       "</g> <!-- transform -->\n",
       "<g transform=\"matrix(0.75, 0, 0, 0.75, 155, 144.14727020263672)\">\n",
       "<g fill=\"none\" stroke=\"#cccccc\" stroke-linecap=\"round\" stroke-linejoin=\"round\" stroke-opacity=\"1\" stroke-width=\"2.5\">\n",
       "  <path d=\"M 25.55251693725586 586.70849609375 L 55.245011539949246 570.6952919152682\"/>\n",
       "</g> <!-- drawing style -->\n",
       "</g> <!-- transform -->\n",
       "<g transform=\"matrix(-1.6503043854397377, 0.8900114804868362, -0.8900114804868362, -1.6503043854397377, 174.1643877029419, 584.1786422729492)\">\n",
       "<g fill=\"#cccccc\" fill-opacity=\"1\" fill-rule=\"nonzero\" stroke=\"none\">\n",
       "  <path d=\"M -0.00000000000000009185 0.5 C 0.27614237491539656 0.5 0.49999999999999994 0.2761423749153968 0.5 0.00000000000000012246 C 0.5000000000000001 -0.27614237491539656 0.27614237491539684 -0.4999999999999999 0.00000000000000015308 -0.5 z\"/>\n",
       "</g> <!-- drawing style -->\n",
       "</g> <!-- transform -->\n",
       "<g transform=\"matrix(5.611034910495108, -3.026039033655243, 3.026039033655243, 5.611034910495108, 207.65582847595215, 566.1166610717773)\">\n",
       "<g fill=\"#cccccc\" fill-opacity=\"1\" fill-rule=\"nonzero\" stroke=\"none\">\n",
       "  <path d=\"M -2 -0.5 L 0 0 L -2 0.5 z\"/>\n",
       "</g> <!-- drawing style -->\n",
       "</g> <!-- transform -->\n",
       "<g transform=\"matrix(0.75, 0, 0, 0.75, 155, 144.14727020263672)\">\n",
       "<g fill=\"none\" stroke=\"#cccccc\" stroke-linecap=\"round\" stroke-linejoin=\"round\" stroke-opacity=\"1\" stroke-width=\"2.5\">\n",
       "  <path d=\"M 176.4676055908203 515.2782592773438 L 212.6492640975408 497.69044065408843\"/>\n",
       "</g> <!-- drawing style -->\n",
       "</g> <!-- transform -->\n",
       "<g transform=\"matrix(-1.6863236619784963, 0.8197179435948896, -0.8197179435948896, -1.6863236619784963, 287.35070419311523, 530.6059646606445)\">\n",
       "<g fill=\"#cccccc\" fill-opacity=\"1\" fill-rule=\"nonzero\" stroke=\"none\">\n",
       "  <path d=\"M -0.00000000000000009185 0.5 C 0.27614237491539656 0.5 0.49999999999999994 0.2761423749153968 0.5 0.00000000000000012246 C 0.5000000000000001 -0.27614237491539656 0.27614237491539684 -0.4999999999999999 0.00000000000000015308 -0.5 z\"/>\n",
       "</g> <!-- drawing style -->\n",
       "</g> <!-- transform -->\n",
       "<g transform=\"matrix(5.733500450726887, -2.7870410082226242, 2.7870410082226242, 5.733500450726887, 325.9539489746094, 511.8410186767578)\">\n",
       "<g fill=\"#cccccc\" fill-opacity=\"1\" fill-rule=\"nonzero\" stroke=\"none\">\n",
       "  <path d=\"M -2 -0.5 L 0 0 L -2 0.5 z\"/>\n",
       "</g> <!-- drawing style -->\n",
       "</g> <!-- transform -->\n",
       "<g transform=\"matrix(0.75, 0, 0, 0.75, 155, 144.14727020263672)\">\n",
       "<g fill=\"none\" stroke=\"#cccccc\" stroke-linecap=\"round\" stroke-linejoin=\"round\" stroke-opacity=\"1\" stroke-width=\"2.5\">\n",
       "  <path d=\"M 638.4710693359375 707.8694458007812 L 573.2785650972978 655.0394752306177\"/>\n",
       "</g> <!-- drawing style -->\n",
       "</g> <!-- transform -->\n",
       "<g transform=\"matrix(1.4567319795101, 1.1804901269695505, -1.1804901269695505, 1.4567319795101, 633.8533020019531, 675.0493545532227)\">\n",
       "<g fill=\"#cccccc\" fill-opacity=\"1\" fill-rule=\"nonzero\" stroke=\"none\">\n",
       "  <path d=\"M -0.00000000000000009185 0.5 C 0.27614237491539656 0.5 0.49999999999999994 0.2761423749153968 0.5 0.00000000000000012246 C 0.5000000000000001 -0.27614237491539656 0.27614237491539684 -0.4999999999999999 0.00000000000000015308 -0.5 z\"/>\n",
       "</g> <!-- drawing style -->\n",
       "</g> <!-- transform -->\n",
       "<g transform=\"matrix(-4.95288873033434, -4.013666431696471, 4.013666431696471, -4.95288873033434, 575.0531463623047, 627.399543762207)\">\n",
       "<g fill=\"#cccccc\" fill-opacity=\"1\" fill-rule=\"nonzero\" stroke=\"none\">\n",
       "  <path d=\"M -2 -0.5 L 0 0 L -2 0.5 z\"/>\n",
       "</g> <!-- drawing style -->\n",
       "</g> <!-- transform -->\n",
       "<g transform=\"matrix(0.75, 0, 0, 0.75, 155, 144.14727020263672)\">\n",
       "<g fill=\"none\" stroke=\"#cccccc\" stroke-linecap=\"round\" stroke-linejoin=\"round\" stroke-opacity=\"1\" stroke-width=\"2.5\">\n",
       "  <path d=\"M 639.3388061523438 757.8348999023438 L 567.8014751128972 660.2576057534914\"/>\n",
       "</g> <!-- drawing style -->\n",
       "</g> <!-- transform -->\n",
       "<g transform=\"matrix(1.108611846809652, 1.5121523643843873, -1.5121523643843873, 1.108611846809652, 634.5041046142578, 712.5234451293945)\">\n",
       "<g fill=\"#cccccc\" fill-opacity=\"1\" fill-rule=\"nonzero\" stroke=\"none\">\n",
       "  <path d=\"M -0.00000000000000009185 0.5 C 0.27614237491539656 0.5 0.49999999999999994 0.2761423749153968 0.5 0.00000000000000012246 C 0.5000000000000001 -0.27614237491539656 0.27614237491539684 -0.4999999999999999 0.00000000000000015308 -0.5 z\"/>\n",
       "</g> <!-- drawing style -->\n",
       "</g> <!-- transform -->\n",
       "<g transform=\"matrix(-3.769280279152817, -5.141318038906917, 5.141318038906917, -3.769280279152817, 573.3125457763672, 629.0578384399414)\">\n",
       "<g fill=\"#cccccc\" fill-opacity=\"1\" fill-rule=\"nonzero\" stroke=\"none\">\n",
       "  <path d=\"M -2 -0.5 L 0 0 L -2 0.5 z\"/>\n",
       "</g> <!-- drawing style -->\n",
       "</g> <!-- transform -->\n",
       "<g transform=\"matrix(0.75, 0, 0, 0.75, 155, 144.14727020263672)\">\n",
       "<g fill=\"none\" stroke=\"#cccccc\" stroke-linecap=\"round\" stroke-linejoin=\"round\" stroke-opacity=\"1\" stroke-width=\"2.5\">\n",
       "  <path d=\"M 92.70195007324219 551.7750854492188 L 138.1039857779105 532.3480249119938\"/>\n",
       "</g> <!-- drawing style -->\n",
       "</g> <!-- transform -->\n",
       "<g transform=\"matrix(-1.7238221809031373, 0.7376056457392062, -0.7376056457392062, -1.7238221809031373, 224.52646255493164, 557.9785842895508)\">\n",
       "<g fill=\"#cccccc\" fill-opacity=\"1\" fill-rule=\"nonzero\" stroke=\"none\">\n",
       "  <path d=\"M -0.00000000000000009185 0.5 C 0.27614237491539656 0.5 0.49999999999999994 0.2761423749153968 0.5 0.00000000000000012246 C 0.5000000000000001 -0.27614237491539656 0.27614237491539684 -0.4999999999999999 0.00000000000000015308 -0.5 z\"/>\n",
       "</g> <!-- drawing style -->\n",
       "</g> <!-- transform -->\n",
       "<g transform=\"matrix(5.860995415070667, -2.507859195513301, 2.507859195513301, 5.860995415070667, 270.2999801635742, 538.3925704956055)\">\n",
       "<g fill=\"#cccccc\" fill-opacity=\"1\" fill-rule=\"nonzero\" stroke=\"none\">\n",
       "  <path d=\"M -2 -0.5 L 0 0 L -2 0.5 z\"/>\n",
       "</g> <!-- drawing style -->\n",
       "</g> <!-- transform -->\n",
       "<g transform=\"matrix(0.75, 0, 0, 0.75, 155, 144.14727020263672)\">\n",
       "<g fill=\"none\" stroke=\"#cccccc\" stroke-linecap=\"round\" stroke-linejoin=\"round\" stroke-opacity=\"1\" stroke-width=\"2.5\">\n",
       "  <path d=\"M -167.87815856933594 677.4854125976562 L -171.8587634233813 -90.69723445905501\"/>\n",
       "</g> <!-- drawing style -->\n",
       "</g> <!-- transform -->\n",
       "<g transform=\"matrix(0.009715832461102242, 1.8749748271909115, -1.8749748271909115, 0.009715832461102242, 29.091381072998047, 652.2613296508789)\">\n",
       "<g fill=\"#cccccc\" fill-opacity=\"1\" fill-rule=\"nonzero\" stroke=\"none\">\n",
       "  <path d=\"M -0.00000000000000009185 0.5 C 0.27614237491539656 0.5 0.49999999999999994 0.2761423749153968 0.5 0.00000000000000012246 C 0.5000000000000001 -0.27614237491539656 0.27614237491539684 -0.4999999999999999 0.00000000000000015308 -0.5 z\"/>\n",
       "</g> <!-- drawing style -->\n",
       "</g> <!-- transform -->\n",
       "<g transform=\"matrix(-0.033033830367747624, -6.374914412449098, 6.374914412449098, -0.033033830367747624, 26.039859771728516, 63.374515533447266)\">\n",
       "<g fill=\"#cccccc\" fill-opacity=\"1\" fill-rule=\"nonzero\" stroke=\"none\">\n",
       "  <path d=\"M -2 -0.5 L 0 0 L -2 0.5 z\"/>\n",
       "</g> <!-- drawing style -->\n",
       "</g> <!-- transform -->\n",
       "<g transform=\"matrix(0.75, 0, 0, 0.75, 155, 144.14727020263672)\">\n",
       "<g fill=\"none\" stroke=\"#cccccc\" stroke-linecap=\"round\" stroke-linejoin=\"round\" stroke-opacity=\"1\" stroke-width=\"2.5\">\n",
       "  <path d=\"M 634.5152587890625 668.2234497070312 L 577.9595460858254 646.881623690553\"/>\n",
       "</g> <!-- drawing style -->\n",
       "</g> <!-- transform -->\n",
       "<g transform=\"matrix(1.754252734937093, 0.6619836417659641, -0.6619836417659641, 1.754252734937093, 630.8864440917969, 645.3148574829102)\">\n",
       "<g fill=\"#cccccc\" fill-opacity=\"1\" fill-rule=\"nonzero\" stroke=\"none\">\n",
       "  <path d=\"M -0.00000000000000009185 0.5 C 0.27614237491539656 0.5 0.49999999999999994 0.2761423749153968 0.5 0.00000000000000012246 C 0.5000000000000001 -0.27614237491539656 0.27614237491539684 -0.4999999999999999 0.00000000000000015308 -0.5 z\"/>\n",
       "</g> <!-- drawing style -->\n",
       "</g> <!-- transform -->\n",
       "<g transform=\"matrix(-5.9644592987861165, -2.250744382004278, 2.250744382004278, -5.9644592987861165, 576.5407409667969, 624.806999206543)\">\n",
       "<g fill=\"#cccccc\" fill-opacity=\"1\" fill-rule=\"nonzero\" stroke=\"none\">\n",
       "  <path d=\"M -2 -0.5 L 0 0 L -2 0.5 z\"/>\n",
       "</g> <!-- drawing style -->\n",
       "</g> <!-- transform -->\n",
       "<g transform=\"matrix(0.75, 0, 0, 0.75, 155, 144.14727020263672)\">\n",
       "<g fill=\"none\" stroke=\"#cccccc\" stroke-linecap=\"round\" stroke-linejoin=\"round\" stroke-opacity=\"1\" stroke-width=\"2.5\">\n",
       "  <path d=\"M -75.64295959472656 422.5563049316406 L -75.64295959472656 -40.837867736816406\"/>\n",
       "</g> <!-- drawing style -->\n",
       "</g> <!-- transform -->\n",
       "<g transform=\"matrix(0, 1.875, -1.875, 0, 98.26778030395508, 461.0644989013672)\">\n",
       "<g fill=\"#cccccc\" fill-opacity=\"1\" fill-rule=\"nonzero\" stroke=\"none\">\n",
       "  <path d=\"M -0.00000000000000009185 0.5 C 0.27614237491539656 0.5 0.49999999999999994 0.2761423749153968 0.5 0.00000000000000012246 C 0.5000000000000001 -0.27614237491539656 0.27614237491539684 -0.4999999999999999 0.00000000000000015308 -0.5 z\"/>\n",
       "</g> <!-- drawing style -->\n",
       "</g> <!-- transform -->\n",
       "<g transform=\"matrix(-0, -6.375, 6.375, -0, 98.26778030395508, 100.76886940002441)\">\n",
       "<g fill=\"#cccccc\" fill-opacity=\"1\" fill-rule=\"nonzero\" stroke=\"none\">\n",
       "  <path d=\"M -2 -0.5 L 0 0 L -2 0.5 z\"/>\n",
       "</g> <!-- drawing style -->\n",
       "</g> <!-- transform -->\n",
       "<g transform=\"matrix(0.75, 0, 0, 0.75, 155, 144.14727020263672)\">\n",
       "<g fill=\"none\" stroke=\"#cccccc\" stroke-linecap=\"round\" stroke-linejoin=\"round\" stroke-opacity=\"1\" stroke-width=\"2.5\">\n",
       "  <path d=\"M -69.77404022216797 424.0197448730469 L -29.932343139936158 349.09698042532597\"/>\n",
       "</g> <!-- drawing style -->\n",
       "</g> <!-- transform -->\n",
       "<g transform=\"matrix(-0.8803376703018684, 1.6554850003088157, -1.6554850003088157, -0.8803376703018684, 102.66946983337402, 462.1620788574219)\">\n",
       "<g fill=\"#cccccc\" fill-opacity=\"1\" fill-rule=\"nonzero\" stroke=\"none\">\n",
       "  <path d=\"M -0.00000000000000009185 0.5 C 0.27614237491539656 0.5 0.49999999999999994 0.2761423749153968 0.5 0.00000000000000012246 C 0.5000000000000001 -0.27614237491539656 0.27614237491539684 -0.4999999999999999 0.00000000000000015308 -0.5 z\"/>\n",
       "</g> <!-- drawing style -->\n",
       "</g> <!-- transform -->\n",
       "<g transform=\"matrix(2.9931480790263523, -5.628649001049973, 5.628649001049973, 2.9931480790263523, 138.5370388031006, 394.71270751953125)\">\n",
       "<g fill=\"#cccccc\" fill-opacity=\"1\" fill-rule=\"nonzero\" stroke=\"none\">\n",
       "  <path d=\"M -2 -0.5 L 0 0 L -2 0.5 z\"/>\n",
       "</g> <!-- drawing style -->\n",
       "</g> <!-- transform -->\n",
       "<g transform=\"matrix(0.75, 0, 0, 0.75, 155, 144.14727020263672)\">\n",
       "<g fill=\"none\" stroke=\"#cccccc\" stroke-linecap=\"round\" stroke-linejoin=\"round\" stroke-opacity=\"1\" stroke-width=\"2.5\">\n",
       "  <path d=\"M 93.69102478027344 146.03192138671875 L 366.9564435546145 131.0372890644676\"/>\n",
       "</g> <!-- drawing style -->\n",
       "</g> <!-- transform -->\n",
       "<g transform=\"matrix(-1.8721836009386572, 0.10273054256823254, -0.10273054256823254, -1.8721836009386572, 225.26826858520508, 253.67121124267578)\">\n",
       "<g fill=\"#cccccc\" fill-opacity=\"1\" fill-rule=\"nonzero\" stroke=\"none\">\n",
       "  <path d=\"M -0.00000000000000009185 0.5 C 0.27614237491539656 0.5 0.49999999999999994 0.2761423749153968 0.5 0.00000000000000012246 C 0.5000000000000001 -0.27614237491539656 0.27614237491539684 -0.4999999999999999 0.00000000000000015308 -0.5 z\"/>\n",
       "</g> <!-- drawing style -->\n",
       "</g> <!-- transform -->\n",
       "<g transform=\"matrix(6.365424243191434, -0.34928384473199064, 0.34928384473199064, 6.365424243191434, 442.94818115234375, 241.72666931152344)\">\n",
       "<g fill=\"#cccccc\" fill-opacity=\"1\" fill-rule=\"nonzero\" stroke=\"none\">\n",
       "  <path d=\"M -2 -0.5 L 0 0 L -2 0.5 z\"/>\n",
       "</g> <!-- drawing style -->\n",
       "</g> <!-- transform -->\n",
       "<g transform=\"matrix(0.75, 0, 0, 0.75, 155, 144.14727020263672)\">\n",
       "<g fill=\"none\" stroke=\"#cccccc\" stroke-linecap=\"round\" stroke-linejoin=\"round\" stroke-opacity=\"1\" stroke-width=\"2.5\">\n",
       "  <path d=\"M -10.043045997619629 312.1060791015625 L 66.95858776770949 172.54610674267235\"/>\n",
       "</g> <!-- drawing style -->\n",
       "</g> <!-- transform -->\n",
       "<g transform=\"matrix(-0.9057973279202252, 1.6416930896889894, -1.6416930896889894, -0.9057973279202252, 147.46771550178528, 378.2268295288086)\">\n",
       "<g fill=\"#cccccc\" fill-opacity=\"1\" fill-rule=\"nonzero\" stroke=\"none\">\n",
       "  <path d=\"M -0.00000000000000009185 0.5 C 0.27614237491539656 0.5 0.49999999999999994 0.2761423749153968 0.5 0.00000000000000012246 C 0.5000000000000001 -0.27614237491539656 0.27614237491539684 -0.4999999999999999 0.00000000000000015308 -0.5 z\"/>\n",
       "</g> <!-- drawing style -->\n",
       "</g> <!-- transform -->\n",
       "<g transform=\"matrix(3.0797109149287656, -5.581756504942565, 5.581756504942565, 3.0797109149287656, 211.37836265563965, 262.39333724975586)\">\n",
       "<g fill=\"#cccccc\" fill-opacity=\"1\" fill-rule=\"nonzero\" stroke=\"none\">\n",
       "  <path d=\"M -2 -0.5 L 0 0 L -2 0.5 z\"/>\n",
       "</g> <!-- drawing style -->\n",
       "</g> <!-- transform -->\n",
       "<g transform=\"matrix(0.75, 0, 0, 0.75, 155, 144.14727020263672)\">\n",
       "<g fill=\"none\" stroke=\"#cccccc\" stroke-linecap=\"round\" stroke-linejoin=\"round\" stroke-opacity=\"1\" stroke-width=\"2.5\">\n",
       "  <path d=\"M -11.422673225402832 311.4513854980469 L 68.68486978276701 112.01245976568839\"/>\n",
       "</g> <!-- drawing style -->\n",
       "</g> <!-- transform -->\n",
       "<g transform=\"matrix(-0.6988534488396053, 1.7398933464568997, -1.7398933464568997, -0.6988534488396053, 146.43299508094788, 377.7358093261719)\">\n",
       "<g fill=\"#cccccc\" fill-opacity=\"1\" fill-rule=\"nonzero\" stroke=\"none\">\n",
       "  <path d=\"M -0.00000000000000009185 0.5 C 0.27614237491539656 0.5 0.49999999999999994 0.2761423749153968 0.5 0.00000000000000012246 C 0.5000000000000001 -0.27614237491539656 0.27614237491539684 -0.4999999999999999 0.00000000000000015308 -0.5 z\"/>\n",
       "</g> <!-- drawing style -->\n",
       "</g> <!-- transform -->\n",
       "<g transform=\"matrix(2.376101726054658, -5.915637377953459, 5.915637377953459, 2.376101726054658, 211.26585578918457, 216.3253402709961)\">\n",
       "<g fill=\"#cccccc\" fill-opacity=\"1\" fill-rule=\"nonzero\" stroke=\"none\">\n",
       "  <path d=\"M -2 -0.5 L 0 0 L -2 0.5 z\"/>\n",
       "</g> <!-- drawing style -->\n",
       "</g> <!-- transform -->\n",
       "<g transform=\"matrix(0.75, 0, 0, 0.75, 155, 144.14727020263672)\">\n",
       "<g fill=\"none\" stroke=\"#cccccc\" stroke-linecap=\"round\" stroke-linejoin=\"round\" stroke-opacity=\"1\" stroke-width=\"2.5\">\n",
       "  <path d=\"M -8.262510299682617 313.2982482910156 L 62.75652562976569 224.71998619489412\"/>\n",
       "</g> <!-- drawing style -->\n",
       "</g> <!-- transform -->\n",
       "<g transform=\"matrix(-1.172877765533799, 1.4628679869066934, -1.4628679869066934, -1.172877765533799, 148.80311727523804, 379.12095642089844)\">\n",
       "<g fill=\"#cccccc\" fill-opacity=\"1\" fill-rule=\"nonzero\" stroke=\"none\">\n",
       "  <path d=\"M -0.00000000000000009185 0.5 C 0.27614237491539656 0.5 0.49999999999999994 0.2761423749153968 0.5 0.00000000000000012246 C 0.5000000000000001 -0.27614237491539656 0.27614237491539684 -0.4999999999999999 0.00000000000000015308 -0.5 z\"/>\n",
       "</g> <!-- drawing style -->\n",
       "</g> <!-- transform -->\n",
       "<g transform=\"matrix(3.9877844028149165, -4.973751155482758, 4.973751155482758, 3.9877844028149165, 210.0429630279541, 302.7397575378418)\">\n",
       "<g fill=\"#cccccc\" fill-opacity=\"1\" fill-rule=\"nonzero\" stroke=\"none\">\n",
       "  <path d=\"M -2 -0.5 L 0 0 L -2 0.5 z\"/>\n",
       "</g> <!-- drawing style -->\n",
       "</g> <!-- transform -->\n",
       "<g transform=\"matrix(0.75, 0, 0, 0.75, 155, 144.14727020263672)\">\n",
       "<g fill=\"none\" stroke=\"#cccccc\" stroke-linecap=\"round\" stroke-linejoin=\"round\" stroke-opacity=\"1\" stroke-width=\"2.5\">\n",
       "  <path d=\"M -5.880240440368652 315.82708740234375 L 57.1343659962091 271.206806827472\"/>\n",
       "</g> <!-- drawing style -->\n",
       "</g> <!-- transform -->\n",
       "<g transform=\"matrix(-1.5302184442729514, 1.0835388838462923, -1.0835388838462923, -1.5302184442729514, 150.5898196697235, 381.01758575439453)\">\n",
       "<g fill=\"#cccccc\" fill-opacity=\"1\" fill-rule=\"nonzero\" stroke=\"none\">\n",
       "  <path d=\"M -0.00000000000000009185 0.5 C 0.27614237491539656 0.5 0.49999999999999994 0.2761423749153968 0.5 0.00000000000000012246 C 0.5000000000000001 -0.27614237491539656 0.27614237491539684 -0.4999999999999999 0.00000000000000015308 -0.5 z\"/>\n",
       "</g> <!-- drawing style -->\n",
       "</g> <!-- transform -->\n",
       "<g transform=\"matrix(5.202742710528034, -3.6840322050773935, 3.6840322050773935, 5.202742710528034, 208.2562599182129, 340.18431091308594)\">\n",
       "<g fill=\"#cccccc\" fill-opacity=\"1\" fill-rule=\"nonzero\" stroke=\"none\">\n",
       "  <path d=\"M -2 -0.5 L 0 0 L -2 0.5 z\"/>\n",
       "</g> <!-- drawing style -->\n",
       "</g> <!-- transform -->\n",
       "<g transform=\"matrix(0.75, 0, 0, 0.75, 155, 144.14727020263672)\">\n",
       "<g fill=\"none\" stroke=\"#cccccc\" stroke-linecap=\"round\" stroke-linejoin=\"round\" stroke-opacity=\"1\" stroke-width=\"2.5\">\n",
       "  <path d=\"M 553.1497802734375 322.8218688964844 L 13.418302116304737 323.03882092808243\"/>\n",
       "</g> <!-- drawing style -->\n",
       "</g> <!-- transform -->\n",
       "<g transform=\"matrix(1.8749998485242292, -0.0007536803815339822, 0.0007536803815339822, 1.8749998485242292, 569.8623352050781, 386.263671875)\">\n",
       "<g fill=\"#cccccc\" fill-opacity=\"1\" fill-rule=\"nonzero\" stroke=\"none\">\n",
       "  <path d=\"M -0.00000000000000009185 0.5 C 0.27614237491539656 0.5 0.49999999999999994 0.2761423749153968 0.5 0.00000000000000012246 C 0.5000000000000001 -0.27614237491539656 0.27614237491539684 -0.4999999999999999 0.00000000000000015308 -0.5 z\"/>\n",
       "</g> <!-- drawing style -->\n",
       "</g> <!-- transform -->\n",
       "<g transform=\"matrix(-6.3749994849823794, 0.0025625132972155393, -0.0025625132972155393, -6.3749994849823794, 152.3137276172638, 386.43151092529297)\">\n",
       "<g fill=\"#cccccc\" fill-opacity=\"1\" fill-rule=\"nonzero\" stroke=\"none\">\n",
       "  <path d=\"M -2 -0.5 L 0 0 L -2 0.5 z\"/>\n",
       "</g> <!-- drawing style -->\n",
       "</g> <!-- transform -->\n",
       "<g transform=\"matrix(0.75, 0, 0, 0.75, 155, 144.14727020263672)\">\n",
       "<g fill=\"none\" stroke=\"#cccccc\" stroke-linecap=\"round\" stroke-linejoin=\"round\" stroke-opacity=\"1\" stroke-width=\"2.5\">\n",
       "  <path d=\"M 89.8613052368164 245.1368408203125 L 348.3039338367657 -24.381831319220005\"/>\n",
       "</g> <!-- drawing style -->\n",
       "</g> <!-- transform -->\n",
       "<g transform=\"matrix(-1.2977253275597345, 1.353341780264682, -1.353341780264682, -1.2977253275597345, 222.3959789276123, 327.9999008178711)\">\n",
       "<g fill=\"#cccccc\" fill-opacity=\"1\" fill-rule=\"nonzero\" stroke=\"none\">\n",
       "  <path d=\"M -0.00000000000000009185 0.5 C 0.27614237491539656 0.5 0.49999999999999994 0.2761423749153968 0.5 0.00000000000000012246 C 0.5000000000000001 -0.27614237491539656 0.27614237491539684 -0.4999999999999999 0.00000000000000015308 -0.5 z\"/>\n",
       "</g> <!-- drawing style -->\n",
       "</g> <!-- transform -->\n",
       "<g transform=\"matrix(4.412266113703097, -4.601362052899919, 4.601362052899919, 4.412266113703097, 425.05248260498047, 116.65817260742188)\">\n",
       "<g fill=\"#cccccc\" fill-opacity=\"1\" fill-rule=\"nonzero\" stroke=\"none\">\n",
       "  <path d=\"M -2 -0.5 L 0 0 L -2 0.5 z\"/>\n",
       "</g> <!-- drawing style -->\n",
       "</g> <!-- transform -->\n",
       "<g transform=\"matrix(0.75, 0, 0, 0.75, 155, 144.14727020263672)\">\n",
       "<g fill=\"none\" stroke=\"#cccccc\" stroke-linecap=\"round\" stroke-linejoin=\"round\" stroke-opacity=\"1\" stroke-width=\"2.5\">\n",
       "  <path d=\"M 86.79335021972656 74.3593978881836 L 100.0661033021042 55.17991338083123\"/>\n",
       "</g> <!-- drawing style -->\n",
       "</g> <!-- transform -->\n",
       "<g transform=\"matrix(-1.0669778722762489, 1.5418116681595224, -1.5418116681595224, -1.0669778722762489, 220.09501266479492, 199.9168186187744)\">\n",
       "<g fill=\"#cccccc\" fill-opacity=\"1\" fill-rule=\"nonzero\" stroke=\"none\">\n",
       "  <path d=\"M -0.00000000000000009185 0.5 C 0.27614237491539656 0.5 0.49999999999999994 0.2761423749153968 0.5 0.00000000000000012246 C 0.5000000000000001 -0.27614237491539656 0.27614237491539684 -0.4999999999999999 0.00000000000000015308 -0.5 z\"/>\n",
       "</g> <!-- drawing style -->\n",
       "</g> <!-- transform -->\n",
       "<g transform=\"matrix(3.627724765739246, -5.2421596717423755, 5.2421596717423755, 3.627724765739246, 237.30502700805664, 175.0478858947754)\">\n",
       "<g fill=\"#cccccc\" fill-opacity=\"1\" fill-rule=\"nonzero\" stroke=\"none\">\n",
       "  <path d=\"M -2 -0.5 L 0 0 L -2 0.5 z\"/>\n",
       "</g> <!-- drawing style -->\n",
       "</g> <!-- transform -->\n",
       "<g transform=\"matrix(0.75, 0, 0, 0.75, 155, 144.14727020263672)\">\n",
       "<g fill=\"none\" stroke=\"#cccccc\" stroke-linecap=\"round\" stroke-linejoin=\"round\" stroke-opacity=\"1\" stroke-width=\"2.5\">\n",
       "  <path d=\"M -160.53477478027344 -125.14979553222656 L -109.24072389142734 -147.28629740605825\"/>\n",
       "</g> <!-- drawing style -->\n",
       "</g> <!-- transform -->\n",
       "<g transform=\"matrix(-1.7215281334179973, 0.7429440664345778, -0.7429440664345778, -1.7215281334179973, 34.59891891479492, 50.2849235534668)\">\n",
       "<g fill=\"#cccccc\" fill-opacity=\"1\" fill-rule=\"nonzero\" stroke=\"none\">\n",
       "  <path d=\"M -0.00000000000000009185 0.5 C 0.27614237491539656 0.5 0.49999999999999994 0.2761423749153968 0.5 0.00000000000000012246 C 0.5000000000000001 -0.27614237491539656 0.27614237491539684 -0.4999999999999999 0.00000000000000015308 -0.5 z\"/>\n",
       "</g> <!-- drawing style -->\n",
       "</g> <!-- transform -->\n",
       "<g transform=\"matrix(5.85319565362119, -2.5260098258775647, 2.5260098258775647, 5.85319565362119, 84.77584838867188, 28.63052749633789)\">\n",
       "<g fill=\"#cccccc\" fill-opacity=\"1\" fill-rule=\"nonzero\" stroke=\"none\">\n",
       "  <path d=\"M -2 -0.5 L 0 0 L -2 0.5 z\"/>\n",
       "</g> <!-- drawing style -->\n",
       "</g> <!-- transform -->\n",
       "<g transform=\"matrix(0.75, 0, 0, 0.75, 155, 144.14727020263672)\">\n",
       "<g fill=\"none\" stroke=\"#cccccc\" stroke-linecap=\"round\" stroke-linejoin=\"round\" stroke-opacity=\"1\" stroke-width=\"2.5\">\n",
       "  <path d=\"M 166.55911254882812 -23.610754013061523 L 339.3956069187497 -42.47383442223204\"/>\n",
       "</g> <!-- drawing style -->\n",
       "</g> <!-- transform -->\n",
       "<g transform=\"matrix(-1.8639320569422435, 0.20342636776744807, -0.20342636776744807, -1.8639320569422435, 279.9193344116211, 126.43920469284058)\">\n",
       "<g fill=\"#cccccc\" fill-opacity=\"1\" fill-rule=\"nonzero\" stroke=\"none\">\n",
       "  <path d=\"M -0.00000000000000009185 0.5 C 0.27614237491539656 0.5 0.49999999999999994 0.2761423749153968 0.5 0.00000000000000012246 C 0.5000000000000001 -0.27614237491539656 0.27614237491539684 -0.4999999999999999 0.00000000000000015308 -0.5 z\"/>\n",
       "</g> <!-- drawing style -->\n",
       "</g> <!-- transform -->\n",
       "<g transform=\"matrix(6.3373689936036275, -0.6916496504093235, 0.6916496504093235, 6.3373689936036275, 422.22144317626953, 110.90859508514404)\">\n",
       "<g fill=\"#cccccc\" fill-opacity=\"1\" fill-rule=\"nonzero\" stroke=\"none\">\n",
       "  <path d=\"M -2 -0.5 L 0 0 L -2 0.5 z\"/>\n",
       "</g> <!-- drawing style -->\n",
       "</g> <!-- transform -->\n",
       "<g transform=\"matrix(0.75, 0, 0, 0.75, 155, 144.14727020263672)\">\n",
       "<g fill=\"none\" stroke=\"#cccccc\" stroke-linecap=\"round\" stroke-linejoin=\"round\" stroke-opacity=\"1\" stroke-width=\"2.5\">\n",
       "  <path d=\"M 124.02873992919922 20.68674659729004 L 137.19869613974012 1.9008013832118849\"/>\n",
       "</g> <!-- drawing style -->\n",
       "</g> <!-- transform -->\n",
       "<g transform=\"matrix(-1.0763273516026524, 1.5352994601028231, -1.5352994601028231, -1.0763273516026524, 248.0215549468994, 159.66233015060425)\">\n",
       "<g fill=\"#cccccc\" fill-opacity=\"1\" fill-rule=\"nonzero\" stroke=\"none\">\n",
       "  <path d=\"M -0.00000000000000009185 0.5 C 0.27614237491539656 0.5 0.49999999999999994 0.2761423749153968 0.5 0.00000000000000012246 C 0.5000000000000001 -0.27614237491539656 0.27614237491539684 -0.4999999999999999 0.00000000000000015308 -0.5 z\"/>\n",
       "</g> <!-- drawing style -->\n",
       "</g> <!-- transform -->\n",
       "<g transform=\"matrix(3.659512995449018, -5.220018164349598, 5.220018164349598, 3.659512995449018, 265.2180480957031, 135.13283491134644)\">\n",
       "<g fill=\"#cccccc\" fill-opacity=\"1\" fill-rule=\"nonzero\" stroke=\"none\">\n",
       "  <path d=\"M -2 -0.5 L 0 0 L -2 0.5 z\"/>\n",
       "</g> <!-- drawing style -->\n",
       "</g> <!-- transform -->\n",
       "<g transform=\"matrix(0.75, 0, 0, 0.75, 155, 144.14727020263672)\">\n",
       "<g fill=\"none\" stroke=\"#cccccc\" stroke-linecap=\"round\" stroke-linejoin=\"round\" stroke-opacity=\"1\" stroke-width=\"2.5\">\n",
       "  <path d=\"M 462.099365234375 88.73896026611328 L 473.38366762812177 80.19626601553475\"/>\n",
       "</g> <!-- drawing style -->\n",
       "</g> <!-- transform -->\n",
       "<g transform=\"matrix(-1.494931543557914, 1.131726415736397, -1.131726415736397, -1.494931543557914, 501.57452392578125, 210.70149040222168)\">\n",
       "<g fill=\"#cccccc\" fill-opacity=\"1\" fill-rule=\"nonzero\" stroke=\"none\">\n",
       "  <path d=\"M -0.00000000000000009185 0.5 C 0.27614237491539656 0.5 0.49999999999999994 0.2761423749153968 0.5 0.00000000000000012246 C 0.5000000000000001 -0.27614237491539656 0.27614237491539684 -0.4999999999999999 0.00000000000000015308 -0.5 z\"/>\n",
       "</g> <!-- drawing style -->\n",
       "</g> <!-- transform -->\n",
       "<g transform=\"matrix(5.082767248096908, -3.84786981350375, 3.84786981350375, 5.082767248096908, 520.2032852172852, 196.59873008728027)\">\n",
       "<g fill=\"#cccccc\" fill-opacity=\"1\" fill-rule=\"nonzero\" stroke=\"none\">\n",
       "  <path d=\"M -2 -0.5 L 0 0 L -2 0.5 z\"/>\n",
       "</g> <!-- drawing style -->\n",
       "</g> <!-- transform -->\n",
       "<g transform=\"matrix(0.75, 0, 0, 0.75, 155, 144.14727020263672)\">\n",
       "<g fill=\"none\" stroke=\"#cccccc\" stroke-linecap=\"round\" stroke-linejoin=\"round\" stroke-opacity=\"1\" stroke-width=\"2.5\">\n",
       "  <path d=\"M 407.1558532714844 123.03172302246094 L 426.77798993120837 111.36247316386658\"/>\n",
       "</g> <!-- drawing style -->\n",
       "</g> <!-- transform -->\n",
       "<g transform=\"matrix(-1.611556420946112, 0.9583897443667466, -0.9583897443667466, -1.611556420946112, 460.3668899536133, 236.42106246948242)\">\n",
       "<g fill=\"#cccccc\" fill-opacity=\"1\" fill-rule=\"nonzero\" stroke=\"none\">\n",
       "  <path d=\"M -0.00000000000000009185 0.5 C 0.27614237491539656 0.5 0.49999999999999994 0.2761423749153968 0.5 0.00000000000000012246 C 0.5000000000000001 -0.27614237491539656 0.27614237491539684 -0.4999999999999999 0.00000000000000015308 -0.5 z\"/>\n",
       "</g> <!-- drawing style -->\n",
       "</g> <!-- transform -->\n",
       "<g transform=\"matrix(5.479291831216781, -3.2585251308469383, 3.2585251308469383, 5.479291831216781, 486.04207611083984, 221.15207481384277)\">\n",
       "<g fill=\"#cccccc\" fill-opacity=\"1\" fill-rule=\"nonzero\" stroke=\"none\">\n",
       "  <path d=\"M -2 -0.5 L 0 0 L -2 0.5 z\"/>\n",
       "</g> <!-- drawing style -->\n",
       "</g> <!-- transform -->\n",
       "<g transform=\"matrix(0.75, 0, 0, 0.75, 155, 144.14727020263672)\">\n",
       "<g fill=\"none\" stroke=\"#00ff2b\" stroke-linecap=\"round\" stroke-linejoin=\"round\" stroke-opacity=\"1\" stroke-width=\"4\">\n",
       "  <path d=\"M -65.14295959472656 636.4664306640625 C -65.14295959472656 642.2654205372859 -69.84396972150324 646.9664306640625 -75.64295959472656 646.9664306640625 C -81.4419494679499 646.9664306640625 -86.14295959472656 642.2654205372859 -86.14295959472656 636.4664306640625 C -86.14295959472656 630.6674407908391 -81.4419494679499 625.9664306640625 -75.64295959472656 625.9664306640625 C -69.84396972150324 625.9664306640625 -65.14295959472656 630.6674407908391 -65.14295959472656 636.4664306640625 z\"/>\n",
       "</g> <!-- drawing style -->\n",
       "</g> <!-- transform -->\n",
       "<g transform=\"matrix(0.75, 0, 0, 0.75, 155, 144.14727020263672)\">\n",
       "<g fill=\"#4a604e\" fill-opacity=\"1\" fill-rule=\"nonzero\" stroke=\"none\">\n",
       "  <path d=\"M -65.14295959472656 636.4664306640625 C -65.14295959472656 642.2654205372859 -69.84396972150324 646.9664306640625 -75.64295959472656 646.9664306640625 C -81.4419494679499 646.9664306640625 -86.14295959472656 642.2654205372859 -86.14295959472656 636.4664306640625 C -86.14295959472656 630.6674407908391 -81.4419494679499 625.9664306640625 -75.64295959472656 625.9664306640625 C -69.84396972150324 625.9664306640625 -65.14295959472656 630.6674407908391 -65.14295959472656 636.4664306640625 z\"/>\n",
       "</g> <!-- drawing style -->\n",
       "</g> <!-- transform -->\n",
       "<g transform=\"matrix(0.75, 0, 0, 0.75, 107.64278030395508, 639.1572494506836)\">\n",
       "<text fill=\"#cccccc\" fill-opacity=\"1\" font-family=\"Helvetica\" font-size=\"16\" font-style=\"normal\" font-weight=\"normal\" stroke=\"none\" x=\"0\" y=\"0\">topology.edgelist/dirs-&gt;fn-edges </text>\n",
       "</g> <!-- transform -->\n",
       "<g transform=\"matrix(0.75, 0, 0, 0.75, 155, 144.14727020263672)\">\n",
       "<g fill=\"none\" stroke=\"#ffff00\" stroke-linecap=\"round\" stroke-linejoin=\"round\" stroke-opacity=\"1\" stroke-width=\"4\">\n",
       "  <path d=\"M 25.050487518310547 592.6419067382812 C 25.050487518310547 598.4408966115046 20.349477391533874 603.1419067382812 14.550487518310547 603.1419067382812 C 8.751497645087216 603.1419067382812 4.050487518310547 598.4408966115046 4.050487518310547 592.6419067382812 C 4.050487518310547 586.8429168650579 8.751497645087216 582.1419067382812 14.550487518310547 582.1419067382812 C 20.349477391533874 582.1419067382812 25.050487518310547 586.8429168650579 25.050487518310547 592.6419067382812 z\"/>\n",
       "</g> <!-- drawing style -->\n",
       "</g> <!-- transform -->\n",
       "<g transform=\"matrix(0.75, 0, 0, 0.75, 155, 144.14727020263672)\">\n",
       "<g fill=\"#737360\" fill-opacity=\"1\" fill-rule=\"nonzero\" stroke=\"none\">\n",
       "  <path d=\"M 25.050487518310547 592.6419067382812 C 25.050487518310547 598.4408966115046 20.349477391533874 603.1419067382812 14.550487518310547 603.1419067382812 C 8.751497645087216 603.1419067382812 4.050487518310547 598.4408966115046 4.050487518310547 592.6419067382812 C 4.050487518310547 586.8429168650579 8.751497645087216 582.1419067382812 14.550487518310547 582.1419067382812 C 20.349477391533874 582.1419067382812 25.050487518310547 586.8429168650579 25.050487518310547 592.6419067382812 z\"/>\n",
       "</g> <!-- drawing style -->\n",
       "</g> <!-- transform -->\n",
       "<g transform=\"matrix(0.75, 0, 0, 0.75, 175.28786849975586, 606.2888565063477)\">\n",
       "<text fill=\"#cccccc\" fill-opacity=\"1\" font-family=\"Helvetica\" font-size=\"16\" font-style=\"normal\" font-weight=\"normal\" stroke=\"none\" x=\"0\" y=\"0\">topology.finder/source-paths-&gt;namespaces </text>\n",
       "</g> <!-- transform -->\n",
       "<g transform=\"matrix(0.75, 0, 0, 0.75, 155, 144.14727020263672)\">\n",
       "<g fill=\"none\" stroke=\"#ffff00\" stroke-linecap=\"round\" stroke-linejoin=\"round\" stroke-opacity=\"1\" stroke-width=\"4\">\n",
       "  <path d=\"M 249.68075561523438 484.7935485839844 C 249.68075561523438 490.5925384572077 244.9797454884577 495.2935485839844 239.18075561523438 495.2935485839844 C 233.38176574201105 495.2935485839844 228.68075561523438 490.5925384572077 228.68075561523438 484.7935485839844 C 228.68075561523438 478.99455871076105 233.38176574201105 474.2935485839844 239.18075561523438 474.2935485839844 C 244.9797454884577 474.2935485839844 249.68075561523438 478.99455871076105 249.68075561523438 484.7935485839844 z\"/>\n",
       "</g> <!-- drawing style -->\n",
       "</g> <!-- transform -->\n",
       "<g transform=\"matrix(0.75, 0, 0, 0.75, 155, 144.14727020263672)\">\n",
       "<g fill=\"#737360\" fill-opacity=\"1\" fill-rule=\"nonzero\" stroke=\"none\">\n",
       "  <path d=\"M 249.68075561523438 484.7935485839844 C 249.68075561523438 490.5925384572077 244.9797454884577 495.2935485839844 239.18075561523438 495.2935485839844 C 233.38176574201105 495.2935485839844 228.68075561523438 490.5925384572077 228.68075561523438 484.7935485839844 C 228.68075561523438 478.99455871076105 233.38176574201105 474.2935485839844 239.18075561523438 474.2935485839844 C 244.9797454884577 474.2935485839844 249.68075561523438 478.99455871076105 249.68075561523438 484.7935485839844 z\"/>\n",
       "</g> <!-- drawing style -->\n",
       "</g> <!-- transform -->\n",
       "<g transform=\"matrix(0.75, 0, 0, 0.75, 343.7605667114258, 525.402587890625)\">\n",
       "<text fill=\"#cccccc\" fill-opacity=\"1\" font-family=\"Helvetica\" font-size=\"16\" font-style=\"normal\" font-weight=\"normal\" stroke=\"none\" x=\"0\" y=\"0\">topology.finder/clojurescript-file? </text>\n",
       "</g> <!-- transform -->\n",
       "<g transform=\"matrix(0.75, 0, 0, 0.75, 155, 144.14727020263672)\">\n",
       "<g fill=\"none\" stroke=\"#00ff2b\" stroke-linecap=\"round\" stroke-linejoin=\"round\" stroke-opacity=\"1\" stroke-width=\"4\">\n",
       "  <path d=\"M 658.6826171875 715.7393798828125 C 658.6826171875 721.5383697560359 653.9816070607234 726.2393798828125 648.1826171875 726.2393798828125 C 642.3836273142766 726.2393798828125 637.6826171875 721.5383697560359 637.6826171875 715.7393798828125 C 637.6826171875 709.9403900095891 642.3836273142766 705.2393798828125 648.1826171875 705.2393798828125 C 653.9816070607234 705.2393798828125 658.6826171875 709.9403900095891 658.6826171875 715.7393798828125 z\"/>\n",
       "</g> <!-- drawing style -->\n",
       "</g> <!-- transform -->\n",
       "<g transform=\"matrix(0.75, 0, 0, 0.75, 155, 144.14727020263672)\">\n",
       "<g fill=\"#4a604e\" fill-opacity=\"1\" fill-rule=\"nonzero\" stroke=\"none\">\n",
       "  <path d=\"M 658.6826171875 715.7393798828125 C 658.6826171875 721.5383697560359 653.9816070607234 726.2393798828125 648.1826171875 726.2393798828125 C 642.3836273142766 726.2393798828125 637.6826171875 721.5383697560359 637.6826171875 715.7393798828125 C 637.6826171875 709.9403900095891 642.3836273142766 705.2393798828125 648.1826171875 705.2393798828125 C 653.9816070607234 705.2393798828125 658.6826171875 709.9403900095891 658.6826171875 715.7393798828125 z\"/>\n",
       "</g> <!-- drawing style -->\n",
       "</g> <!-- transform -->\n",
       "<g transform=\"matrix(0.75, 0, 0, 0.75, 650.511962890625, 698.6119613647461)\">\n",
       "<text fill=\"#cccccc\" fill-opacity=\"1\" font-family=\"Helvetica\" font-size=\"16\" font-style=\"normal\" font-weight=\"normal\" stroke=\"none\" x=\"0\" y=\"0\">topology.edgelist-test/should-report-java-interop </text>\n",
       "</g> <!-- transform -->\n",
       "<g transform=\"matrix(0.75, 0, 0, 0.75, 155, 144.14727020263672)\">\n",
       "<g fill=\"none\" stroke=\"#00ff2b\" stroke-linecap=\"round\" stroke-linejoin=\"round\" stroke-opacity=\"1\" stroke-width=\"4\">\n",
       "  <path d=\"M 657.2295532226562 767.9158935546875 C 657.2295532226562 773.7148834279109 652.5285430958796 778.4158935546875 646.7295532226562 778.4158935546875 C 640.9305633494329 778.4158935546875 636.2295532226562 773.7148834279109 636.2295532226562 767.9158935546875 C 636.2295532226562 762.1169036814641 640.9305633494329 757.4158935546875 646.7295532226562 757.4158935546875 C 652.5285430958796 757.4158935546875 657.2295532226562 762.1169036814641 657.2295532226562 767.9158935546875 z\"/>\n",
       "</g> <!-- drawing style -->\n",
       "</g> <!-- transform -->\n",
       "<g transform=\"matrix(0.75, 0, 0, 0.75, 155, 144.14727020263672)\">\n",
       "<g fill=\"#4a604e\" fill-opacity=\"1\" fill-rule=\"nonzero\" stroke=\"none\">\n",
       "  <path d=\"M 657.2295532226562 767.9158935546875 C 657.2295532226562 773.7148834279109 652.5285430958796 778.4158935546875 646.7295532226562 778.4158935546875 C 640.9305633494329 778.4158935546875 636.2295532226562 773.7148834279109 636.2295532226562 767.9158935546875 C 636.2295532226562 762.1169036814641 640.9305633494329 757.4158935546875 646.7295532226562 757.4158935546875 C 652.5285430958796 757.4158935546875 657.2295532226562 762.1169036814641 657.2295532226562 767.9158935546875 z\"/>\n",
       "</g> <!-- drawing style -->\n",
       "</g> <!-- transform -->\n",
       "<g transform=\"matrix(0.75, 0, 0, 0.75, 649.4221649169922, 737.7443466186523)\">\n",
       "<text fill=\"#cccccc\" fill-opacity=\"1\" font-family=\"Helvetica\" font-size=\"16\" font-style=\"normal\" font-weight=\"normal\" stroke=\"none\" x=\"0\" y=\"0\">topology.edgelist-test/should-produce-weighted-edges-for-multiple-calls </text>\n",
       "</g> <!-- transform -->\n",
       "<g transform=\"matrix(0.75, 0, 0, 0.75, 155, 144.14727020263672)\">\n",
       "<g fill=\"none\" stroke=\"#ffff00\" stroke-linecap=\"round\" stroke-linejoin=\"round\" stroke-opacity=\"1\" stroke-width=\"4\">\n",
       "  <path d=\"M 175.72544860839844 520.7430419921875 C 175.72544860839844 526.5420318654109 171.02443848162176 531.2430419921875 165.22544860839844 531.2430419921875 C 159.42645873517512 531.2430419921875 154.72544860839844 526.5420318654109 154.72544860839844 520.7430419921875 C 154.72544860839844 514.9440521189641 159.42645873517512 510.2430419921875 165.22544860839844 510.2430419921875 C 171.02443848162176 510.2430419921875 175.72544860839844 514.9440521189641 175.72544860839844 520.7430419921875 z\"/>\n",
       "</g> <!-- drawing style -->\n",
       "</g> <!-- transform -->\n",
       "<g transform=\"matrix(0.75, 0, 0, 0.75, 155, 144.14727020263672)\">\n",
       "<g fill=\"#737360\" fill-opacity=\"1\" fill-rule=\"nonzero\" stroke=\"none\">\n",
       "  <path d=\"M 175.72544860839844 520.7430419921875 C 175.72544860839844 526.5420318654109 171.02443848162176 531.2430419921875 165.22544860839844 531.2430419921875 C 159.42645873517512 531.2430419921875 154.72544860839844 526.5420318654109 154.72544860839844 520.7430419921875 C 154.72544860839844 514.9440521189641 159.42645873517512 510.2430419921875 165.22544860839844 510.2430419921875 C 171.02443848162176 510.2430419921875 175.72544860839844 514.9440521189641 175.72544860839844 520.7430419921875 z\"/>\n",
       "</g> <!-- drawing style -->\n",
       "</g> <!-- transform -->\n",
       "<g transform=\"matrix(0.75, 0, 0, 0.75, 288.2940979003906, 552.3647079467773)\">\n",
       "<text fill=\"#cccccc\" fill-opacity=\"1\" font-family=\"Helvetica\" font-size=\"16\" font-style=\"normal\" font-weight=\"normal\" stroke=\"none\" x=\"0\" y=\"0\">topology.finder/find-sources-in-dir </text>\n",
       "</g> <!-- transform -->\n",
       "<g transform=\"matrix(0.75, 0, 0, 0.75, 155, 144.14727020263672)\">\n",
       "<g fill=\"none\" stroke=\"#ffffff\" stroke-linecap=\"round\" stroke-linejoin=\"round\" stroke-opacity=\"1\" stroke-width=\"4\">\n",
       "  <path d=\"M -157.31338500976562 689.9852294921875 C -157.31338500976562 695.7842193654109 -162.0143951365423 700.4852294921875 -167.81338500976562 700.4852294921875 C -173.61237488298895 700.4852294921875 -178.31338500976562 695.7842193654109 -178.31338500976562 689.9852294921875 C -178.31338500976562 684.1862396189641 -173.61237488298895 679.4852294921875 -167.81338500976562 679.4852294921875 C -162.0143951365423 679.4852294921875 -157.31338500976562 684.1862396189641 -157.31338500976562 689.9852294921875 z\"/>\n",
       "</g> <!-- drawing style -->\n",
       "</g> <!-- transform -->\n",
       "<g transform=\"matrix(0.75, 0, 0, 0.75, 155, 144.14727020263672)\">\n",
       "<g fill=\"#8d8d8d\" fill-opacity=\"1\" fill-rule=\"nonzero\" stroke=\"none\">\n",
       "  <path d=\"M -157.31338500976562 689.9852294921875 C -157.31338500976562 695.7842193654109 -162.0143951365423 700.4852294921875 -167.81338500976562 700.4852294921875 C -173.61237488298895 700.4852294921875 -178.31338500976562 695.7842193654109 -178.31338500976562 689.9852294921875 C -178.31338500976562 684.1862396189641 -173.61237488298895 679.4852294921875 -167.81338500976562 679.4852294921875 C -162.0143951365423 679.4852294921875 -157.31338500976562 684.1862396189641 -157.31338500976562 689.9852294921875 z\"/>\n",
       "</g> <!-- drawing style -->\n",
       "</g> <!-- transform -->\n",
       "<g transform=\"matrix(0.75, 0, 0, 0.75, 38.51496124267578, 679.2963485717773)\">\n",
       "<text fill=\"#cccccc\" fill-opacity=\"1\" font-family=\"Helvetica\" font-size=\"16\" font-style=\"normal\" font-weight=\"normal\" stroke=\"none\" x=\"0\" y=\"0\">leiningen.topology/topology </text>\n",
       "</g> <!-- transform -->\n",
       "<g transform=\"matrix(0.75, 0, 0, 0.75, 155, 144.14727020263672)\">\n",
       "<g fill=\"none\" stroke=\"#00ff2b\" stroke-linecap=\"round\" stroke-linejoin=\"round\" stroke-opacity=\"1\" stroke-width=\"4\">\n",
       "  <path d=\"M 656.7102661132812 672.6366577148438 C 656.7102661132812 678.4356475880671 652.0092559865046 683.1366577148438 646.2102661132812 683.1366577148438 C 640.4112762400579 683.1366577148438 635.7102661132812 678.4356475880671 635.7102661132812 672.6366577148438 C 635.7102661132812 666.8376678416204 640.4112762400579 662.1366577148438 646.2102661132812 662.1366577148438 C 652.0092559865046 662.1366577148438 656.7102661132812 666.8376678416204 656.7102661132812 672.6366577148438 z\"/>\n",
       "</g> <!-- drawing style -->\n",
       "</g> <!-- transform -->\n",
       "<g transform=\"matrix(0.75, 0, 0, 0.75, 155, 144.14727020263672)\">\n",
       "<g fill=\"#4a604e\" fill-opacity=\"1\" fill-rule=\"nonzero\" stroke=\"none\">\n",
       "  <path d=\"M 656.7102661132812 672.6366577148438 C 656.7102661132812 678.4356475880671 652.0092559865046 683.1366577148438 646.2102661132812 683.1366577148438 C 640.4112762400579 683.1366577148438 635.7102661132812 678.4356475880671 635.7102661132812 672.6366577148438 C 635.7102661132812 666.8376678416204 640.4112762400579 662.1366577148438 646.2102661132812 662.1366577148438 C 652.0092559865046 662.1366577148438 656.7102661132812 666.8376678416204 656.7102661132812 672.6366577148438 z\"/>\n",
       "</g> <!-- drawing style -->\n",
       "</g> <!-- transform -->\n",
       "<g transform=\"matrix(0.75, 0, 0, 0.75, 649.0326995849609, 666.2849197387695)\">\n",
       "<text fill=\"#cccccc\" fill-opacity=\"1\" font-family=\"Helvetica\" font-size=\"16\" font-style=\"normal\" font-weight=\"normal\" stroke=\"none\" x=\"0\" y=\"0\">topology.edgelist-test/syntax-quotes-add-seq-concat-list </text>\n",
       "</g> <!-- transform -->\n",
       "<g transform=\"matrix(0.75, 0, 0, 0.75, 155, 144.14727020263672)\">\n",
       "<g fill=\"none\" stroke=\"#ffff00\" stroke-linecap=\"round\" stroke-linejoin=\"round\" stroke-opacity=\"1\" stroke-width=\"4\">\n",
       "  <path d=\"M 91.70980072021484 556.6924438476562 C 91.70980072021484 562.4914337208796 87.00879059343816 567.1924438476562 81.20980072021484 567.1924438476562 C 75.41081084699151 567.1924438476562 70.70980072021484 562.4914337208796 70.70980072021484 556.6924438476562 C 70.70980072021484 550.8934539744329 75.41081084699151 546.1924438476562 81.20980072021484 546.1924438476562 C 87.00879059343816 546.1924438476562 91.70980072021484 550.8934539744329 91.70980072021484 556.6924438476562 z\"/>\n",
       "</g> <!-- drawing style -->\n",
       "</g> <!-- transform -->\n",
       "<g transform=\"matrix(0.75, 0, 0, 0.75, 155, 144.14727020263672)\">\n",
       "<g fill=\"#737360\" fill-opacity=\"1\" fill-rule=\"nonzero\" stroke=\"none\">\n",
       "  <path d=\"M 91.70980072021484 556.6924438476562 C 91.70980072021484 562.4914337208796 87.00879059343816 567.1924438476562 81.20980072021484 567.1924438476562 C 75.41081084699151 567.1924438476562 70.70980072021484 562.4914337208796 70.70980072021484 556.6924438476562 C 70.70980072021484 550.8934539744329 75.41081084699151 546.1924438476562 81.20980072021484 546.1924438476562 C 87.00879059343816 546.1924438476562 91.70980072021484 550.8934539744329 91.70980072021484 556.6924438476562 z\"/>\n",
       "</g> <!-- drawing style -->\n",
       "</g> <!-- transform -->\n",
       "<g transform=\"matrix(0.75, 0, 0, 0.75, 225.28235626220703, 579.3267593383789)\">\n",
       "<text fill=\"#cccccc\" fill-opacity=\"1\" font-family=\"Helvetica\" font-size=\"16\" font-style=\"normal\" font-weight=\"normal\" stroke=\"none\" x=\"0\" y=\"0\">topology.finder/dirs-&gt;sources </text>\n",
       "</g> <!-- transform -->\n",
       "<g transform=\"matrix(0.75, 0, 0, 0.75, 155, 144.14727020263672)\">\n",
       "<g fill=\"none\" stroke=\"#00ff2b\" stroke-linecap=\"round\" stroke-linejoin=\"round\" stroke-opacity=\"1\" stroke-width=\"4\">\n",
       "  <path d=\"M 560.8593139648438 636.4664306640625 C 560.8593139648438 642.2654205372859 556.1583038380671 646.9664306640625 550.3593139648438 646.9664306640625 C 544.5603240916204 646.9664306640625 539.8593139648438 642.2654205372859 539.8593139648438 636.4664306640625 C 539.8593139648438 630.6674407908391 544.5603240916204 625.9664306640625 550.3593139648438 625.9664306640625 C 556.1583038380671 625.9664306640625 560.8593139648438 630.6674407908391 560.8593139648438 636.4664306640625 z\"/>\n",
       "</g> <!-- drawing style -->\n",
       "</g> <!-- transform -->\n",
       "<g transform=\"matrix(0.75, 0, 0, 0.75, 155, 144.14727020263672)\">\n",
       "<g fill=\"#4a604e\" fill-opacity=\"1\" fill-rule=\"nonzero\" stroke=\"none\">\n",
       "  <path d=\"M 560.8593139648438 636.4664306640625 C 560.8593139648438 642.2654205372859 556.1583038380671 646.9664306640625 550.3593139648438 646.9664306640625 C 544.5603240916204 646.9664306640625 539.8593139648438 642.2654205372859 539.8593139648438 636.4664306640625 C 539.8593139648438 630.6674407908391 544.5603240916204 625.9664306640625 550.3593139648438 625.9664306640625 C 556.1583038380671 625.9664306640625 560.8593139648438 630.6674407908391 560.8593139648438 636.4664306640625 z\"/>\n",
       "</g> <!-- drawing style -->\n",
       "</g> <!-- transform -->\n",
       "<g transform=\"matrix(0.75, 0, 0, 0.75, 577.1444854736328, 639.1572494506836)\">\n",
       "<text fill=\"#cccccc\" fill-opacity=\"1\" font-family=\"Helvetica\" font-size=\"16\" font-style=\"normal\" font-weight=\"normal\" stroke=\"none\" x=\"0\" y=\"0\">topology.edgelist-test/edges </text>\n",
       "</g> <!-- transform -->\n",
       "<g transform=\"matrix(0.75, 0, 0, 0.75, 155, 144.14727020263672)\">\n",
       "<g fill=\"none\" stroke=\"#00ff2b\" stroke-linecap=\"round\" stroke-linejoin=\"round\" stroke-opacity=\"1\" stroke-width=\"4\">\n",
       "  <path d=\"M -65.14295959472656 435.0563049316406 C -65.14295959472656 440.85529480486395 -69.84396972150324 445.5563049316406 -75.64295959472656 445.5563049316406 C -81.4419494679499 445.5563049316406 -86.14295959472656 440.85529480486395 -86.14295959472656 435.0563049316406 C -86.14295959472656 429.2573150584173 -81.4419494679499 424.5563049316406 -75.64295959472656 424.5563049316406 C -69.84396972150324 424.5563049316406 -65.14295959472656 429.2573150584173 -65.14295959472656 435.0563049316406 z\"/>\n",
       "</g> <!-- drawing style -->\n",
       "</g> <!-- transform -->\n",
       "<g transform=\"matrix(0.75, 0, 0, 0.75, 155, 144.14727020263672)\">\n",
       "<g fill=\"#4a604e\" fill-opacity=\"1\" fill-rule=\"nonzero\" stroke=\"none\">\n",
       "  <path d=\"M -65.14295959472656 435.0563049316406 C -65.14295959472656 440.85529480486395 -69.84396972150324 445.5563049316406 -75.64295959472656 445.5563049316406 C -81.4419494679499 445.5563049316406 -86.14295959472656 440.85529480486395 -86.14295959472656 435.0563049316406 C -86.14295959472656 429.2573150584173 -81.4419494679499 424.5563049316406 -75.64295959472656 424.5563049316406 C -69.84396972150324 424.5563049316406 -65.14295959472656 429.2573150584173 -65.14295959472656 435.0563049316406 z\"/>\n",
       "</g> <!-- drawing style -->\n",
       "</g> <!-- transform -->\n",
       "<g transform=\"matrix(0.75, 0, 0, 0.75, 107.64278030395508, 488.0996551513672)\">\n",
       "<text fill=\"#cccccc\" fill-opacity=\"1\" font-family=\"Helvetica\" font-size=\"16\" font-style=\"normal\" font-weight=\"normal\" stroke=\"none\" x=\"0\" y=\"0\">topology.edgelist/ns-&gt;edgelist </text>\n",
       "</g> <!-- transform -->\n",
       "<g transform=\"matrix(0.75, 0, 0, 0.75, 155, 144.14727020263672)\">\n",
       "<g fill=\"none\" stroke=\"#ff9800\" stroke-linecap=\"round\" stroke-linejoin=\"round\" stroke-opacity=\"1\" stroke-width=\"4\">\n",
       "  <path d=\"M 91.70980072021484 146.716796875 C 91.70980072021484 152.51578674822332 87.00879059343816 157.216796875 81.20980072021484 157.216796875 C 75.41081084699151 157.216796875 70.70980072021484 152.51578674822332 70.70980072021484 146.716796875 C 70.70980072021484 140.91780700177668 75.41081084699151 136.216796875 81.20980072021484 136.216796875 C 87.00879059343816 136.216796875 91.70980072021484 140.91780700177668 91.70980072021484 146.716796875 z\"/>\n",
       "</g> <!-- drawing style -->\n",
       "</g> <!-- transform -->\n",
       "<g transform=\"matrix(0.75, 0, 0, 0.75, 155, 144.14727020263672)\">\n",
       "<g fill=\"#685c49\" fill-opacity=\"1\" fill-rule=\"nonzero\" stroke=\"none\">\n",
       "  <path d=\"M 91.70980072021484 146.716796875 C 91.70980072021484 152.51578674822332 87.00879059343816 157.216796875 81.20980072021484 157.216796875 C 75.41081084699151 157.216796875 70.70980072021484 152.51578674822332 70.70980072021484 146.716796875 C 70.70980072021484 140.91780700177668 75.41081084699151 136.216796875 81.20980072021484 136.216796875 C 87.00879059343816 136.216796875 91.70980072021484 140.91780700177668 91.70980072021484 146.716796875 z\"/>\n",
       "</g> <!-- drawing style -->\n",
       "</g> <!-- transform -->\n",
       "<g transform=\"matrix(0.75, 0, 0, 0.75, 225.28235626220703, 271.8450241088867)\">\n",
       "<text fill=\"#cccccc\" fill-opacity=\"1\" font-family=\"Helvetica\" font-size=\"16\" font-style=\"normal\" font-weight=\"normal\" stroke=\"none\" x=\"0\" y=\"0\">topology.dependencies/dependencies </text>\n",
       "</g> <!-- transform -->\n",
       "<g transform=\"matrix(0.75, 0, 0, 0.75, 155, 144.14727020263672)\">\n",
       "<g fill=\"none\" stroke=\"#ff9800\" stroke-linecap=\"round\" stroke-linejoin=\"round\" stroke-opacity=\"1\" stroke-width=\"4\">\n",
       "  <path d=\"M -5.581695556640625 323.0506896972656 C -5.581695556640625 328.84967957048895 -10.282705683417298 333.5506896972656 -16.081695556640625 333.5506896972656 C -21.880685429863956 333.5506896972656 -26.581695556640625 328.84967957048895 -26.581695556640625 323.0506896972656 C -26.581695556640625 317.2516998240423 -21.880685429863956 312.5506896972656 -16.081695556640625 312.5506896972656 C -10.282705683417298 312.5506896972656 -5.581695556640625 317.2516998240423 -5.581695556640625 323.0506896972656 z\"/>\n",
       "</g> <!-- drawing style -->\n",
       "</g> <!-- transform -->\n",
       "<g transform=\"matrix(0.75, 0, 0, 0.75, 155, 144.14727020263672)\">\n",
       "<g fill=\"#685c49\" fill-opacity=\"1\" fill-rule=\"nonzero\" stroke=\"none\">\n",
       "  <path d=\"M -5.581695556640625 323.0506896972656 C -5.581695556640625 328.84967957048895 -10.282705683417298 333.5506896972656 -16.081695556640625 333.5506896972656 C -21.880685429863956 333.5506896972656 -26.581695556640625 328.84967957048895 -26.581695556640625 323.0506896972656 C -26.581695556640625 317.2516998240423 -21.880685429863956 312.5506896972656 -16.081695556640625 312.5506896972656 C -10.282705683417298 312.5506896972656 -5.581695556640625 317.2516998240423 -5.581695556640625 323.0506896972656 z\"/>\n",
       "</g> <!-- drawing style -->\n",
       "</g> <!-- transform -->\n",
       "<g transform=\"matrix(0.75, 0, 0, 0.75, 152.31372833251953, 404.09544372558594)\">\n",
       "<text fill=\"#cccccc\" fill-opacity=\"1\" font-family=\"Helvetica\" font-size=\"16\" font-style=\"normal\" font-weight=\"normal\" stroke=\"none\" x=\"0\" y=\"0\">topology.dependencies/ns-&gt;fn-dep-map </text>\n",
       "</g> <!-- transform -->\n",
       "<g transform=\"matrix(0.75, 0, 0, 0.75, 155, 144.14727020263672)\">\n",
       "<g fill=\"none\" stroke=\"#00ff2b\" stroke-linecap=\"round\" stroke-linejoin=\"round\" stroke-opacity=\"1\" stroke-width=\"4\">\n",
       "  <path d=\"M -65.14295959472656 -70.3378677368164 C -65.14295959472656 -64.53887786359309 -69.84396972150324 -59.837867736816406 -75.64295959472656 -59.837867736816406 C -81.4419494679499 -59.837867736816406 -86.14295959472656 -64.53887786359309 -86.14295959472656 -70.3378677368164 C -86.14295959472656 -76.13685761003974 -81.4419494679499 -80.8378677368164 -75.64295959472656 -80.8378677368164 C -69.84396972150324 -80.8378677368164 -65.14295959472656 -76.13685761003974 -65.14295959472656 -70.3378677368164 z\"/>\n",
       "</g> <!-- drawing style -->\n",
       "</g> <!-- transform -->\n",
       "<g transform=\"matrix(0.75, 0, 0, 0.75, 155, 144.14727020263672)\">\n",
       "<g fill=\"#4a604e\" fill-opacity=\"1\" fill-rule=\"nonzero\" stroke=\"none\">\n",
       "  <path d=\"M -65.14295959472656 -70.3378677368164 C -65.14295959472656 -64.53887786359309 -69.84396972150324 -59.837867736816406 -75.64295959472656 -59.837867736816406 C -81.4419494679499 -59.837867736816406 -86.14295959472656 -64.53887786359309 -86.14295959472656 -70.3378677368164 C -86.14295959472656 -76.13685761003974 -81.4419494679499 -80.8378677368164 -75.64295959472656 -80.8378677368164 C -69.84396972150324 -80.8378677368164 -65.14295959472656 -76.13685761003974 -65.14295959472656 -70.3378677368164 z\"/>\n",
       "</g> <!-- drawing style -->\n",
       "</g> <!-- transform -->\n",
       "<g transform=\"matrix(0.75, 0, 0, 0.75, 107.64278030395508, 109.05402565002441)\">\n",
       "<text fill=\"#cccccc\" fill-opacity=\"1\" font-family=\"Helvetica\" font-size=\"16\" font-style=\"normal\" font-weight=\"normal\" stroke=\"none\" x=\"0\" y=\"0\">topology.edgelist/interleave-keys </text>\n",
       "</g> <!-- transform -->\n",
       "<g transform=\"matrix(0.75, 0, 0, 0.75, 155, 144.14727020263672)\">\n",
       "<g fill=\"none\" stroke=\"#ff9800\" stroke-linecap=\"round\" stroke-linejoin=\"round\" stroke-opacity=\"1\" stroke-width=\"4\">\n",
       "  <path d=\"M 91.70980072021484 254.15911865234375 C 91.70980072021484 259.95810852556707 87.00879059343816 264.65911865234375 81.20980072021484 264.65911865234375 C 75.41081084699151 264.65911865234375 70.70980072021484 259.95810852556707 70.70980072021484 254.15911865234375 C 70.70980072021484 248.36012877912043 75.41081084699151 243.65911865234375 81.20980072021484 243.65911865234375 C 87.00879059343816 243.65911865234375 91.70980072021484 248.36012877912043 91.70980072021484 254.15911865234375 z\"/>\n",
       "</g> <!-- drawing style -->\n",
       "</g> <!-- transform -->\n",
       "<g transform=\"matrix(0.75, 0, 0, 0.75, 155, 144.14727020263672)\">\n",
       "<g fill=\"#685c49\" fill-opacity=\"1\" fill-rule=\"nonzero\" stroke=\"none\">\n",
       "  <path d=\"M 91.70980072021484 254.15911865234375 C 91.70980072021484 259.95810852556707 87.00879059343816 264.65911865234375 81.20980072021484 264.65911865234375 C 75.41081084699151 264.65911865234375 70.70980072021484 259.95810852556707 70.70980072021484 254.15911865234375 C 70.70980072021484 248.36012877912043 75.41081084699151 243.65911865234375 81.20980072021484 243.65911865234375 C 87.00879059343816 243.65911865234375 91.70980072021484 248.36012877912043 91.70980072021484 254.15911865234375 z\"/>\n",
       "</g> <!-- drawing style -->\n",
       "</g> <!-- transform -->\n",
       "<g transform=\"matrix(0.75, 0, 0, 0.75, 225.28235626220703, 352.42676544189453)\">\n",
       "<text fill=\"#cccccc\" fill-opacity=\"1\" font-family=\"Helvetica\" font-size=\"16\" font-style=\"normal\" font-weight=\"normal\" stroke=\"none\" x=\"0\" y=\"0\">topology.dependencies/interns </text>\n",
       "</g> <!-- transform -->\n",
       "<g transform=\"matrix(0.75, 0, 0, 0.75, 155, 144.14727020263672)\">\n",
       "<g fill=\"none\" stroke=\"#c256fc\" stroke-linecap=\"round\" stroke-linejoin=\"round\" stroke-opacity=\"1\" stroke-width=\"4\">\n",
       "  <path d=\"M 90.18016052246094 84.63813781738281 C 90.18016052246094 90.43712769060613 85.47915039568426 95.13813781738281 79.68016052246094 95.13813781738281 C 73.8811706492376 95.13813781738281 69.18016052246094 90.43712769060613 69.18016052246094 84.63813781738281 C 69.18016052246094 78.83914794415948 73.8811706492376 74.13813781738281 79.68016052246094 74.13813781738281 C 85.47915039568426 74.13813781738281 90.18016052246094 78.83914794415948 90.18016052246094 84.63813781738281 z\"/>\n",
       "</g> <!-- drawing style -->\n",
       "</g> <!-- transform -->\n",
       "<g transform=\"matrix(0.75, 0, 0, 0.75, 155, 144.14727020263672)\">\n",
       "<g fill=\"#50395d\" fill-opacity=\"1\" fill-rule=\"nonzero\" stroke=\"none\">\n",
       "  <path d=\"M 90.18016052246094 84.63813781738281 C 90.18016052246094 90.43712769060613 85.47915039568426 95.13813781738281 79.68016052246094 95.13813781738281 C 73.8811706492376 95.13813781738281 69.18016052246094 90.43712769060613 69.18016052246094 84.63813781738281 C 69.18016052246094 78.83914794415948 73.8811706492376 74.13813781738281 79.68016052246094 74.13813781738281 C 85.47915039568426 74.13813781738281 90.18016052246094 78.83914794415948 90.18016052246094 84.63813781738281 z\"/>\n",
       "</g> <!-- drawing style -->\n",
       "</g> <!-- transform -->\n",
       "<g transform=\"matrix(0.75, 0, 0, 0.75, 224.1351203918457, 225.28602981567383)\">\n",
       "<text fill=\"#cccccc\" fill-opacity=\"1\" font-family=\"Helvetica\" font-size=\"16\" font-style=\"normal\" font-weight=\"normal\" stroke=\"none\" x=\"0\" y=\"0\">topology.qualifier/filter-fully-qualified </text>\n",
       "</g> <!-- transform -->\n",
       "<g transform=\"matrix(0.75, 0, 0, 0.75, 155, 144.14727020263672)\">\n",
       "<g fill=\"none\" stroke=\"#eb1b59\" stroke-linecap=\"round\" stroke-linejoin=\"round\" stroke-opacity=\"1\" stroke-width=\"4\">\n",
       "  <path d=\"M -71.65534973144531 -158.97528076171875 C -71.65534973144531 -153.17629088849543 -76.35635985822199 -148.47528076171875 -82.15534973144531 -148.47528076171875 C -87.95433960466865 -148.47528076171875 -92.65534973144531 -153.17629088849543 -92.65534973144531 -158.97528076171875 C -92.65534973144531 -164.77427063494207 -87.95433960466865 -169.47528076171875 -82.15534973144531 -169.47528076171875 C -76.35635985822199 -169.47528076171875 -71.65534973144531 -164.77427063494207 -71.65534973144531 -158.97528076171875 z\"/>\n",
       "</g> <!-- drawing style -->\n",
       "</g> <!-- transform -->\n",
       "<g transform=\"matrix(0.75, 0, 0, 0.75, 155, 144.14727020263672)\">\n",
       "<g fill=\"#67404a\" fill-opacity=\"1\" fill-rule=\"nonzero\" stroke=\"none\">\n",
       "  <path d=\"M -71.65534973144531 -158.97528076171875 C -71.65534973144531 -153.17629088849543 -76.35635985822199 -148.47528076171875 -82.15534973144531 -148.47528076171875 C -87.95433960466865 -148.47528076171875 -92.65534973144531 -153.17629088849543 -92.65534973144531 -158.97528076171875 C -92.65534973144531 -164.77427063494207 -87.95433960466865 -169.47528076171875 -82.15534973144531 -169.47528076171875 C -76.35635985822199 -169.47528076171875 -71.65534973144531 -164.77427063494207 -71.65534973144531 -158.97528076171875 z\"/>\n",
       "</g> <!-- drawing style -->\n",
       "</g> <!-- transform -->\n",
       "<g transform=\"matrix(0.75, 0, 0, 0.75, 102.75848770141602, 42.575965881347656)\">\n",
       "<text fill=\"#cccccc\" fill-opacity=\"1\" font-family=\"Helvetica\" font-size=\"16\" font-style=\"normal\" font-weight=\"normal\" stroke=\"none\" x=\"0\" y=\"0\">clojure.core/println</text>\n",
       "</g> <!-- transform -->\n",
       "<g transform=\"matrix(0.75, 0, 0, 0.75, 155, 144.14727020263672)\">\n",
       "<g fill=\"none\" stroke=\"#ff9800\" stroke-linecap=\"round\" stroke-linejoin=\"round\" stroke-opacity=\"1\" stroke-width=\"4\">\n",
       "  <path d=\"M 91.70980072021484 201.70419311523438 C 91.70980072021484 207.5031829884577 87.00879059343816 212.20419311523438 81.20980072021484 212.20419311523438 C 75.41081084699151 212.20419311523438 70.70980072021484 207.5031829884577 70.70980072021484 201.70419311523438 C 70.70980072021484 195.90520324201105 75.41081084699151 191.20419311523438 81.20980072021484 191.20419311523438 C 87.00879059343816 191.20419311523438 91.70980072021484 195.90520324201105 91.70980072021484 201.70419311523438 z\"/>\n",
       "</g> <!-- drawing style -->\n",
       "</g> <!-- transform -->\n",
       "<g transform=\"matrix(0.75, 0, 0, 0.75, 155, 144.14727020263672)\">\n",
       "<g fill=\"#685c49\" fill-opacity=\"1\" fill-rule=\"nonzero\" stroke=\"none\">\n",
       "  <path d=\"M 91.70980072021484 201.70419311523438 C 91.70980072021484 207.5031829884577 87.00879059343816 212.20419311523438 81.20980072021484 212.20419311523438 C 75.41081084699151 212.20419311523438 70.70980072021484 207.5031829884577 70.70980072021484 201.70419311523438 C 70.70980072021484 195.90520324201105 75.41081084699151 191.20419311523438 81.20980072021484 191.20419311523438 C 87.00879059343816 191.20419311523438 91.70980072021484 195.90520324201105 91.70980072021484 201.70419311523438 z\"/>\n",
       "</g> <!-- drawing style -->\n",
       "</g> <!-- transform -->\n",
       "<g transform=\"matrix(0.75, 0, 0, 0.75, 225.28235626220703, 313.0855712890625)\">\n",
       "<text fill=\"#cccccc\" fill-opacity=\"1\" font-family=\"Helvetica\" font-size=\"16\" font-style=\"normal\" font-weight=\"normal\" stroke=\"none\" x=\"0\" y=\"0\">topology.dependencies/sources </text>\n",
       "</g> <!-- transform -->\n",
       "<g transform=\"matrix(0.75, 0, 0, 0.75, 155, 144.14727020263672)\">\n",
       "<g fill=\"none\" stroke=\"#eb1b59\" stroke-linecap=\"round\" stroke-linejoin=\"round\" stroke-opacity=\"1\" stroke-width=\"4\">\n",
       "  <path d=\"M -161.51162719726562 -120.19683837890625 C -161.51162719726562 -114.39784850568293 -166.2126373240423 -109.69683837890625 -172.01162719726562 -109.69683837890625 C -177.81061707048895 -109.69683837890625 -182.51162719726562 -114.39784850568293 -182.51162719726562 -120.19683837890625 C -182.51162719726562 -125.99582825212958 -177.81061707048895 -130.69683837890625 -172.01162719726562 -130.69683837890625 C -166.2126373240423 -130.69683837890625 -161.51162719726562 -125.99582825212958 -161.51162719726562 -120.19683837890625 z\"/>\n",
       "</g> <!-- drawing style -->\n",
       "</g> <!-- transform -->\n",
       "<g transform=\"matrix(0.75, 0, 0, 0.75, 155, 144.14727020263672)\">\n",
       "<g fill=\"#67404a\" fill-opacity=\"1\" fill-rule=\"nonzero\" stroke=\"none\">\n",
       "  <path d=\"M -161.51162719726562 -120.19683837890625 C -161.51162719726562 -114.39784850568293 -166.2126373240423 -109.69683837890625 -172.01162719726562 -109.69683837890625 C -177.81061707048895 -109.69683837890625 -182.51162719726562 -114.39784850568293 -182.51162719726562 -120.19683837890625 C -182.51162719726562 -125.99582825212958 -177.81061707048895 -130.69683837890625 -172.01162719726562 -130.69683837890625 C -166.2126373240423 -130.69683837890625 -161.51162719726562 -125.99582825212958 -161.51162719726562 -120.19683837890625 z\"/>\n",
       "</g> <!-- drawing style -->\n",
       "</g> <!-- transform -->\n",
       "<g transform=\"matrix(0.75, 0, 0, 0.75, 35.36627960205078, 71.65979766845703)\">\n",
       "<text fill=\"#cccccc\" fill-opacity=\"1\" font-family=\"Helvetica\" font-size=\"16\" font-style=\"normal\" font-weight=\"normal\" stroke=\"none\" x=\"0\" y=\"0\">topology.printer/print-weighted-edges </text>\n",
       "</g> <!-- transform -->\n",
       "<g transform=\"matrix(0.75, 0, 0, 0.75, 155, 144.14727020263672)\">\n",
       "<g fill=\"none\" stroke=\"#c256fc\" stroke-linecap=\"round\" stroke-linejoin=\"round\" stroke-opacity=\"1\" stroke-width=\"4\">\n",
       "  <path d=\"M 164.63290405273438 -22.25457763671875 C 164.63290405273438 -16.455587763495423 159.9318939259577 -11.75457763671875 154.13290405273438 -11.75457763671875 C 148.33391417951105 -11.75457763671875 143.63290405273438 -16.455587763495423 143.63290405273438 -22.25457763671875 C 143.63290405273438 -28.05356750994208 148.33391417951105 -32.75457763671875 154.13290405273438 -32.75457763671875 C 159.9318939259577 -32.75457763671875 164.63290405273438 -28.05356750994208 164.63290405273438 -22.25457763671875 z\"/>\n",
       "</g> <!-- drawing style -->\n",
       "</g> <!-- transform -->\n",
       "<g transform=\"matrix(0.75, 0, 0, 0.75, 155, 144.14727020263672)\">\n",
       "<g fill=\"#50395d\" fill-opacity=\"1\" fill-rule=\"nonzero\" stroke=\"none\">\n",
       "  <path d=\"M 164.63290405273438 -22.25457763671875 C 164.63290405273438 -16.455587763495423 159.9318939259577 -11.75457763671875 154.13290405273438 -11.75457763671875 C 148.33391417951105 -11.75457763671875 143.63290405273438 -16.455587763495423 143.63290405273438 -22.25457763671875 C 143.63290405273438 -28.05356750994208 148.33391417951105 -32.75457763671875 154.13290405273438 -32.75457763671875 C 159.9318939259577 -32.75457763671875 164.63290405273438 -28.05356750994208 164.63290405273438 -22.25457763671875 z\"/>\n",
       "</g> <!-- drawing style -->\n",
       "</g> <!-- transform -->\n",
       "<g transform=\"matrix(0.75, 0, 0, 0.75, 279.9746780395508, 145.11649322509766)\">\n",
       "<text fill=\"#cccccc\" fill-opacity=\"1\" font-family=\"Helvetica\" font-size=\"16\" font-style=\"normal\" font-weight=\"normal\" stroke=\"none\" x=\"0\" y=\"0\">topology.qualifier/fq-ns</text>\n",
       "</g> <!-- transform -->\n",
       "<g transform=\"matrix(0.75, 0, 0, 0.75, 155, 144.14727020263672)\">\n",
       "<g fill=\"none\" stroke=\"#c256fc\" stroke-linecap=\"round\" stroke-linejoin=\"round\" stroke-opacity=\"1\" stroke-width=\"4\">\n",
       "  <path d=\"M 127.35322570800781 30.922077178955078 C 127.35322570800781 36.721067052178405 122.65221558123113 41.42207717895508 116.85322570800781 41.42207717895508 C 111.05423583478448 41.42207717895508 106.35322570800781 36.721067052178405 106.35322570800781 30.922077178955078 C 106.35322570800781 25.123087305731747 111.05423583478448 20.422077178955078 116.85322570800781 20.422077178955078 C 122.65221558123113 20.422077178955078 127.35322570800781 25.123087305731747 127.35322570800781 30.922077178955078 z\"/>\n",
       "</g> <!-- drawing style -->\n",
       "</g> <!-- transform -->\n",
       "<g transform=\"matrix(0.75, 0, 0, 0.75, 155, 144.14727020263672)\">\n",
       "<g fill=\"#50395d\" fill-opacity=\"1\" fill-rule=\"nonzero\" stroke=\"none\">\n",
       "  <path d=\"M 127.35322570800781 30.922077178955078 C 127.35322570800781 36.721067052178405 122.65221558123113 41.42207717895508 116.85322570800781 41.42207717895508 C 111.05423583478448 41.42207717895508 106.35322570800781 36.721067052178405 106.35322570800781 30.922077178955078 C 106.35322570800781 25.123087305731747 111.05423583478448 20.422077178955078 116.85322570800781 20.422077178955078 C 122.65221558123113 20.422077178955078 127.35322570800781 25.123087305731747 127.35322570800781 30.922077178955078 z\"/>\n",
       "</g> <!-- drawing style -->\n",
       "</g> <!-- transform -->\n",
       "<g transform=\"matrix(0.75, 0, 0, 0.75, 252.01491928100586, 184.99898433685303)\">\n",
       "<text fill=\"#cccccc\" fill-opacity=\"1\" font-family=\"Helvetica\" font-size=\"16\" font-style=\"normal\" font-weight=\"normal\" stroke=\"none\" x=\"0\" y=\"0\">topology.qualifier/all-fq</text>\n",
       "</g> <!-- transform -->\n",
       "<g transform=\"matrix(0.75, 0, 0, 0.75, 155, 144.14727020263672)\">\n",
       "<g fill=\"none\" stroke=\"#0278fd\" stroke-linecap=\"round\" stroke-linejoin=\"round\" stroke-opacity=\"1\" stroke-width=\"4\">\n",
       "  <path d=\"M 507.4039306640625 62.39043426513672 C 507.4039306640625 68.18942413836004 502.7029205372858 72.89043426513672 496.9039306640625 72.89043426513672 C 491.1049407908392 72.89043426513672 486.4039306640625 68.18942413836004 486.4039306640625 62.39043426513672 C 486.4039306640625 56.59144439191339 491.1049407908392 51.89043426513672 496.9039306640625 51.89043426513672 C 502.7029205372858 51.89043426513672 507.4039306640625 56.59144439191339 507.4039306640625 62.39043426513672 z\"/>\n",
       "</g> <!-- drawing style -->\n",
       "</g> <!-- transform -->\n",
       "<g transform=\"matrix(0.75, 0, 0, 0.75, 155, 144.14727020263672)\">\n",
       "<g fill=\"#294462\" fill-opacity=\"1\" fill-rule=\"nonzero\" stroke=\"none\">\n",
       "  <path d=\"M 507.4039306640625 62.39043426513672 C 507.4039306640625 68.18942413836004 502.7029205372858 72.89043426513672 496.9039306640625 72.89043426513672 C 491.1049407908392 72.89043426513672 486.4039306640625 68.18942413836004 486.4039306640625 62.39043426513672 C 486.4039306640625 56.59144439191339 491.1049407908392 51.89043426513672 496.9039306640625 51.89043426513672 C 502.7029205372858 51.89043426513672 507.4039306640625 56.59144439191339 507.4039306640625 62.39043426513672 z\"/>\n",
       "</g> <!-- drawing style -->\n",
       "</g> <!-- transform -->\n",
       "<g transform=\"matrix(0.75, 0, 0, 0.75, 537.0529479980469, 208.60025215148926)\">\n",
       "<text fill=\"#cccccc\" fill-opacity=\"1\" font-family=\"Helvetica\" font-size=\"16\" font-style=\"normal\" font-weight=\"normal\" stroke=\"none\" x=\"0\" y=\"0\">topology.symbols/seq-map-zip </text>\n",
       "</g> <!-- transform -->\n",
       "<g transform=\"matrix(0.75, 0, 0, 0.75, 155, 144.14727020263672)\">\n",
       "<g fill=\"none\" stroke=\"#ff9800\" stroke-linecap=\"round\" stroke-linejoin=\"round\" stroke-opacity=\"1\" stroke-width=\"4\">\n",
       "  <path d=\"M 576.1497802734375 322.81683349609375 C 576.1497802734375 328.61582336931707 571.4487701466609 333.31683349609375 565.6497802734375 333.31683349609375 C 559.8507904002141 333.31683349609375 555.1497802734375 328.61582336931707 555.1497802734375 322.81683349609375 C 555.1497802734375 317.01784362287043 559.8507904002141 312.31683349609375 565.6497802734375 312.31683349609375 C 571.4487701466609 312.31683349609375 576.1497802734375 317.01784362287043 576.1497802734375 322.81683349609375 z\"/>\n",
       "</g> <!-- drawing style -->\n",
       "</g> <!-- transform -->\n",
       "<g transform=\"matrix(0.75, 0, 0, 0.75, 155, 144.14727020263672)\">\n",
       "<g fill=\"#685c49\" fill-opacity=\"1\" fill-rule=\"nonzero\" stroke=\"none\">\n",
       "  <path d=\"M 576.1497802734375 322.81683349609375 C 576.1497802734375 328.61582336931707 571.4487701466609 333.31683349609375 565.6497802734375 333.31683349609375 C 559.8507904002141 333.31683349609375 555.1497802734375 328.61582336931707 555.1497802734375 322.81683349609375 C 555.1497802734375 317.01784362287043 559.8507904002141 312.31683349609375 565.6497802734375 312.31683349609375 C 571.4487701466609 312.31683349609375 576.1497802734375 317.01784362287043 576.1497802734375 322.81683349609375 z\"/>\n",
       "</g> <!-- drawing style -->\n",
       "</g> <!-- transform -->\n",
       "<g transform=\"matrix(0.75, 0, 0, 0.75, 588.6123352050781, 403.92005157470703)\">\n",
       "<text fill=\"#cccccc\" fill-opacity=\"1\" font-family=\"Helvetica\" font-size=\"16\" font-style=\"normal\" font-weight=\"normal\" stroke=\"none\" x=\"0\" y=\"0\">topology.dependencies-test/should-compute-fn-calls-in-namespace </text>\n",
       "</g> <!-- transform -->\n",
       "<g transform=\"matrix(0.75, 0, 0, 0.75, 155, 144.14727020263672)\">\n",
       "<g fill=\"none\" stroke=\"#0278fd\" stroke-linecap=\"round\" stroke-linejoin=\"round\" stroke-opacity=\"1\" stroke-width=\"4\">\n",
       "  <path d=\"M 462.6331481933594 96.28380584716797 C 462.6331481933594 102.08279572039129 457.9321380665827 106.78380584716797 452.1331481933594 106.78380584716797 C 446.33415832013605 106.78380584716797 441.6331481933594 102.08279572039129 441.6331481933594 96.28380584716797 C 441.6331481933594 90.48481597394463 446.33415832013605 85.78380584716797 452.1331481933594 85.78380584716797 C 457.9321380665827 85.78380584716797 462.6331481933594 90.48481597394463 462.6331481933594 96.28380584716797 z\"/>\n",
       "</g> <!-- drawing style -->\n",
       "</g> <!-- transform -->\n",
       "<g transform=\"matrix(0.75, 0, 0, 0.75, 155, 144.14727020263672)\">\n",
       "<g fill=\"#294462\" fill-opacity=\"1\" fill-rule=\"nonzero\" stroke=\"none\">\n",
       "  <path d=\"M 462.6331481933594 96.28380584716797 C 462.6331481933594 102.08279572039129 457.9321380665827 106.78380584716797 452.1331481933594 106.78380584716797 C 446.33415832013605 106.78380584716797 441.6331481933594 102.08279572039129 441.6331481933594 96.28380584716797 C 441.6331481933594 90.48481597394463 446.33415832013605 85.78380584716797 452.1331481933594 85.78380584716797 C 457.9321380665827 85.78380584716797 462.6331481933594 90.48481597394463 462.6331481933594 96.28380584716797 z\"/>\n",
       "</g> <!-- drawing style -->\n",
       "</g> <!-- transform -->\n",
       "<g transform=\"matrix(0.75, 0, 0, 0.75, 503.4748840332031, 234.0202808380127)\">\n",
       "<text fill=\"#cccccc\" fill-opacity=\"1\" font-family=\"Helvetica\" font-size=\"16\" font-style=\"normal\" font-weight=\"normal\" stroke=\"none\" x=\"0\" y=\"0\">topology.symbols/zip-nodes </text>\n",
       "</g> <!-- transform -->\n",
       "<g transform=\"matrix(0.75, 0, 0, 0.75, 155, 144.14727020263672)\">\n",
       "<g fill=\"none\" stroke=\"#eb1b59\" stroke-linecap=\"round\" stroke-linejoin=\"round\" stroke-opacity=\"1\" stroke-width=\"4\">\n",
       "  <path d=\"M 379.2214660644531 -45.674407958984375 C 379.2214660644531 -39.87541808576105 374.52045593767645 -35.174407958984375 368.7214660644531 -35.174407958984375 C 362.9224761912298 -35.174407958984375 358.2214660644531 -39.87541808576105 358.2214660644531 -45.674407958984375 C 358.2214660644531 -51.4733978322077 362.9224761912298 -56.174407958984375 368.7214660644531 -56.174407958984375 C 374.52045593767645 -56.174407958984375 379.2214660644531 -51.4733978322077 379.2214660644531 -45.674407958984375 z\"/>\n",
       "</g> <!-- drawing style -->\n",
       "</g> <!-- transform -->\n",
       "<g transform=\"matrix(0.75, 0, 0, 0.75, 155, 144.14727020263672)\">\n",
       "<g fill=\"#67404a\" fill-opacity=\"1\" fill-rule=\"nonzero\" stroke=\"none\">\n",
       "  <path d=\"M 379.2214660644531 -45.674407958984375 C 379.2214660644531 -39.87541808576105 374.52045593767645 -35.174407958984375 368.7214660644531 -35.174407958984375 C 362.9224761912298 -35.174407958984375 358.2214660644531 -39.87541808576105 358.2214660644531 -45.674407958984375 C 358.2214660644531 -51.4733978322077 362.9224761912298 -56.174407958984375 368.7214660644531 -56.174407958984375 C 374.52045593767645 -56.174407958984375 379.2214660644531 -51.4733978322077 379.2214660644531 -45.674407958984375 z\"/>\n",
       "</g> <!-- drawing style -->\n",
       "</g> <!-- transform -->\n",
       "<g transform=\"matrix(0.75, 0, 0, 0.75, 440.91609954833984, 127.55162048339844)\">\n",
       "<text fill=\"#cccccc\" fill-opacity=\"1\" font-family=\"Helvetica\" font-size=\"16\" font-style=\"normal\" font-weight=\"normal\" stroke=\"none\" x=\"0\" y=\"0\">clojure.core/*err*</text>\n",
       "</g> <!-- transform -->\n",
       "<g transform=\"matrix(0.75, 0, 0, 0.75, 155, 144.14727020263672)\">\n",
       "<g fill=\"none\" stroke=\"#0278fd\" stroke-linecap=\"round\" stroke-linejoin=\"round\" stroke-opacity=\"1\" stroke-width=\"4\">\n",
       "  <path d=\"M 406.9121398925781 129.42098999023438 C 406.9121398925781 135.2199798634577 402.21112976580145 139.92098999023438 396.4121398925781 139.92098999023438 C 390.6131500193548 139.92098999023438 385.9121398925781 135.2199798634577 385.9121398925781 129.42098999023438 C 385.9121398925781 123.62200011701104 390.6131500193548 118.92098999023438 396.4121398925781 118.92098999023438 C 402.21112976580145 118.92098999023438 406.9121398925781 123.62200011701104 406.9121398925781 129.42098999023438 z\"/>\n",
       "</g> <!-- drawing style -->\n",
       "</g> <!-- transform -->\n",
       "<g transform=\"matrix(0.75, 0, 0, 0.75, 155, 144.14727020263672)\">\n",
       "<g fill=\"#294462\" fill-opacity=\"1\" fill-rule=\"nonzero\" stroke=\"none\">\n",
       "  <path d=\"M 406.9121398925781 129.42098999023438 C 406.9121398925781 135.2199798634577 402.21112976580145 139.92098999023438 396.4121398925781 139.92098999023438 C 390.6131500193548 139.92098999023438 385.9121398925781 135.2199798634577 385.9121398925781 129.42098999023438 C 385.9121398925781 123.62200011701104 390.6131500193548 118.92098999023438 396.4121398925781 118.92098999023438 C 402.21112976580145 118.92098999023438 406.9121398925781 123.62200011701104 406.9121398925781 129.42098999023438 z\"/>\n",
       "</g> <!-- drawing style -->\n",
       "</g> <!-- transform -->\n",
       "<g transform=\"matrix(0.75, 0, 0, 0.75, 461.68408203125, 258.8731689453125)\">\n",
       "<text fill=\"#cccccc\" fill-opacity=\"1\" font-family=\"Helvetica\" font-size=\"16\" font-style=\"normal\" font-weight=\"normal\" stroke=\"none\" x=\"0\" y=\"0\">topology.symbols/symbols </text>\n",
       "</g> <!-- transform -->\n",
       "</g> <!-- default stroke -->\n",
       "</svg>"
      ],
      "text/plain": [
       "<IPython.core.display.SVG object>"
      ]
     },
     "metadata": {},
     "output_type": "display_data"
    }
   ],
   "source": [
    "from IPython.display import SVG, display\n",
    "\n",
    "svg_data = network.get_svg()\n",
    "display(SVG(svg_data))"
   ]
  },
  {
   "cell_type": "code",
   "execution_count": 59,
   "metadata": {
    "collapsed": false
   },
   "outputs": [],
   "source": [
    "# Write the svg to a file if everything looks good:\n",
    "with open(data_path + '.svg', 'w') as f:\n",
    "    f.write(svg_data)"
   ]
  }
 ],
 "metadata": {
  "kernelspec": {
   "display_name": "Python 2",
   "language": "python",
   "name": "python2"
  },
  "language_info": {
   "codemirror_mode": {
    "name": "ipython",
    "version": 2
   },
   "file_extension": ".py",
   "mimetype": "text/x-python",
   "name": "python",
   "nbconvert_exporter": "python",
   "pygments_lexer": "ipython2",
   "version": "2.7.12"
  }
 },
 "nbformat": 4,
 "nbformat_minor": 0
}
