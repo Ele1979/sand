{
 "cells": [
  {
   "cell_type": "markdown",
   "metadata": {
    "slideshow": {
     "slide_type": "slide"
    }
   },
   "source": [
    "## Visualizing code with a Dependency Structure Matrix (DSM)\n",
    "\n",
    "`'s','t',1` => `[{'source': 's','target': 't','weight': '1'}]`"
   ]
  },
  {
   "cell_type": "code",
   "execution_count": 1,
   "metadata": {
    "collapsed": false,
    "slideshow": {
     "slide_type": "fragment"
    }
   },
   "outputs": [],
   "source": [
    "from sand.io import *\n",
    "\n",
    "network_data = csv_to_edgelist('./data/lein-topology-faad435.csv')"
   ]
  },
  {
   "cell_type": "code",
   "execution_count": 2,
   "metadata": {
    "collapsed": false,
    "slideshow": {
     "slide_type": "fragment"
    }
   },
   "outputs": [
    {
     "data": {
      "text/plain": [
       "204"
      ]
     },
     "execution_count": 2,
     "metadata": {},
     "output_type": "execute_result"
    }
   ],
   "source": [
    "len(network_data)"
   ]
  },
  {
   "cell_type": "code",
   "execution_count": 3,
   "metadata": {
    "collapsed": false,
    "scrolled": true,
    "slideshow": {
     "slide_type": "slide"
    }
   },
   "outputs": [
    {
     "data": {
      "text/plain": [
       "[{'source': 'topology.dependencies/dependencies',\n",
       "  'target': 'clojure.core/defn-',\n",
       "  'weight': '1'},\n",
       " {'source': 'topology.dependencies/filtered',\n",
       "  'target': 'clojure.core/filter',\n",
       "  'weight': '1'},\n",
       " {'source': 'topology.dependencies-test/should-compute-fn-calls-in-namespace',\n",
       "  'target': 'clojure.core/defn',\n",
       "  'weight': '1'},\n",
       " {'source': 'example/test-when', 'target': 'clojure.core/cons', 'weight': '1'},\n",
       " {'source': 'leiningen.topology/topology',\n",
       "  'target': 'org.clojure/clojure',\n",
       "  'weight': '1'}]"
      ]
     },
     "execution_count": 3,
     "metadata": {},
     "output_type": "execute_result"
    }
   ],
   "source": [
    "list(network_data)[:5]"
   ]
  },
  {
   "cell_type": "markdown",
   "metadata": {
    "slideshow": {
     "slide_type": "slide"
    }
   },
   "source": [
    "Let's look at the Dependency Structure Matrix or DSM.\n",
    "\n",
    "This is an $N^2$ matrix representing the network of relationships `row -depends-> column`.\n",
    "\n",
    "Try sorting the entries by outdegree. Notice how most of the most of the lower half of the matrix is empty?\n",
    "\n",
    "There is more to come in later work about [DSM's for software](https://en.wikipedia.org/wiki/Design_structure_matrix). "
   ]
  },
  {
   "cell_type": "code",
   "execution_count": 4,
   "metadata": {
    "collapsed": false,
    "scrolled": true,
    "slideshow": {
     "slide_type": "slide"
    }
   },
   "outputs": [
    {
     "data": {
      "text/html": [
       "\n",
       "        <iframe\n",
       "            width=\"100%\"\n",
       "            height=\"800\"\n",
       "            src=\"figure/graph-00cc3e43-fe67-4dfa-ae5a-a2c1045bcca0.html\"\n",
       "            frameborder=\"0\"\n",
       "            allowfullscreen\n",
       "        ></iframe>\n",
       "        "
      ],
      "text/plain": [
       "<IPython.lib.display.IFrame at 0x10482cd10>"
      ]
     },
     "execution_count": 4,
     "metadata": {},
     "output_type": "execute_result"
    }
   ],
   "source": [
    "from sand.matrix import *\n",
    "\n",
    "matrix(network_data, 800)"
   ]
  },
  {
   "cell_type": "markdown",
   "metadata": {
    "slideshow": {
     "slide_type": "slide"
    }
   },
   "source": [
    "_screenshot of the iframe content in the cell above for github previews_\n",
    "\n",
    "<img src='./img/matrix.png' width=600/>"
   ]
  },
  {
   "cell_type": "markdown",
   "metadata": {
    "collapsed": true,
    "slideshow": {
     "slide_type": "slide"
    }
   },
   "source": [
    "### DSM Visualization Exercise Ideas\n",
    "\n",
    "* We would ideally like to order this by group. In this case, namespace is a reasonable way to group. There are many potential options.\n",
    "\n",
    "* Coloring cells could be done in a more interesting way.\n",
    "\n",
    "* Abbreviating columns would be useful."
   ]
  }
 ],
 "metadata": {
  "celltoolbar": "Slideshow",
  "kernelspec": {
   "display_name": "Python 2",
   "language": "python",
   "name": "python2"
  },
  "language_info": {
   "codemirror_mode": {
    "name": "ipython",
    "version": 2
   },
   "file_extension": ".py",
   "mimetype": "text/x-python",
   "name": "python",
   "nbconvert_exporter": "python",
   "pygments_lexer": "ipython2",
   "version": "2.7.12"
  }
 },
 "nbformat": 4,
 "nbformat_minor": 0
}
